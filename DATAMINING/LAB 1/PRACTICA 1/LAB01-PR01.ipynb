{
 "cells": [
  {
   "cell_type": "markdown",
   "metadata": {},
   "source": [
    "# Laboratorio 1 - Práctica 1.\n",
    "### Gonzalo de las Heras de Matías - Jorge de la Fuente Tagarro\n",
    "## Impacto de las restricciones de tráfico en la calidad del aire.\n",
    "\n",
    "![title](Images/madrid.jpg)\n",
    "\n",
    "### Objetivo \n",
    "\n",
    "El 30 de diciembre de 2016 el Ayuntamiento de Madrid empieza a restringir el tráfico al centro de la ciudad\n",
    "mediante la aplicación del escenario 3 del protocolo de contaminación. Esta fue la primera vez que se aplicó\n",
    "un escenario tan restrictivo. Demuestra mediante visualizaciones de datos que ha ocurrido después de ello.\n",
    "Para dicho problema, haremos uso de un dataset con datos sobre la calidad del aire en Madrid desde 2001. El\n",
    "dataset contiene un archivo csv por año. Dentro de cada uno de ellos habrá medidas diarias de distintas\n",
    "estaciones. Estas estaciones miden diferentes parámetros y no siempre todos se registran en cada una de las\n",
    "estaciones.\n",
    "\n",
    "Enlace dataset: https://www.kaggle.com/decide-soluciones/air-quality-madrid/downloads/csvs_per_year.zip/5"
   ]
  },
  {
   "cell_type": "markdown",
   "metadata": {},
   "source": [
    "#### Librerias"
   ]
  },
  {
   "cell_type": "code",
   "execution_count": 1,
   "metadata": {},
   "outputs": [],
   "source": [
    "import pandas as pd\n",
    "import os\n",
    "import glob\n",
    "import numpy as np\n",
    "import matplotlib.pyplot as plt\n",
    "import datetime as dt\n",
    "from matplotlib.pyplot import cm\n",
    "import warnings\n",
    "warnings.filterwarnings('ignore')"
   ]
  },
  {
   "attachments": {
    "Screenshot_1.png": {
     "image/png": "[encoded data removed]"
    }
   },
   "cell_type": "markdown",
   "metadata": {},
   "source": [
    "## Ejercicio 1\n",
    "#### Lo primero que tendremos que hacer es cargar todos los archivos csv en un mismo DataFrame para poder manipularlos. Habrá que comprobar si existen datos redundantes o anómalos.\n",
    "\n",
    "#### Para medir la calidad del aire de un día obtendremos el peor valor de cada estación meteorológica ese día y después calcularemos la media de estos. Con dicho valor se estimará como de buena es la calidad teniendo en cuenta la siguiente tabla. Al final habrá que hacer una transformación de valores continuos a categóricos. \n",
    "\n",
    "#### Proporcionar dicha información en un DataFrame y luego guardarlo en un archivo csv.\n",
    "\n",
    "![Screenshot_1.png](attachment:Screenshot_1.png)"
   ]
  },
  {
   "cell_type": "markdown",
   "metadata": {},
   "source": [
    "#### Funciones"
   ]
  },
  {
   "cell_type": "code",
   "execution_count": 2,
   "metadata": {},
   "outputs": [],
   "source": [
    "# Función para categorizar la media del aire.\n",
    "def custom_categorical(valor):\n",
    "    if valor < 49:\n",
    "        return 1\n",
    "    if valor < 99:\n",
    "        return 2\n",
    "    if valor < 150:\n",
    "        return 3\n",
    "    return 4"
   ]
  },
  {
   "cell_type": "markdown",
   "metadata": {},
   "source": [
    "<font color = 'blue'>Primero tenemos que unir todos los ficheros de datos en uno solo.</font>"
   ]
  },
  {
   "cell_type": "code",
   "execution_count": 3,
   "metadata": {},
   "outputs": [
    {
     "name": "stdout",
     "output_type": "stream",
     "text": [
      "Hay 3808224 registros\n"
     ]
    }
   ],
   "source": [
    "# Ruta de los ficheros.\n",
    "ruta = 'Datos/Original/'\n",
    "\n",
    "# Carga de los ficheros.\n",
    "ficheros = glob.glob(ruta + \"/*.csv\")\n",
    "Dataframe = pd.DataFrame()\n",
    "lista_dataframe = []\n",
    "for fichero in ficheros:\n",
    "    dataframe_temp = pd.read_csv(fichero, index_col=0, header=0)\n",
    "    lista_dataframe.append(dataframe_temp)\n",
    "    \n",
    "# Unión de los ficheros.\n",
    "Dataframe = pd.concat(lista_dataframe, sort=False)\n",
    "\n",
    "# Guardamos el csv unido.\n",
    "Dataframe.to_csv(\"Datos/datos_unidos.csv\", encoding=\"ISO-8859-1\")\n",
    "\n",
    "# Contamos el número de registros del dataset.\n",
    "print(\"Hay \" + str(len(Dataframe)) + \" registros\")"
   ]
  },
  {
   "cell_type": "markdown",
   "metadata": {},
   "source": [
    "<font color = 'blue'>Cargamos el fichero de datos unido y lo tratamos para limpiar y organizar el dataset.</font>"
   ]
  },
  {
   "cell_type": "code",
   "execution_count": 4,
   "metadata": {
    "scrolled": false
   },
   "outputs": [
    {
     "data": {
      "text/html": [
       "<div>\n",
       "<style scoped>\n",
       "    .dataframe tbody tr th:only-of-type {\n",
       "        vertical-align: middle;\n",
       "    }\n",
       "\n",
       "    .dataframe tbody tr th {\n",
       "        vertical-align: top;\n",
       "    }\n",
       "\n",
       "    .dataframe thead th {\n",
       "        text-align: right;\n",
       "    }\n",
       "</style>\n",
       "<table border=\"1\" class=\"dataframe\">\n",
       "  <thead>\n",
       "    <tr style=\"text-align: right;\">\n",
       "      <th></th>\n",
       "      <th>date</th>\n",
       "      <th>BEN</th>\n",
       "      <th>CO</th>\n",
       "      <th>EBE</th>\n",
       "      <th>MXY</th>\n",
       "      <th>NMHC</th>\n",
       "      <th>NO_2</th>\n",
       "      <th>NOx</th>\n",
       "      <th>OXY</th>\n",
       "      <th>O_3</th>\n",
       "      <th>PM10</th>\n",
       "      <th>PM25</th>\n",
       "      <th>PXY</th>\n",
       "      <th>SO_2</th>\n",
       "      <th>TCH</th>\n",
       "      <th>TOL</th>\n",
       "      <th>station</th>\n",
       "      <th>CH4</th>\n",
       "      <th>NO</th>\n",
       "      <th>max</th>\n",
       "    </tr>\n",
       "  </thead>\n",
       "  <tbody>\n",
       "    <tr>\n",
       "      <th>0</th>\n",
       "      <td>2001-01-01</td>\n",
       "      <td>NaN</td>\n",
       "      <td>1.45</td>\n",
       "      <td>NaN</td>\n",
       "      <td>NaN</td>\n",
       "      <td>NaN</td>\n",
       "      <td>50.39</td>\n",
       "      <td>159.70</td>\n",
       "      <td>NaN</td>\n",
       "      <td>4.18</td>\n",
       "      <td>21.22</td>\n",
       "      <td>NaN</td>\n",
       "      <td>NaN</td>\n",
       "      <td>10.86</td>\n",
       "      <td>NaN</td>\n",
       "      <td>NaN</td>\n",
       "      <td>28079019</td>\n",
       "      <td>NaN</td>\n",
       "      <td>NaN</td>\n",
       "      <td>159.70</td>\n",
       "    </tr>\n",
       "    <tr>\n",
       "      <th>1</th>\n",
       "      <td>2001-01-01</td>\n",
       "      <td>3.23</td>\n",
       "      <td>1.25</td>\n",
       "      <td>2.56</td>\n",
       "      <td>4.58</td>\n",
       "      <td>0.24</td>\n",
       "      <td>55.29</td>\n",
       "      <td>120.00</td>\n",
       "      <td>2.22</td>\n",
       "      <td>7.83</td>\n",
       "      <td>30.56</td>\n",
       "      <td>NaN</td>\n",
       "      <td>1.80</td>\n",
       "      <td>22.10</td>\n",
       "      <td>1.58</td>\n",
       "      <td>10.74</td>\n",
       "      <td>28079099</td>\n",
       "      <td>NaN</td>\n",
       "      <td>NaN</td>\n",
       "      <td>120.00</td>\n",
       "    </tr>\n",
       "    <tr>\n",
       "      <th>2</th>\n",
       "      <td>2001-01-01</td>\n",
       "      <td>2.13</td>\n",
       "      <td>0.87</td>\n",
       "      <td>1.44</td>\n",
       "      <td>3.16</td>\n",
       "      <td>NaN</td>\n",
       "      <td>53.40</td>\n",
       "      <td>100.00</td>\n",
       "      <td>1.06</td>\n",
       "      <td>8.35</td>\n",
       "      <td>36.67</td>\n",
       "      <td>NaN</td>\n",
       "      <td>1.28</td>\n",
       "      <td>11.42</td>\n",
       "      <td>NaN</td>\n",
       "      <td>7.04</td>\n",
       "      <td>28079025</td>\n",
       "      <td>NaN</td>\n",
       "      <td>NaN</td>\n",
       "      <td>100.00</td>\n",
       "    </tr>\n",
       "    <tr>\n",
       "      <th>3</th>\n",
       "      <td>2001-01-01</td>\n",
       "      <td>0.40</td>\n",
       "      <td>0.79</td>\n",
       "      <td>NaN</td>\n",
       "      <td>2.09</td>\n",
       "      <td>0.14</td>\n",
       "      <td>47.32</td>\n",
       "      <td>54.95</td>\n",
       "      <td>1.17</td>\n",
       "      <td>3.40</td>\n",
       "      <td>14.44</td>\n",
       "      <td>NaN</td>\n",
       "      <td>0.86</td>\n",
       "      <td>9.69</td>\n",
       "      <td>1.51</td>\n",
       "      <td>5.83</td>\n",
       "      <td>28079024</td>\n",
       "      <td>NaN</td>\n",
       "      <td>NaN</td>\n",
       "      <td>54.95</td>\n",
       "    </tr>\n",
       "    <tr>\n",
       "      <th>4</th>\n",
       "      <td>2001-01-01</td>\n",
       "      <td>1.08</td>\n",
       "      <td>0.67</td>\n",
       "      <td>0.96</td>\n",
       "      <td>NaN</td>\n",
       "      <td>0.10</td>\n",
       "      <td>43.82</td>\n",
       "      <td>68.61</td>\n",
       "      <td>NaN</td>\n",
       "      <td>32.49</td>\n",
       "      <td>11.89</td>\n",
       "      <td>NaN</td>\n",
       "      <td>NaN</td>\n",
       "      <td>9.35</td>\n",
       "      <td>1.42</td>\n",
       "      <td>4.49</td>\n",
       "      <td>28079023</td>\n",
       "      <td>NaN</td>\n",
       "      <td>NaN</td>\n",
       "      <td>68.61</td>\n",
       "    </tr>\n",
       "    <tr>\n",
       "      <th>5</th>\n",
       "      <td>2001-01-01</td>\n",
       "      <td>3.00</td>\n",
       "      <td>1.55</td>\n",
       "      <td>NaN</td>\n",
       "      <td>NaN</td>\n",
       "      <td>NaN</td>\n",
       "      <td>55.27</td>\n",
       "      <td>126.70</td>\n",
       "      <td>NaN</td>\n",
       "      <td>6.23</td>\n",
       "      <td>19.61</td>\n",
       "      <td>NaN</td>\n",
       "      <td>NaN</td>\n",
       "      <td>27.27</td>\n",
       "      <td>NaN</td>\n",
       "      <td>7.79</td>\n",
       "      <td>28079022</td>\n",
       "      <td>NaN</td>\n",
       "      <td>NaN</td>\n",
       "      <td>126.70</td>\n",
       "    </tr>\n",
       "    <tr>\n",
       "      <th>6</th>\n",
       "      <td>2001-01-01</td>\n",
       "      <td>NaN</td>\n",
       "      <td>0.92</td>\n",
       "      <td>NaN</td>\n",
       "      <td>NaN</td>\n",
       "      <td>NaN</td>\n",
       "      <td>55.16</td>\n",
       "      <td>117.00</td>\n",
       "      <td>NaN</td>\n",
       "      <td>4.99</td>\n",
       "      <td>18.20</td>\n",
       "      <td>NaN</td>\n",
       "      <td>NaN</td>\n",
       "      <td>32.52</td>\n",
       "      <td>NaN</td>\n",
       "      <td>NaN</td>\n",
       "      <td>28079021</td>\n",
       "      <td>NaN</td>\n",
       "      <td>NaN</td>\n",
       "      <td>117.00</td>\n",
       "    </tr>\n",
       "    <tr>\n",
       "      <th>7</th>\n",
       "      <td>2001-01-01</td>\n",
       "      <td>NaN</td>\n",
       "      <td>1.12</td>\n",
       "      <td>NaN</td>\n",
       "      <td>NaN</td>\n",
       "      <td>NaN</td>\n",
       "      <td>81.36</td>\n",
       "      <td>117.20</td>\n",
       "      <td>NaN</td>\n",
       "      <td>12.89</td>\n",
       "      <td>27.47</td>\n",
       "      <td>NaN</td>\n",
       "      <td>NaN</td>\n",
       "      <td>15.82</td>\n",
       "      <td>NaN</td>\n",
       "      <td>NaN</td>\n",
       "      <td>28079036</td>\n",
       "      <td>NaN</td>\n",
       "      <td>NaN</td>\n",
       "      <td>117.20</td>\n",
       "    </tr>\n",
       "    <tr>\n",
       "      <th>8</th>\n",
       "      <td>2001-01-01</td>\n",
       "      <td>NaN</td>\n",
       "      <td>3.62</td>\n",
       "      <td>NaN</td>\n",
       "      <td>NaN</td>\n",
       "      <td>0.79</td>\n",
       "      <td>59.15</td>\n",
       "      <td>283.90</td>\n",
       "      <td>NaN</td>\n",
       "      <td>7.44</td>\n",
       "      <td>40.14</td>\n",
       "      <td>NaN</td>\n",
       "      <td>NaN</td>\n",
       "      <td>23.39</td>\n",
       "      <td>2.15</td>\n",
       "      <td>NaN</td>\n",
       "      <td>28079018</td>\n",
       "      <td>NaN</td>\n",
       "      <td>NaN</td>\n",
       "      <td>283.90</td>\n",
       "    </tr>\n",
       "    <tr>\n",
       "      <th>9</th>\n",
       "      <td>2001-01-01</td>\n",
       "      <td>NaN</td>\n",
       "      <td>1.23</td>\n",
       "      <td>NaN</td>\n",
       "      <td>NaN</td>\n",
       "      <td>NaN</td>\n",
       "      <td>55.75</td>\n",
       "      <td>127.20</td>\n",
       "      <td>NaN</td>\n",
       "      <td>8.38</td>\n",
       "      <td>44.95</td>\n",
       "      <td>NaN</td>\n",
       "      <td>NaN</td>\n",
       "      <td>14.56</td>\n",
       "      <td>NaN</td>\n",
       "      <td>NaN</td>\n",
       "      <td>28079017</td>\n",
       "      <td>NaN</td>\n",
       "      <td>NaN</td>\n",
       "      <td>127.20</td>\n",
       "    </tr>\n",
       "  </tbody>\n",
       "</table>\n",
       "</div>"
      ],
      "text/plain": [
       "        date   BEN    CO   EBE   MXY  NMHC   NO_2     NOx   OXY    O_3   PM10  \\\n",
       "0 2001-01-01   NaN  1.45   NaN   NaN   NaN  50.39  159.70   NaN   4.18  21.22   \n",
       "1 2001-01-01  3.23  1.25  2.56  4.58  0.24  55.29  120.00  2.22   7.83  30.56   \n",
       "2 2001-01-01  2.13  0.87  1.44  3.16   NaN  53.40  100.00  1.06   8.35  36.67   \n",
       "3 2001-01-01  0.40  0.79   NaN  2.09  0.14  47.32   54.95  1.17   3.40  14.44   \n",
       "4 2001-01-01  1.08  0.67  0.96   NaN  0.10  43.82   68.61   NaN  32.49  11.89   \n",
       "5 2001-01-01  3.00  1.55   NaN   NaN   NaN  55.27  126.70   NaN   6.23  19.61   \n",
       "6 2001-01-01   NaN  0.92   NaN   NaN   NaN  55.16  117.00   NaN   4.99  18.20   \n",
       "7 2001-01-01   NaN  1.12   NaN   NaN   NaN  81.36  117.20   NaN  12.89  27.47   \n",
       "8 2001-01-01   NaN  3.62   NaN   NaN  0.79  59.15  283.90   NaN   7.44  40.14   \n",
       "9 2001-01-01   NaN  1.23   NaN   NaN   NaN  55.75  127.20   NaN   8.38  44.95   \n",
       "\n",
       "   PM25   PXY   SO_2   TCH    TOL   station  CH4  NO     max  \n",
       "0   NaN   NaN  10.86   NaN    NaN  28079019  NaN NaN  159.70  \n",
       "1   NaN  1.80  22.10  1.58  10.74  28079099  NaN NaN  120.00  \n",
       "2   NaN  1.28  11.42   NaN   7.04  28079025  NaN NaN  100.00  \n",
       "3   NaN  0.86   9.69  1.51   5.83  28079024  NaN NaN   54.95  \n",
       "4   NaN   NaN   9.35  1.42   4.49  28079023  NaN NaN   68.61  \n",
       "5   NaN   NaN  27.27   NaN   7.79  28079022  NaN NaN  126.70  \n",
       "6   NaN   NaN  32.52   NaN    NaN  28079021  NaN NaN  117.00  \n",
       "7   NaN   NaN  15.82   NaN    NaN  28079036  NaN NaN  117.20  \n",
       "8   NaN   NaN  23.39  2.15    NaN  28079018  NaN NaN  283.90  \n",
       "9   NaN   NaN  14.56   NaN    NaN  28079017  NaN NaN  127.20  "
      ]
     },
     "execution_count": 4,
     "metadata": {},
     "output_type": "execute_result"
    }
   ],
   "source": [
    "# Carga del fichero de datos unido.\n",
    "Dataframe = pd.read_csv(\"Datos/datos_unidos.csv\", encoding=\"ISO-8859-1\")\n",
    "\n",
    "# Ordenación por fecha.\n",
    "Dataframe = Dataframe.sort_values(by='date', ascending=True)\n",
    "\n",
    "# Reseteo del índice.\n",
    "Dataframe = Dataframe.reset_index(drop=True)\n",
    "\n",
    "# Redondeamos los datos 2 decimales.\n",
    "Dataframe = round(Dataframe, 3)\n",
    "\n",
    "# Transformamos la columna 'date' a datetime.\n",
    "Dataframe[\"date\"] = pd.to_datetime(Dataframe[\"date\"])\n",
    "\n",
    "# Eliminamos la hora pues no la necesitamos para el estudio y así agrupamos mejor.\n",
    "Dataframe[\"date\"] = Dataframe[\"date\"].dt.date\n",
    "\n",
    "# Transformamos de nuevo la columna 'date' a datetime.\n",
    "Dataframe[\"date\"] = pd.to_datetime(Dataframe[\"date\"])\n",
    "\n",
    "# Transformamos la estación a tipo string para poder sacar el máximo más fácilmente.\n",
    "Dataframe[\"station\"] = Dataframe['station'].astype(str)\n",
    "\n",
    "# Calculamos el valor máximo de cada registro (fila).\n",
    "Dataframe[\"max\"] = Dataframe.max(axis=1, numeric_only=True)\n",
    "\n",
    "# Guardamos el dataset.\n",
    "Dataframe.to_csv(\"Datos/datos_agrupados.csv\", encoding=\"ISO-8859-1\")\n",
    "\n",
    "# Mostramos los 10 primeros.\n",
    "Dataframe.head(10)"
   ]
  },
  {
   "cell_type": "markdown",
   "metadata": {},
   "source": [
    "<font color = 'blue'>Ya tenemos el dataset con el campo 'date' sin la hora, los datos redondeados a 2 decimales y con el máximo valor de cada fila en una nueva columna 'max'.</font>"
   ]
  },
  {
   "cell_type": "markdown",
   "metadata": {},
   "source": [
    "<font color = 'blue'>Seguimos limpiando y organizando el dataset para obtener la calidad del aire media medida por una estación en cada día.</font>"
   ]
  },
  {
   "cell_type": "code",
   "execution_count": 5,
   "metadata": {},
   "outputs": [
    {
     "name": "stdout",
     "output_type": "stream",
     "text": [
      "Hay: 13346 columnas todo a NaN.\n",
      "Quedan: 0 columnas todo a NaN.\n"
     ]
    },
    {
     "data": {
      "text/html": [
       "<div>\n",
       "<style scoped>\n",
       "    .dataframe tbody tr th:only-of-type {\n",
       "        vertical-align: middle;\n",
       "    }\n",
       "\n",
       "    .dataframe tbody tr th {\n",
       "        vertical-align: top;\n",
       "    }\n",
       "\n",
       "    .dataframe thead th {\n",
       "        text-align: right;\n",
       "    }\n",
       "</style>\n",
       "<table border=\"1\" class=\"dataframe\">\n",
       "  <thead>\n",
       "    <tr style=\"text-align: right;\">\n",
       "      <th></th>\n",
       "      <th>station</th>\n",
       "      <th>date</th>\n",
       "      <th>max</th>\n",
       "    </tr>\n",
       "  </thead>\n",
       "  <tbody>\n",
       "    <tr>\n",
       "      <th>0</th>\n",
       "      <td>28079001</td>\n",
       "      <td>2001-01-02</td>\n",
       "      <td>169.500000</td>\n",
       "    </tr>\n",
       "    <tr>\n",
       "      <th>1</th>\n",
       "      <td>28079001</td>\n",
       "      <td>2001-01-03</td>\n",
       "      <td>173.284583</td>\n",
       "    </tr>\n",
       "    <tr>\n",
       "      <th>2</th>\n",
       "      <td>28079001</td>\n",
       "      <td>2001-01-04</td>\n",
       "      <td>154.293333</td>\n",
       "    </tr>\n",
       "    <tr>\n",
       "      <th>3</th>\n",
       "      <td>28079001</td>\n",
       "      <td>2001-01-05</td>\n",
       "      <td>210.120833</td>\n",
       "    </tr>\n",
       "    <tr>\n",
       "      <th>4</th>\n",
       "      <td>28079001</td>\n",
       "      <td>2001-01-06</td>\n",
       "      <td>127.873750</td>\n",
       "    </tr>\n",
       "    <tr>\n",
       "      <th>5</th>\n",
       "      <td>28079001</td>\n",
       "      <td>2001-01-07</td>\n",
       "      <td>141.195417</td>\n",
       "    </tr>\n",
       "    <tr>\n",
       "      <th>6</th>\n",
       "      <td>28079001</td>\n",
       "      <td>2001-01-08</td>\n",
       "      <td>240.280417</td>\n",
       "    </tr>\n",
       "    <tr>\n",
       "      <th>7</th>\n",
       "      <td>28079001</td>\n",
       "      <td>2001-01-09</td>\n",
       "      <td>211.216667</td>\n",
       "    </tr>\n",
       "    <tr>\n",
       "      <th>8</th>\n",
       "      <td>28079001</td>\n",
       "      <td>2001-01-10</td>\n",
       "      <td>269.662500</td>\n",
       "    </tr>\n",
       "    <tr>\n",
       "      <th>9</th>\n",
       "      <td>28079001</td>\n",
       "      <td>2001-01-11</td>\n",
       "      <td>192.406250</td>\n",
       "    </tr>\n",
       "  </tbody>\n",
       "</table>\n",
       "</div>"
      ],
      "text/plain": [
       "    station       date         max\n",
       "0  28079001 2001-01-02  169.500000\n",
       "1  28079001 2001-01-03  173.284583\n",
       "2  28079001 2001-01-04  154.293333\n",
       "3  28079001 2001-01-05  210.120833\n",
       "4  28079001 2001-01-06  127.873750\n",
       "5  28079001 2001-01-07  141.195417\n",
       "6  28079001 2001-01-08  240.280417\n",
       "7  28079001 2001-01-09  211.216667\n",
       "8  28079001 2001-01-10  269.662500\n",
       "9  28079001 2001-01-11  192.406250"
      ]
     },
     "execution_count": 5,
     "metadata": {},
     "output_type": "execute_result"
    }
   ],
   "source": [
    "print(\"Hay: \" + str(len(Dataframe[Dataframe[\"max\"] != Dataframe[\"max\"]])) + \" columnas todo a NaN.\")\n",
    "\n",
    "# Eliminamos los registros cuyas filas de datos están todos a NaN y reseteamos el índice.\n",
    "Dataframe = Dataframe.drop(Dataframe[Dataframe[\"max\"] != Dataframe[\"max\"]].index)\n",
    "\n",
    "# Reseteo del índice.\n",
    "Dataframe = Dataframe.reset_index(drop=True)\n",
    "\n",
    "print(\"Quedan: \" + str(len(Dataframe[Dataframe[\"max\"] != Dataframe[\"max\"]])) + \" columnas todo a NaN.\")\n",
    "\n",
    "# Agrupamos por estación y fecha (día concreto) para sacar la media de máximos valores medidos.\n",
    "Dataframe = Dataframe.groupby([\"station\", \"date\"])['max'].mean()\n",
    "\n",
    "# Reseteamos el índice.\n",
    "Dataframe = Dataframe.reset_index()\n",
    "\n",
    "# Guardamos el dataset.\n",
    "Dataframe.to_csv(\"Datos/datos_preprocesados.csv\", encoding=\"ISO-8859-1\")\n",
    "\n",
    "# Mostramos los 10 primeros.\n",
    "Dataframe.head(10)"
   ]
  },
  {
   "cell_type": "markdown",
   "metadata": {},
   "source": [
    "<font color = 'blue'>Ahora ya tenemos el dataset libre de filas a NaN y con la media de los perores valores medidos por una estación a lo largo de un día (realiza una medición cada hora).</font>"
   ]
  },
  {
   "cell_type": "markdown",
   "metadata": {},
   "source": [
    "## Ejercicio 2\n",
    "\n",
    "#### Explica visualmente como se distribuyen las calidades del aire entre buena, admisible, mala y muy mala. Realiza para ello un pie chart. Que se puede concluir de dicho gráfico."
   ]
  },
  {
   "cell_type": "code",
   "execution_count": 6,
   "metadata": {
    "scrolled": false
   },
   "outputs": [
    {
     "name": "stdout",
     "output_type": "stream",
     "text": [
      "{1: 598, 2: 3490, 3: 1468, 4: 774}\n",
      "['Buena' 'Admisible' 'Mala' 'Muy mala']\n"
     ]
    },
    {
     "data": {
      "image/png": "[encoded data removed]",
      "text/plain": [
       "<Figure size 1440x720 with 1 Axes>"
      ]
     },
     "metadata": {},
     "output_type": "display_data"
    }
   ],
   "source": [
    "# Carga del fichero de datos unido.\n",
    "Dataframe = pd.read_csv(\"Datos/datos_preprocesados.csv\", encoding=\"ISO-8859-1\", index_col=0)\n",
    "\n",
    "# Sacamos la media de los peores valores medidos a lo largo de un día por todas las estaciones.\n",
    "Dataframe = Dataframe.groupby(\"date\")['max'].mean()\n",
    "\n",
    "# Reseteamos el índice.\n",
    "Dataframe = Dataframe.reset_index()\n",
    "\n",
    "# Guardamos el dataset.\n",
    "Dataframe.to_csv(\"Datos/datos_media_dia.csv\", encoding=\"ISO-8859-1\")\n",
    "\n",
    "# Categorización del valor medio del aire para un día.\n",
    "valores = Dataframe['max'].apply(lambda x: custom_categorical(x))\n",
    "\n",
    "# Preparamos las listas para el pie chart.\n",
    "unique, counts = np.unique(valores, return_counts=True)\n",
    "\n",
    "# Mostramos los datos calculados.\n",
    "print(dict(zip(unique, counts)))\n",
    "\n",
    "# Etiquetas.\n",
    "etiquetas = np.array(unique).astype('U') \n",
    "etiquetas[etiquetas == \"1\"] = \"Buena\"\n",
    "etiquetas[etiquetas == \"2\"] = \"Admisible\"\n",
    "etiquetas[etiquetas == \"3\"] = \"Mala\"\n",
    "etiquetas[etiquetas == \"4\"] = \"Muy mala\"\n",
    "\n",
    "# Colores\n",
    "colores = np.copy(etiquetas)\n",
    "colores[colores == \"Buena\"] = \"Green\"\n",
    "colores[colores == \"Admisible\"] = \"Yellow\"\n",
    "colores[colores == \"Mala\"] = \"Red\"\n",
    "colores[colores == \"Muy mala\"] = \"Brown\"\n",
    "\n",
    "print(etiquetas)\n",
    "\n",
    "# Mostramos la gráfica.\n",
    "fig, ax = plt.subplots(figsize=(20, 10))\n",
    "ax.pie(counts, labels=etiquetas, autopct='%1.1f%%', shadow=True, startangle=90, colors=colores)\n",
    "ax.axis('equal')  \n",
    "plt.title(\"Calidades del aire\")\n",
    "plt.show()"
   ]
  },
  {
   "cell_type": "markdown",
   "metadata": {},
   "source": [
    "<font color = 'blue'>El aire de Madrid es admisible más de la mitad de los días, es malo o muy malo un tercio de los días y tan solo una décima parte de los días el aire es bueno.</font>"
   ]
  },
  {
   "cell_type": "markdown",
   "metadata": {},
   "source": [
    "## Ejercicio 3\n",
    "\n",
    "#### Una vez obtenida la calidad del aire para cada día, calcula la calidad media de cada mes para que sea más fácil saber si la contaminación ha disminuido desde que se restringió el acceso al centro de Madrid. Explica visualmente si los protocolos de restricciones de tráfico han tenido éxito. Utiliza para ello un diagrama de barras. ¿Podemos encontrar la diferencia entre lo que ocurría antes de aplicar el protocolo y después?"
   ]
  },
  {
   "cell_type": "markdown",
   "metadata": {},
   "source": [
    "<font color = 'blue'>Para ello, creamos un diagrama de barras indicando los meses pre y post restricción.</font>"
   ]
  },
  {
   "cell_type": "code",
   "execution_count": 7,
   "metadata": {},
   "outputs": [],
   "source": [
    "# Leemos el fichero de datos.\n",
    "Dataframe = pd.read_csv(\"Datos/datos_media_dia.csv\", encoding=\"ISO-8859-1\", index_col=0)\n",
    "\n",
    "# Transformamos la columna 'date' a datetime.\n",
    "Dataframe[\"date\"] = pd.to_datetime(Dataframe[\"date\"])\n",
    "\n",
    "# Creamos los dataframes para antes y después de la restricción y el auxiliar (Dataframe_Mes).\n",
    "Dataframe_Mes = pd.DataFrame()\n",
    "Dataframe_Post_Restriccion = pd.DataFrame() \n",
    "Dataframe_Pre_Restriccion = pd.DataFrame() \n",
    "\n",
    "# Agregamos las columnas de 'year', 'month' y 'mean'. \n",
    "Dataframe_Mes[\"year\"] = Dataframe[\"date\"].dt.year\n",
    "Dataframe_Mes[\"month\"] = Dataframe[\"date\"].dt.month\n",
    "Dataframe_Mes[\"mean\"] = Dataframe[\"max\"]\n",
    "\n",
    "# Agrupamos por mes y reseteamos el índice.\n",
    "Dataframe_Mes = round(Dataframe_Mes.groupby([\"year\", \"month\"]).mean(), 1)\n",
    "Dataframe_Mes = Dataframe_Mes.reset_index()\n",
    "\n",
    "# Dividimos el dataset por año antes y después de la restricción.\n",
    "Dataframe_Pre_Restriccion = Dataframe_Mes[Dataframe_Mes[\"year\"] < 2017]\n",
    "Dataframe_Post_Restriccion = Dataframe_Mes[Dataframe_Mes[\"year\"] > 2016]\n",
    "\n",
    "# Agrupamos por mes, sacamos la media y redondeamos a 3 decimales y reseteamos el índice.\n",
    "Dataframe_Post_Restriccion = round(Dataframe_Post_Restriccion.groupby([\"month\"]).mean(), 3)\n",
    "Dataframe_Post_Restriccion = Dataframe_Post_Restriccion.reset_index()\n",
    "Dataframe_Pre_Restriccion = round(Dataframe_Pre_Restriccion.groupby([\"month\"]).mean(), 3)\n",
    "Dataframe_Pre_Restriccion = Dataframe_Pre_Restriccion.reset_index()"
   ]
  },
  {
   "cell_type": "markdown",
   "metadata": {},
   "source": [
    "<font color = 'blue'>Preparamos la gráfica.</font>"
   ]
  },
  {
   "cell_type": "code",
   "execution_count": 8,
   "metadata": {},
   "outputs": [
    {
     "data": {
      "image/png": "[encoded data removed]",
      "text/plain": [
       "<Figure size 1440x720 with 1 Axes>"
      ]
     },
     "metadata": {},
     "output_type": "display_data"
    }
   ],
   "source": [
    "# Obtenemos la lista de valores a representar.\n",
    "media_calidad_pre_restriccion = Dataframe_Pre_Restriccion[\"mean\"]\n",
    "media_calidad_post_restriccion = Dataframe_Post_Restriccion[\"mean\"]\n",
    "\n",
    "# Preparamos la gráfica.\n",
    "ind = np.arange(len(media_calidad_pre_restriccion))\n",
    "ancho = 0.35\n",
    "\n",
    "fig, ax = plt.subplots(figsize=(20, 10))\n",
    "rects1 = ax.bar(ind - ancho/2, media_calidad_pre_restriccion, ancho, color='SkyBlue', label='Pre restricción')\n",
    "rects2 = ax.bar(ind + ancho/2, media_calidad_post_restriccion, ancho, color='IndianRed', label='Post restricción')\n",
    "\n",
    "ax.set_ylabel('Calidad del aire')\n",
    "ax.set_title('Calidad del aire por mes')\n",
    "ax.set_xticks(ind)\n",
    "ax.set_xticklabels(('Enero', 'Febrero', 'Marzo', 'Abril', 'Mayo', 'Junio', 'Julio', 'Agostp', 'Septiembre', \\\n",
    "                    'Octubre', 'Noviembre', 'Diciembre' ))\n",
    "ax.legend()\n",
    "\n",
    "# Funciópn para pintar en la gráfica los distintos valores\n",
    "def autolabel(rects, xpos='center'):\n",
    "    xpos = xpos.lower() \n",
    "    ha = {'center': 'center', 'right': 'left', 'left': 'right'}\n",
    "    offset = {'center': 0.5, 'right': 0.57, 'left': 0.43}\n",
    "\n",
    "    for rect in rects:\n",
    "        height = rect.get_height()\n",
    "        ax.text(rect.get_x() + rect.get_width()*offset[xpos], 1.01*height,\n",
    "                '{}'.format(height), ha=ha[xpos], va='bottom')\n",
    "\n",
    "\n",
    "autolabel(rects1, \"left\")\n",
    "autolabel(rects2, \"right\")\n",
    "\n",
    "# Mostramos la gráfica.\n",
    "plt.show()"
   ]
  },
  {
   "cell_type": "markdown",
   "metadata": {},
   "source": [
    "<font color = 'blue'>Observando la gráfica podemos afirmar que en la mayoría de meses la restricción ha funcionado salvo en los meses finales del año cuyos datos son especialmente malos (en especial Noviembre del 2017). Esto puede deberse a otros factores climáticos (falta de lluvia, ausencia de viento, cambios en la humedad relativa del aire, etc.) que hayan propiciado la acumulación de contaminación atmosférica, factores de los cuales no hay datos incluidos en el dataset. </font>"
   ]
  },
  {
   "cell_type": "markdown",
   "metadata": {},
   "source": [
    "#### Por último, queremos tratar de entender los cambios de la calidad del aire en estos últimos años. Obtén un diagrama de cajas donde cada caja corresponda a un año y haz una interpretación de los resultados."
   ]
  },
  {
   "cell_type": "code",
   "execution_count": 9,
   "metadata": {
    "scrolled": false
   },
   "outputs": [
    {
     "data": {
      "text/plain": [
       "<matplotlib.axes._subplots.AxesSubplot at 0x15de1b1d0>"
      ]
     },
     "execution_count": 9,
     "metadata": {},
     "output_type": "execute_result"
    },
    {
     "data": {
      "image/png": "[encoded data removed]",
      "text/plain": [
       "<Figure size 1440x720 with 1 Axes>"
      ]
     },
     "metadata": {},
     "output_type": "display_data"
    }
   ],
   "source": [
    "Dataframe_Mes.boxplot(column='mean', by='year', figsize=(20,10))"
   ]
  },
  {
   "cell_type": "markdown",
   "metadata": {},
   "source": [
    "<font color = 'blue'>Observando la gráfica se aprecia una tendencia en la mejora de la calidad del aire y en los valores que se compactan desde 2001 hasta 2012 donde se estabilizan (exceptuando algún valor atípico). \n",
    "<br>    \n",
    "En 2017 y 2018, se ven valores más altos y dispersos. Con el diagrama de barras anterior podemos justificar los valores especialmente altos y la dispersión alta de 2017 en base a los últimos 3 meses de 2017 (sobretodo Noviembre). Para poder obtener conclusiones con relación al año 2018, se necesitaría que estuvieran todos sus datos completados.</font>"
   ]
  }
 ],
 "metadata": {
  "kernelspec": {
   "display_name": "Python 3",
   "language": "python",
   "name": "python3"
  },
  "language_info": {
   "codemirror_mode": {
    "name": "ipython",
    "version": 3
   },
   "file_extension": ".py",
   "mimetype": "text/x-python",
   "name": "python",
   "nbconvert_exporter": "python",
   "pygments_lexer": "ipython3",
   "version": "3.6.5"
  }
 },
 "nbformat": 4,
 "nbformat_minor": 2
}
