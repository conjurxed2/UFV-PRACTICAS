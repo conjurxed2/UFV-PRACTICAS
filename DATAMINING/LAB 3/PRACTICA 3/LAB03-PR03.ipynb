{
 "cells": [
  {
   "cell_type": "markdown",
   "metadata": {},
   "source": [
    "# Laboratorio 3 - Práctica 3\n",
    "### Gonzalo de las Heras de Matías - Jorge de la Fuente Tagarro\n",
    "## Clasificador de imágenes\n",
    "\n",
    "<br>\n",
    "\n",
    "![title](Images/nmist.jpeg)\n",
    "\n",
    "### Objetivo \n",
    "\n",
    "El etiquetado de imágenes es una tarea ardua. Es por ello y también debido a sus aplicaciones prácticas que\n",
    "los científicos llevan un tiempo intentando mejorar los métodos para clasificarlas automáticamente. En la\n",
    "oficina de correos de Pozuelo de Alarcón quieren poner en práctica un modelo que clasifique las cartas según\n",
    "el código postal escrito en ellas. Para ello vamos a crear un clasificador que leyendo un número escrito a mano\n",
    "pueda saber cuál es. Dicho clasificador funcionará mediante un set de entrenamiento donde se buscará un\n",
    "plano que divida las diferentes clases dispuesta en un espacio n-dimensional dependiendo de sus\n",
    "características.\n",
    "\n",
    "Para ello usaremos el dataset “load_digits” que se encuentra en scikit-learn. Elige el clasificador que más se\n",
    "adapte de entre los vistos en clase y usa scikit-learn junto con las librerías que necesites para resolver las\n",
    "siguientes cuestiones.\n",
    "\n",
    "### Cuestiones \n",
    "\n",
    "<ol type=\"o\">\n",
    "  <li>Crea un clasificador que permita saber qué número es a partir de una imagen de este. Realiza al\n",
    "menos dos configuraciones y dibuja una tabla donde se muestre la precisión con la que clasifican.</li>\n",
    "  <li>Elige 5 números que no hayas usado ni para entrenar el modelo, ni para evaluarlo y clasifícalas.\n",
    "Usa para ello el modelo que mejor clasifique de los del punto anterior. Índica con que error ha\n",
    "funcionado el clasificador.</li>\n",
    "</ol>"
   ]
  },
  {
   "cell_type": "markdown",
   "metadata": {},
   "source": [
    "#### Librerias"
   ]
  },
  {
   "cell_type": "code",
   "execution_count": 1,
   "metadata": {},
   "outputs": [],
   "source": [
    "from sklearn import datasets\n",
    "from sklearn import svm\n",
    "from sklearn import metrics\n",
    "from sklearn.metrics import accuracy_score\n",
    "from sklearn.model_selection import train_test_split\n",
    "from random import randint\n",
    "from sklearn.preprocessing import StandardScaler\n",
    "import matplotlib.pyplot as plt\n",
    "import numpy as np\n",
    "import pandas as pd\n",
    "import warnings\n",
    "warnings.filterwarnings('ignore')"
   ]
  },
  {
   "cell_type": "markdown",
   "metadata": {},
   "source": [
    "## 1. Preparación del dataset"
   ]
  },
  {
   "cell_type": "markdown",
   "metadata": {},
   "source": [
    "<font color=\"blue\">Cargamos el dataset de números escritos a mano</font>"
   ]
  },
  {
   "cell_type": "code",
   "execution_count": 2,
   "metadata": {},
   "outputs": [],
   "source": [
    "dataset = datasets.load_digits()\n",
    "numero_muestras = len(dataset.images)"
   ]
  },
  {
   "cell_type": "markdown",
   "metadata": {},
   "source": [
    "<font color=\"blue\">Dividimos el dataset entre la imagen del número y el número al que representa.</font>"
   ]
  },
  {
   "cell_type": "code",
   "execution_count": 3,
   "metadata": {},
   "outputs": [
    {
     "name": "stdout",
     "output_type": "stream",
     "text": [
      "Hay 1797 números en el dataset.\n"
     ]
    }
   ],
   "source": [
    "numeros = dataset.images.reshape((numero_muestras, -1)).tolist()\n",
    "prediccion = dataset.target.reshape((numero_muestras, -1)).tolist()\n",
    "\n",
    "print(\"Hay \" + str(len(numeros)) + \" números en el dataset.\")"
   ]
  },
  {
   "cell_type": "markdown",
   "metadata": {},
   "source": [
    "<font color=\"blue\">Estandarizamos valores.</font>"
   ]
  },
  {
   "cell_type": "code",
   "execution_count": 4,
   "metadata": {},
   "outputs": [],
   "source": [
    "scaler = StandardScaler()\n",
    "numeros = scaler.fit_transform(numeros).tolist()"
   ]
  },
  {
   "cell_type": "markdown",
   "metadata": {},
   "source": [
    "<font color=\"blue\">Apartamos 5 números para validar el modelo una vez entrenado.</font>"
   ]
  },
  {
   "cell_type": "code",
   "execution_count": 5,
   "metadata": {},
   "outputs": [
    {
     "name": "stdout",
     "output_type": "stream",
     "text": [
      "Se han reservado 5 números para la validación.\n"
     ]
    }
   ],
   "source": [
    "x_val = []\n",
    "y_val = []\n",
    "\n",
    "for i in range(0, 5):\n",
    "    tamanyo = len(numeros)\n",
    "    posicion = randint(0, tamanyo)\n",
    "    x_val.append(numeros.pop(posicion))\n",
    "    y_val.append(prediccion.pop(posicion))\n",
    "    \n",
    "print(\"Se han reservado \" + str(len(x_val)) + \" números para la validación.\")"
   ]
  },
  {
   "cell_type": "markdown",
   "metadata": {},
   "source": [
    "<font color=\"blue\">Dividimos el dataset restante entre un conjunto de entrenamiento y de pruebas (entrenamiento: 80%, pruebas: 20%).</font>"
   ]
  },
  {
   "cell_type": "code",
   "execution_count": 6,
   "metadata": {},
   "outputs": [],
   "source": [
    "x_entrenam, x_test, y_entrenam, y_test = train_test_split(numeros, prediccion, test_size=0.2)"
   ]
  },
  {
   "cell_type": "markdown",
   "metadata": {},
   "source": [
    "<font color=\"blue\">Probamos varias configuraciones de una SVM para construir el mejor modelo.</font>"
   ]
  },
  {
   "cell_type": "markdown",
   "metadata": {},
   "source": [
    "## 2. Construcción del modelo\n",
    "<br>\n",
    "<font color=\"blue\">Guardaremos las precisiones de cada modelo para poder compararlos.</font>"
   ]
  },
  {
   "cell_type": "code",
   "execution_count": 7,
   "metadata": {},
   "outputs": [],
   "source": [
    "kernels = [\"Lineal\", \"Polinómica\", \"Gaussiana\", \"Sigmoide\"]\n",
    "precisiones = []"
   ]
  },
  {
   "cell_type": "markdown",
   "metadata": {},
   "source": [
    "### 2.1 Kernel lineal"
   ]
  },
  {
   "cell_type": "code",
   "execution_count": 8,
   "metadata": {},
   "outputs": [
    {
     "name": "stdout",
     "output_type": "stream",
     "text": [
      "El modelo tiene una precisión del: 98.3%.\n"
     ]
    }
   ],
   "source": [
    "# Creación del modelo.\n",
    "modelo = svm.SVC(kernel='linear')\n",
    "\n",
    "# Entrenamiento del modelo.\n",
    "modelo.fit(x_entrenam, y_entrenam)  \n",
    "\n",
    "# Calculamos el procentaje de precisión del modelo.\n",
    "precision = round(accuracy_score(modelo.predict(x_test), y_test), 3) *100 \n",
    "\n",
    "# Imprimimos el resultado\n",
    "print(\"El modelo tiene una precisión del: \" + str(precision) + \"%.\")\n",
    "\n",
    "# Agregamos la precisión a la lista.\n",
    "precisiones.append(precision)"
   ]
  },
  {
   "cell_type": "markdown",
   "metadata": {},
   "source": [
    "### 2.2 Kernel polinómico"
   ]
  },
  {
   "cell_type": "markdown",
   "metadata": {},
   "source": [
    "<font color=\"blue\">Probamos el kernel polinómico con distintos grados para encontrar la mejor configuración.</font>"
   ]
  },
  {
   "cell_type": "code",
   "execution_count": 9,
   "metadata": {
    "scrolled": false
   },
   "outputs": [
    {
     "name": "stdout",
     "output_type": "stream",
     "text": [
      "El modelo tiene una precisión del: 98.9% con degree: 2.\n"
     ]
    }
   ],
   "source": [
    "mejor_grado = 0\n",
    "mejor_precision = 0\n",
    "\n",
    "for i in range(0, 10):\n",
    "\n",
    "    # Creación del modelo.\n",
    "    modelo = svm.SVC(kernel='poly', degree=i)\n",
    "\n",
    "    # Entrenamiento del modelo.\n",
    "    modelo.fit(x_entrenam, y_entrenam)  \n",
    "\n",
    "    # Calculamos el procentaje de precisión del modelo.\n",
    "    precision = round(accuracy_score(modelo.predict(x_test), y_test) * 100, 1)\n",
    "    \n",
    "    # Si mejora la mejor precisión hasta el momento, guardamos el mejor grado.\n",
    "    if mejor_precision < precision:\n",
    "        mejor_precision = precision\n",
    "        mejor_grado = i\n",
    "    \n",
    "# Creación del modelo.\n",
    "modelo = svm.SVC(kernel='poly', degree=mejor_grado)\n",
    "\n",
    "# Entrenamiento del modelo.\n",
    "modelo.fit(x_entrenam, y_entrenam)  \n",
    "\n",
    "# Calculamos el procentaje de precisión del modelo.\n",
    "precision = round(accuracy_score(modelo.predict(x_test), y_test) * 100, 1)\n",
    "\n",
    "# Imprimimos el resultado\n",
    "print(\"El modelo tiene una precisión del: \" + str(precision) + \"% con degree: \" + str(mejor_grado) + \".\")\n",
    "    \n",
    "# Agregamos la precisión a la lista.\n",
    "precisiones.append(precision)\n",
    "\n",
    "# Especificamos el grado del modelo polinómico.\n",
    "kernels[1] = \"Polinómica degree:\" + str(mejor_grado)"
   ]
  },
  {
   "cell_type": "markdown",
   "metadata": {},
   "source": [
    "### 2.3 Kernel gaussiano"
   ]
  },
  {
   "cell_type": "code",
   "execution_count": 10,
   "metadata": {},
   "outputs": [
    {
     "name": "stdout",
     "output_type": "stream",
     "text": [
      "El modelo tiene una precisión del: 98.6%.\n"
     ]
    }
   ],
   "source": [
    "# Creación del modelo.\n",
    "modelo = svm.SVC(kernel='rbf')\n",
    "\n",
    "# Entrenamiento del modelo.\n",
    "modelo.fit(x_entrenam, y_entrenam)  \n",
    "\n",
    "# Calculamos el procentaje de precisión del modelo.\n",
    "precision = round(accuracy_score(modelo.predict(x_test), y_test) * 100, 1)\n",
    "\n",
    "# Imprimimos el resultado\n",
    "print(\"El modelo tiene una precisión del: \" + str(precision) + \"%.\")\n",
    "\n",
    "# Agregamos la precisión a la lista.\n",
    "precisiones.append(precision)"
   ]
  },
  {
   "cell_type": "markdown",
   "metadata": {},
   "source": [
    "### 2.4 Kernel sigmoide"
   ]
  },
  {
   "cell_type": "code",
   "execution_count": 11,
   "metadata": {},
   "outputs": [
    {
     "name": "stdout",
     "output_type": "stream",
     "text": [
      "El modelo tiene una precisión del: 94.7%.\n"
     ]
    }
   ],
   "source": [
    "# Creación del modelo.\n",
    "modelo = svm.SVC(kernel='sigmoid')\n",
    "\n",
    "# Entrenamiento del modelo.\n",
    "modelo.fit(x_entrenam, y_entrenam)  \n",
    "\n",
    "# Calculamos el procentaje de precisión del modelo.\n",
    "precision = round(accuracy_score(modelo.predict(x_test), y_test) * 100, 1)\n",
    "\n",
    "# Imprimimos el resultado\n",
    "print(\"El modelo tiene una precisión del: \" + str(precision) + \"%.\")\n",
    "\n",
    "# Agregamos la precisión a la lista.\n",
    "precisiones.append(precision)"
   ]
  },
  {
   "cell_type": "markdown",
   "metadata": {},
   "source": [
    "<font color=\"blue\">Mostramos un diagrama de barras con la precisión de cada tipo de kernel.</font>"
   ]
  },
  {
   "cell_type": "code",
   "execution_count": 12,
   "metadata": {},
   "outputs": [
    {
     "data": {
      "image/png": "[encoded data removed]",
      "text/plain": [
       "<Figure size 1440x720 with 1 Axes>"
      ]
     },
     "metadata": {},
     "output_type": "display_data"
    }
   ],
   "source": [
    "plt.subplots(figsize=(20, 10))\n",
    "plt.title(\"Precisión de cada kernel\")\n",
    "plt.xlabel(\"Tipo de kernel\")\n",
    "plt.ylabel(\"Precisión en %\")\n",
    "plt.bar(kernels, precisiones)\n",
    "plt.show()"
   ]
  },
  {
   "cell_type": "markdown",
   "metadata": {},
   "source": [
    "<font color=\"blue\">Creamos el modelo final con los mejores parámetros (kernel polinómico con grado = 2) y precedimos que número es cada uno de los 5 que habiamos apartado nada más empezar.</font>"
   ]
  },
  {
   "cell_type": "code",
   "execution_count": 13,
   "metadata": {},
   "outputs": [
    {
     "name": "stdout",
     "output_type": "stream",
     "text": [
      "El modelo tiene una precisión del: 98.9% con degree: 2.\n"
     ]
    },
    {
     "data": {
      "image/png": "[encoded data removed]",
      "text/plain": [
       "<Figure size 720x360 with 5 Axes>"
      ]
     },
     "metadata": {},
     "output_type": "display_data"
    }
   ],
   "source": [
    "# Creación del modelo.\n",
    "modelo = svm.SVC(kernel='poly', degree=mejor_grado)\n",
    "\n",
    "# Entrenamiento del modelo.\n",
    "modelo.fit(x_entrenam, y_entrenam)  \n",
    "\n",
    "# Calculamos el procentaje de precisión del modelo.\n",
    "precision = round(accuracy_score(modelo.predict(x_test), y_test) * 100, 1)\n",
    "\n",
    "# Imprimimos el resultado\n",
    "print(\"El modelo tiene una precisión del: \" + str(precision) + \"% con degree: \" + str(mejor_grado) + \".\")\n",
    "\n",
    "# Predecimos los valores apartados al comienzo.\n",
    "valores_predichos = modelo.predict(x_val)\n",
    "\n",
    "# Mostramos cada número y su predicción.\n",
    "numeros = np.array(scaler.inverse_transform(x_val)).reshape(5, 8, 8)\n",
    "plt.subplots(figsize=(10, 5))\n",
    "imagenes_predicciones = list(zip(numeros, valores_predichos))\n",
    "\n",
    "for index, (image, prediction) in enumerate(imagenes_predicciones):\n",
    "    plt.subplot(2, 5, index + 1)\n",
    "    plt.axis('off')\n",
    "    plt.imshow(image, cmap=plt.cm.gray_r, interpolation='nearest')\n",
    "    plt.title('Prediction: %i' % prediction)\n",
    "\n",
    "plt.show()"
   ]
  },
  {
   "cell_type": "markdown",
   "metadata": {},
   "source": [
    "<font color=\"blue\">El modelo tienen más de un 98% de precisión y ha clasificado correctamente cada número escrito a mano. El porcentaje restante serán los números que son más difíciles de leer, aquellos que directamente no son legibles o aquellos que se parezcan mucho y que incluso a una persona le cueste clasificar.</font>"
   ]
  },
  {
   "cell_type": "markdown",
   "metadata": {},
   "source": [
    "## Referencias"
   ]
  },
  {
   "cell_type": "markdown",
   "metadata": {},
   "source": [
    "<ul>\n",
    "    <li>https://stackabuse.com/implementing-svm-and-kernel-svm-with-pythons-scikit-learn/</li>\n",
    "    <li>https://scikit-learn.org/stable/modules/generated/sklearn.svm.SVC.html</li>\n",
    "    <li>https://scikit-learn.org/stable/modules/generated/sklearn.model_selection.train_test_split.html</li>\n",
    "    <li>https://scikit-learn.org/stable/modules/generated/sklearn.metrics.accuracy_score.html</li>\n",
    "    <li>Apuntes de la asignatura</li>\n",
    "</ul>"
   ]
  }
 ],
 "metadata": {
  "kernelspec": {
   "display_name": "Python 3",
   "language": "python",
   "name": "python3"
  },
  "language_info": {
   "codemirror_mode": {
    "name": "ipython",
    "version": 3
   },
   "file_extension": ".py",
   "mimetype": "text/x-python",
   "name": "python",
   "nbconvert_exporter": "python",
   "pygments_lexer": "ipython3",
   "version": "3.6.5"
  }
 },
 "nbformat": 4,
 "nbformat_minor": 2
}
