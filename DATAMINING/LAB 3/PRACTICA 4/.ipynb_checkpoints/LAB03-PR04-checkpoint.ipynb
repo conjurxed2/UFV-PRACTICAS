{
 "cells": [
  {
   "cell_type": "markdown",
   "metadata": {},
   "source": [
    "# Laboratorio 3 - Práctica 4\n",
    "### Gonzalo de las Heras de Matías - Jorge de la Fuente Tagarro\n",
    "## ¿Lloverá o no lloverá?\n",
    "\n",
    "<br>\n",
    "\n",
    "![title](Images/lluvias.jpg)\n",
    "\n",
    "### Objetivo \n",
    "\n",
    "Los agricultores de una comarca están preocupados por las lluvias ocurridas en los últimos años, en épocas\n",
    "que no son habituales. Para ello han decidido crear un clasificador basado la probabilidad de que la\n",
    "temperatura mínima y máxima y las precipitaciones sean bajas, medias o altas. Se considera que la\n",
    "temperatura es baja si está por debajo de 10 grados, media si está entre 10 y 20 y alta si está por encima de 20. Se considera que ha llovido poco si la medida está por debajo de 1, normal si está entre 1 y 2, y que ha\n",
    "llovido mucho si está por encima de 2.\n",
    "\n",
    "Para ello usaremos el dataset “lluvias” que se encuentra en Moodle. Elige el clasificador que más se adapte de\n",
    "entre los vistos en clase y usa scikit-learn junto con las librerías que necesites para resolver las siguientes\n",
    "cuestiones.\n",
    "\n",
    "### Cuestiones \n",
    "\n",
    "<ol type=\"o\">\n",
    "  <li>Realiza todo el preprocesamiento necesario para poder entrenar el clasificador. (Ojo: las\n",
    "temperaturas están en grados Celsius.)</li>\n",
    "  <li>Crea un clasificador e indica su error. Úsalo para saber si lloverá en los próximos 3 días. Obtener\n",
    "los datos de cualquier fuente de Internet indicando que día es. </li>\n",
    "</ol>"
   ]
  },
  {
   "cell_type": "markdown",
   "metadata": {},
   "source": [
    "#### Librerias"
   ]
  },
  {
   "cell_type": "code",
   "execution_count": 22,
   "metadata": {},
   "outputs": [],
   "source": [
    "import matplotlib.pyplot as plt\n",
    "import numpy as np\n",
    "import pandas as pd\n",
    "import warnings\n",
    "from sklearn.metrics import accuracy_score\n",
    "from sklearn.naive_bayes import GaussianNB\n",
    "from sklearn.model_selection import train_test_split\n",
    "warnings.filterwarnings('ignore')"
   ]
  },
  {
   "cell_type": "markdown",
   "metadata": {},
   "source": [
    "#### Funciones"
   ]
  },
  {
   "cell_type": "code",
   "execution_count": 23,
   "metadata": {},
   "outputs": [],
   "source": [
    "def Temperatura(Temperatura):\n",
    "    \"\"\"\n",
    "    Función para categorizar la temperatura.\n",
    "    :param Temperatura: Temperatura a categorizar.\n",
    "    :return: Devuelve la temperatura categorizada.\n",
    "    \"\"\"\n",
    "    if Temperatura <= 10:\n",
    "        return 0\n",
    "    elif Temperatura > 10 and Temperatura <= 20:\n",
    "        return 1\n",
    "    else:\n",
    "        return 2\n",
    "    \n",
    "def Precipitaciones(Precipitacion):\n",
    "    \"\"\"\n",
    "    Función para categorizar la precipitación.\n",
    "    :param Precipitacion: Temperatura a categorizar.\n",
    "    :return: Devuelve la precipitación categorizada.\n",
    "    \"\"\"\n",
    "    if Precipitacion <= 1:\n",
    "        return 0\n",
    "    elif Precipitacion > 1 and Precipitacion <= 2:\n",
    "        return 1\n",
    "    else:\n",
    "        return 2\n",
    "    \n",
    "def TrueOrFalse(Lluvia):\n",
    "    \"\"\"\n",
    "    Función para categorizar la lluvia.\n",
    "    :param Lluvia: Temperatura a categorizar.\n",
    "    :return: Devuelve la lluvia categorizada.\n",
    "    \"\"\"\n",
    "    if Lluvia:\n",
    "        return 1\n",
    "    else:\n",
    "        return 0\n",
    "\n",
    "def PredecirLluvia(Modelo, Datos):\n",
    "    \"\"\"\n",
    "    Función para predecir si va a llover o no.\n",
    "    :param Modelo: Modelo con el que predecir.\n",
    "    :param Datos: Datos con los que predecir.\n",
    "    :return: Devuelve si va a llover o no.\n",
    "    \"\"\"\n",
    "    resultado = modelo.predict([Datos])\n",
    "    if resultado[0] == 1:\n",
    "        print(\"Lloverá\")\n",
    "    else:\n",
    "        print(\"No lloverá\")"
   ]
  },
  {
   "cell_type": "markdown",
   "metadata": {},
   "source": [
    "#### Dirección del dataset"
   ]
  },
  {
   "cell_type": "code",
   "execution_count": 24,
   "metadata": {},
   "outputs": [],
   "source": [
    "DIR_DATASET = \"Datos/lluvias.csv\""
   ]
  },
  {
   "cell_type": "markdown",
   "metadata": {},
   "source": [
    "## 1. Preparación del dataset"
   ]
  },
  {
   "cell_type": "markdown",
   "metadata": {},
   "source": [
    "<font color=\"blue\">Cargamos el dataset de lluvias.</font>"
   ]
  },
  {
   "cell_type": "code",
   "execution_count": 25,
   "metadata": {},
   "outputs": [
    {
     "name": "stdout",
     "output_type": "stream",
     "text": [
      "Hay 25551 registros.\n"
     ]
    },
    {
     "data": {
      "text/html": [
       "<div>\n",
       "<style scoped>\n",
       "    .dataframe tbody tr th:only-of-type {\n",
       "        vertical-align: middle;\n",
       "    }\n",
       "\n",
       "    .dataframe tbody tr th {\n",
       "        vertical-align: top;\n",
       "    }\n",
       "\n",
       "    .dataframe thead th {\n",
       "        text-align: right;\n",
       "    }\n",
       "</style>\n",
       "<table border=\"1\" class=\"dataframe\">\n",
       "  <thead>\n",
       "    <tr style=\"text-align: right;\">\n",
       "      <th></th>\n",
       "      <th>PRCP</th>\n",
       "      <th>TMAX</th>\n",
       "      <th>TMIN</th>\n",
       "      <th>RAIN</th>\n",
       "    </tr>\n",
       "  </thead>\n",
       "  <tbody>\n",
       "    <tr>\n",
       "      <th>0</th>\n",
       "      <td>0.47</td>\n",
       "      <td>51</td>\n",
       "      <td>42</td>\n",
       "      <td>True</td>\n",
       "    </tr>\n",
       "    <tr>\n",
       "      <th>1</th>\n",
       "      <td>0.59</td>\n",
       "      <td>45</td>\n",
       "      <td>36</td>\n",
       "      <td>True</td>\n",
       "    </tr>\n",
       "    <tr>\n",
       "      <th>2</th>\n",
       "      <td>0.42</td>\n",
       "      <td>45</td>\n",
       "      <td>35</td>\n",
       "      <td>True</td>\n",
       "    </tr>\n",
       "    <tr>\n",
       "      <th>3</th>\n",
       "      <td>0.31</td>\n",
       "      <td>45</td>\n",
       "      <td>34</td>\n",
       "      <td>True</td>\n",
       "    </tr>\n",
       "    <tr>\n",
       "      <th>4</th>\n",
       "      <td>0.17</td>\n",
       "      <td>45</td>\n",
       "      <td>32</td>\n",
       "      <td>True</td>\n",
       "    </tr>\n",
       "  </tbody>\n",
       "</table>\n",
       "</div>"
      ],
      "text/plain": [
       "   PRCP  TMAX  TMIN  RAIN\n",
       "0  0.47    51    42  True\n",
       "1  0.59    45    36  True\n",
       "2  0.42    45    35  True\n",
       "3  0.31    45    34  True\n",
       "4  0.17    45    32  True"
      ]
     },
     "execution_count": 25,
     "metadata": {},
     "output_type": "execute_result"
    }
   ],
   "source": [
    "Datos = pd.read_csv(DIR_DATASET)\n",
    "del Datos[\"DATE\"]\n",
    "print(\"Hay \" + str(len(Datos)) + \" registros.\")\n",
    "Datos.head()"
   ]
  },
  {
   "cell_type": "markdown",
   "metadata": {},
   "source": [
    "#### 1.1 Limpiamos los campos que son nulos."
   ]
  },
  {
   "cell_type": "markdown",
   "metadata": {},
   "source": [
    "<font color=\"blue\">Contamos los campos nulos por cada columna.</font>"
   ]
  },
  {
   "cell_type": "code",
   "execution_count": 26,
   "metadata": {},
   "outputs": [
    {
     "data": {
      "text/html": [
       "<div>\n",
       "<style scoped>\n",
       "    .dataframe tbody tr th:only-of-type {\n",
       "        vertical-align: middle;\n",
       "    }\n",
       "\n",
       "    .dataframe tbody tr th {\n",
       "        vertical-align: top;\n",
       "    }\n",
       "\n",
       "    .dataframe thead th {\n",
       "        text-align: right;\n",
       "    }\n",
       "</style>\n",
       "<table border=\"1\" class=\"dataframe\">\n",
       "  <thead>\n",
       "    <tr style=\"text-align: right;\">\n",
       "      <th></th>\n",
       "      <th>Número de nulos</th>\n",
       "    </tr>\n",
       "  </thead>\n",
       "  <tbody>\n",
       "    <tr>\n",
       "      <th>PRCP</th>\n",
       "      <td>3</td>\n",
       "    </tr>\n",
       "    <tr>\n",
       "      <th>TMAX</th>\n",
       "      <td>0</td>\n",
       "    </tr>\n",
       "    <tr>\n",
       "      <th>TMIN</th>\n",
       "      <td>0</td>\n",
       "    </tr>\n",
       "    <tr>\n",
       "      <th>RAIN</th>\n",
       "      <td>3</td>\n",
       "    </tr>\n",
       "  </tbody>\n",
       "</table>\n",
       "</div>"
      ],
      "text/plain": [
       "      Número de nulos\n",
       "PRCP                3\n",
       "TMAX                0\n",
       "TMIN                0\n",
       "RAIN                3"
      ]
     },
     "execution_count": 26,
     "metadata": {},
     "output_type": "execute_result"
    }
   ],
   "source": [
    "nulos = pd.DataFrame(Datos.isna().sum(), columns=[\"Número de nulos\"])\n",
    "nulos"
   ]
  },
  {
   "cell_type": "markdown",
   "metadata": {},
   "source": [
    "<font color=\"blue\">Volvemos a contar los registros nulos para cerciorarnos de que ya hemos limpiado todos los campos nulos.</font>"
   ]
  },
  {
   "cell_type": "code",
   "execution_count": 27,
   "metadata": {},
   "outputs": [
    {
     "data": {
      "text/html": [
       "<div>\n",
       "<style scoped>\n",
       "    .dataframe tbody tr th:only-of-type {\n",
       "        vertical-align: middle;\n",
       "    }\n",
       "\n",
       "    .dataframe tbody tr th {\n",
       "        vertical-align: top;\n",
       "    }\n",
       "\n",
       "    .dataframe thead th {\n",
       "        text-align: right;\n",
       "    }\n",
       "</style>\n",
       "<table border=\"1\" class=\"dataframe\">\n",
       "  <thead>\n",
       "    <tr style=\"text-align: right;\">\n",
       "      <th></th>\n",
       "      <th>Número de nulos</th>\n",
       "    </tr>\n",
       "  </thead>\n",
       "  <tbody>\n",
       "    <tr>\n",
       "      <th>PRCP</th>\n",
       "      <td>0</td>\n",
       "    </tr>\n",
       "    <tr>\n",
       "      <th>TMAX</th>\n",
       "      <td>0</td>\n",
       "    </tr>\n",
       "    <tr>\n",
       "      <th>TMIN</th>\n",
       "      <td>0</td>\n",
       "    </tr>\n",
       "    <tr>\n",
       "      <th>RAIN</th>\n",
       "      <td>0</td>\n",
       "    </tr>\n",
       "  </tbody>\n",
       "</table>\n",
       "</div>"
      ],
      "text/plain": [
       "      Número de nulos\n",
       "PRCP                0\n",
       "TMAX                0\n",
       "TMIN                0\n",
       "RAIN                0"
      ]
     },
     "execution_count": 27,
     "metadata": {},
     "output_type": "execute_result"
    }
   ],
   "source": [
    "# Eliminamos las filas cuyos datos que nos interesan están a nulo.\n",
    "Datos = Datos.drop(Datos[Datos[\"PRCP\"].isnull() == True].index)\n",
    "Datos = Datos.drop(Datos[Datos[\"RAIN\"].isnull() == True].index)\n",
    "\n",
    "nulos = pd.DataFrame(Datos.isna().sum(), columns=[\"Número de nulos\"])\n",
    "nulos"
   ]
  },
  {
   "cell_type": "markdown",
   "metadata": {},
   "source": [
    "#### 1.2 Categorizamos las columnas del dataset."
   ]
  },
  {
   "cell_type": "code",
   "execution_count": 28,
   "metadata": {},
   "outputs": [
    {
     "data": {
      "text/html": [
       "<div>\n",
       "<style scoped>\n",
       "    .dataframe tbody tr th:only-of-type {\n",
       "        vertical-align: middle;\n",
       "    }\n",
       "\n",
       "    .dataframe tbody tr th {\n",
       "        vertical-align: top;\n",
       "    }\n",
       "\n",
       "    .dataframe thead th {\n",
       "        text-align: right;\n",
       "    }\n",
       "</style>\n",
       "<table border=\"1\" class=\"dataframe\">\n",
       "  <thead>\n",
       "    <tr style=\"text-align: right;\">\n",
       "      <th></th>\n",
       "      <th>PRCP</th>\n",
       "      <th>TMAX</th>\n",
       "      <th>TMIN</th>\n",
       "      <th>RAIN</th>\n",
       "    </tr>\n",
       "  </thead>\n",
       "  <tbody>\n",
       "    <tr>\n",
       "      <th>0</th>\n",
       "      <td>0</td>\n",
       "      <td>2</td>\n",
       "      <td>2</td>\n",
       "      <td>1</td>\n",
       "    </tr>\n",
       "    <tr>\n",
       "      <th>1</th>\n",
       "      <td>0</td>\n",
       "      <td>2</td>\n",
       "      <td>2</td>\n",
       "      <td>1</td>\n",
       "    </tr>\n",
       "    <tr>\n",
       "      <th>2</th>\n",
       "      <td>0</td>\n",
       "      <td>2</td>\n",
       "      <td>2</td>\n",
       "      <td>1</td>\n",
       "    </tr>\n",
       "    <tr>\n",
       "      <th>3</th>\n",
       "      <td>0</td>\n",
       "      <td>2</td>\n",
       "      <td>2</td>\n",
       "      <td>1</td>\n",
       "    </tr>\n",
       "    <tr>\n",
       "      <th>4</th>\n",
       "      <td>0</td>\n",
       "      <td>2</td>\n",
       "      <td>2</td>\n",
       "      <td>1</td>\n",
       "    </tr>\n",
       "  </tbody>\n",
       "</table>\n",
       "</div>"
      ],
      "text/plain": [
       "   PRCP  TMAX  TMIN  RAIN\n",
       "0     0     2     2     1\n",
       "1     0     2     2     1\n",
       "2     0     2     2     1\n",
       "3     0     2     2     1\n",
       "4     0     2     2     1"
      ]
     },
     "execution_count": 28,
     "metadata": {},
     "output_type": "execute_result"
    }
   ],
   "source": [
    "DatosSinCategorizar = Datos.copy()\n",
    "\n",
    "Datos['TMAX'] = Datos[\"TMAX\"].apply(lambda row: Temperatura(row))\n",
    "Datos['TMIN'] = Datos[\"TMIN\"].apply(lambda row: Temperatura(row))\n",
    "Datos['PRCP'] = Datos[\"PRCP\"].apply(lambda row: Precipitaciones(row))\n",
    "\n",
    "Datos['RAIN'] = Datos[\"RAIN\"].apply(lambda row: TrueOrFalse(row))\n",
    "DatosSinCategorizar['RAIN'] = DatosSinCategorizar[\"RAIN\"].apply(lambda row: TrueOrFalse(row))\n",
    "Datos.head()"
   ]
  },
  {
   "cell_type": "markdown",
   "metadata": {},
   "source": [
    "#### 1.3 Separamos los valores para predecir y la clase esperada."
   ]
  },
  {
   "cell_type": "code",
   "execution_count": 29,
   "metadata": {},
   "outputs": [],
   "source": [
    "esperado = Datos[\"RAIN\"].values\n",
    "del Datos[\"RAIN\"]\n",
    "valores = Datos.values"
   ]
  },
  {
   "cell_type": "markdown",
   "metadata": {},
   "source": [
    "#### 1.4 Separamos los valores para entrenar y validar."
   ]
  },
  {
   "cell_type": "code",
   "execution_count": 30,
   "metadata": {},
   "outputs": [],
   "source": [
    "x_entrenam, x_test, y_entrenam, y_test = train_test_split(valores, esperado, test_size=0.2)"
   ]
  },
  {
   "cell_type": "markdown",
   "metadata": {},
   "source": [
    "## 2. Creación del modelo"
   ]
  },
  {
   "cell_type": "code",
   "execution_count": 31,
   "metadata": {},
   "outputs": [
    {
     "data": {
      "text/plain": [
       "GaussianNB(priors=None)"
      ]
     },
     "execution_count": 31,
     "metadata": {},
     "output_type": "execute_result"
    }
   ],
   "source": [
    "modelo = GaussianNB()\n",
    "modelo.fit(x_entrenam, y_entrenam)"
   ]
  },
  {
   "cell_type": "code",
   "execution_count": 32,
   "metadata": {},
   "outputs": [],
   "source": [
    "predecido = modelo.predict(x_test)"
   ]
  },
  {
   "cell_type": "code",
   "execution_count": 33,
   "metadata": {},
   "outputs": [
    {
     "name": "stdout",
     "output_type": "stream",
     "text": [
      "El modelo tiene una precisión del: 58.4%\n"
     ]
    }
   ],
   "source": [
    "# Calculamos el procentaje de precisión del modelo.\n",
    "precision = round(accuracy_score(predecido, y_test) * 100, 1)\n",
    "\n",
    "# Imprimimos el resultado\n",
    "print(\"El modelo tiene una precisión del: \" + str(precision) + \"%\")"
   ]
  },
  {
   "cell_type": "markdown",
   "metadata": {},
   "source": [
    "## 3. Prueba del modelo"
   ]
  },
  {
   "cell_type": "markdown",
   "metadata": {},
   "source": [
    "<font color=\"blue\">Sábado 24, domingo 25, lunes 26. 1: Lloverá, 0: No lloverá</font>"
   ]
  },
  {
   "cell_type": "code",
   "execution_count": 34,
   "metadata": {},
   "outputs": [
    {
     "name": "stdout",
     "output_type": "stream",
     "text": [
      "No lloverá\n"
     ]
    }
   ],
   "source": [
    "PredecirLluvia(modelo, [1,1,0])"
   ]
  },
  {
   "cell_type": "code",
   "execution_count": 35,
   "metadata": {},
   "outputs": [
    {
     "name": "stdout",
     "output_type": "stream",
     "text": [
      "Lloverá\n"
     ]
    }
   ],
   "source": [
    "PredecirLluvia(modelo, [1,1,0])"
   ]
  },
  {
   "cell_type": "code",
   "execution_count": 36,
   "metadata": {},
   "outputs": [
    {
     "name": "stdout",
     "output_type": "stream",
     "text": [
      "Lloverá\n"
     ]
    }
   ],
   "source": [
    "PredecirLluvia(modelo, [0,1,0])"
   ]
  },
  {
   "cell_type": "markdown",
   "metadata": {},
   "source": [
    "## ANEXO I"
   ]
  },
  {
   "cell_type": "markdown",
   "metadata": {},
   "source": [
    "#### Separamos los valores para predecir y la clase esperada."
   ]
  },
  {
   "cell_type": "code",
   "execution_count": 37,
   "metadata": {},
   "outputs": [],
   "source": [
    "esperado = DatosSinCategorizar[\"RAIN\"].values\n",
    "del DatosSinCategorizar[\"RAIN\"]\n",
    "valores = DatosSinCategorizar.values"
   ]
  },
  {
   "cell_type": "markdown",
   "metadata": {},
   "source": [
    "#### Separamos los valores para entrenar y validar."
   ]
  },
  {
   "cell_type": "code",
   "execution_count": 38,
   "metadata": {},
   "outputs": [],
   "source": [
    "x_entrenam, x_test, y_entrenam, y_test = train_test_split(valores, esperado, test_size=0.2)"
   ]
  },
  {
   "cell_type": "markdown",
   "metadata": {},
   "source": [
    "####  Creación del modelo."
   ]
  },
  {
   "cell_type": "code",
   "execution_count": 39,
   "metadata": {},
   "outputs": [
    {
     "name": "stdout",
     "output_type": "stream",
     "text": [
      "El modelo tiene una precisión del: 100.0%\n"
     ]
    }
   ],
   "source": [
    "modelo = GaussianNB()\n",
    "modelo.fit(x_entrenam, y_entrenam)\n",
    "predecido = modelo.predict(x_test)\n",
    "\n",
    "# Calculamos el procentaje de precisión del modelo.\n",
    "precision = round(accuracy_score(predecido, y_test) * 100, 1)\n",
    "\n",
    "# Imprimimos el resultado\n",
    "print(\"El modelo tiene una precisión del: \" + str(precision) + \"%\")"
   ]
  },
  {
   "cell_type": "markdown",
   "metadata": {},
   "source": [
    "#### Prueba del modelo."
   ]
  },
  {
   "cell_type": "markdown",
   "metadata": {},
   "source": [
    "<font color=\"blue\">Sábado 24, domingo 25, lunes 26. 1: Lloverá, 0: No lloverá</font>"
   ]
  },
  {
   "cell_type": "code",
   "execution_count": 40,
   "metadata": {},
   "outputs": [
    {
     "name": "stdout",
     "output_type": "stream",
     "text": [
      "Lloverá\n"
     ]
    }
   ],
   "source": [
    "PredecirLluvia(modelo, [1.9,13,7])"
   ]
  },
  {
   "cell_type": "code",
   "execution_count": 41,
   "metadata": {},
   "outputs": [
    {
     "name": "stdout",
     "output_type": "stream",
     "text": [
      "Lloverá\n"
     ]
    }
   ],
   "source": [
    "PredecirLluvia(modelo, [1.1,12,8])"
   ]
  },
  {
   "cell_type": "code",
   "execution_count": 42,
   "metadata": {},
   "outputs": [
    {
     "name": "stdout",
     "output_type": "stream",
     "text": [
      "No lloverá\n"
     ]
    }
   ],
   "source": [
    "PredecirLluvia(modelo, [0,12,2])"
   ]
  },
  {
   "cell_type": "markdown",
   "metadata": {},
   "source": [
    "## Referencias"
   ]
  },
  {
   "cell_type": "markdown",
   "metadata": {},
   "source": [
    "<ul>\n",
    "    <li>https://dzone.com/articles/naive-bayes-tutorial-naive-bayes-classifier-in-pyt/</li>\n",
    "    <li>https://stackabuse.com/the-naive-bayes-algorithm-in-python-with-scikit-learn/</li>\n",
    "    <li>Apuntes de la asignatura</li>\n",
    "</ul>"
   ]
  }
 ],
 "metadata": {
  "kernelspec": {
   "display_name": "Python 3",
   "language": "python",
   "name": "python3"
  },
  "language_info": {
   "codemirror_mode": {
    "name": "ipython",
    "version": 3
   },
   "file_extension": ".py",
   "mimetype": "text/x-python",
   "name": "python",
   "nbconvert_exporter": "python",
   "pygments_lexer": "ipython3",
   "version": "3.6.5"
  }
 },
 "nbformat": 4,
 "nbformat_minor": 2
}
