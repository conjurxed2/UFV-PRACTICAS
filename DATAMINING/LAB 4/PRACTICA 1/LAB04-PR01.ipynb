{
 "cells": [
  {
   "cell_type": "markdown",
   "metadata": {},
   "source": [
    "# Laboratorio 4 - Práctica 1\n",
    "### Gonzalo de las Heras de Matías - Jorge de la Fuente Tagarro\n",
    "## Predictor enfermedades cardiovasculares\n",
    "\n",
    "![title](Images/cardio.jpg)\n",
    "### Objetivo \n",
    "\n",
    "Un médico se acaba de trasladar a trabajar a una zona rural. Debido a la gran problemática que surge con la\n",
    "dispersión geográfica de los pacientes, se quiere implementar un sistema que pueda predecir varios\n",
    "parámetros. Algunos de ellos pueden influir en adquirir una enfermedad cardiovascular. En el caso de\n",
    "necesitar una intervención se podrá prever parte del material que necesitaría para una intervención. Para cada\n",
    "uno de los siguientes casos: calcula y establece que tipo de relación hay entre las variables, dibuja un diagrama\n",
    "de dispersión con los casos en el que también se incluya el modelo obtenido y por último haz una predicción\n",
    "con un dato cualquiera.\n",
    "\n",
    "### Cuestiones \n",
    "\n",
    "<ol type=\"o\">\n",
    "  <li>La presión arterial es uno de los factores que está relacionado con las enfermedades cardiovasculares.\n",
    "Utiliza el archivo presion.csv para poder calcular la posible presión arterial de un paciente con respecto\n",
    "a su edad.</li>\n",
    "  <li>Los altos niveles de colesterol en sangre están también relacionados con este tipo de enfermedades.\n",
    "Utiliza el archivo colesterol.csv para poder calcular la posible cantidad de colesterol en sangre con\n",
    "respecto al peso del paciente.</li>\n",
    "  <li>El consumo excesivo de alcohol está también relacionado con la adquisición de enfermedades\n",
    "cardiovasculares. Utiliza el archivo alcohol.csv para poder calcular el consumo de alcohol de un\n",
    "paciente dependiendo de su edad.</li>\n",
    "   <li>En caso de que un paciente necesite ser intervenido, se quiere calcular la longitud del catéter. Utiliza\n",
    "el archivo cateter.csv para poder calcular la cantidad de necesaria de materiales a la hora de intervenir\n",
    "al paciente.</li>\n",
    "    <li>Explica cómo funcionaría el posible sistema creado para calcular los parámetros descritos arriba.</li>\n",
    "</ol>"
   ]
  },
  {
   "cell_type": "markdown",
   "metadata": {},
   "source": [
    "#### Librerias"
   ]
  },
  {
   "cell_type": "code",
   "execution_count": 1,
   "metadata": {},
   "outputs": [],
   "source": [
    "import pandas as pd\n",
    "import matplotlib.pyplot as plt\n",
    "from sklearn.linear_model import LinearRegression\n",
    "from sklearn.model_selection import train_test_split\n",
    "from IPython.display import clear_output\n",
    "from sklearn.metrics import mean_squared_error\n",
    "from scipy.stats import pearsonr\n",
    "from pylab import *"
   ]
  },
  {
   "cell_type": "markdown",
   "metadata": {},
   "source": [
    "#### Dirección del dataset"
   ]
  },
  {
   "cell_type": "code",
   "execution_count": 2,
   "metadata": {},
   "outputs": [],
   "source": [
    "DIR_BASE_DATASETS = \"Datos/\""
   ]
  },
  {
   "cell_type": "code",
   "execution_count": 3,
   "metadata": {},
   "outputs": [],
   "source": [
    "DIR_DATASET_PRESION = DIR_BASE_DATASETS + \"presion.csv\"\n",
    "DIR_DATASET_COLESTEROL = DIR_BASE_DATASETS + \"colesterol.csv\"\n",
    "DIR_DATASET_ALCOHOL = DIR_BASE_DATASETS + \"alcohol.csv\"\n",
    "DIR_DATASET_CATETER = DIR_BASE_DATASETS + \"cateter.csv\""
   ]
  },
  {
   "cell_type": "markdown",
   "metadata": {},
   "source": [
    "## 1. Preparación del dataset"
   ]
  },
  {
   "cell_type": "code",
   "execution_count": 4,
   "metadata": {},
   "outputs": [
    {
     "name": "stdout",
     "output_type": "stream",
     "text": [
      "Hay 30 registros.\n"
     ]
    },
    {
     "data": {
      "text/html": [
       "<div>\n",
       "<style scoped>\n",
       "    .dataframe tbody tr th:only-of-type {\n",
       "        vertical-align: middle;\n",
       "    }\n",
       "\n",
       "    .dataframe tbody tr th {\n",
       "        vertical-align: top;\n",
       "    }\n",
       "\n",
       "    .dataframe thead th {\n",
       "        text-align: right;\n",
       "    }\n",
       "</style>\n",
       "<table border=\"1\" class=\"dataframe\">\n",
       "  <thead>\n",
       "    <tr style=\"text-align: right;\">\n",
       "      <th></th>\n",
       "      <th>Número de nulos</th>\n",
       "    </tr>\n",
       "  </thead>\n",
       "  <tbody>\n",
       "    <tr>\n",
       "      <th>Edad</th>\n",
       "      <td>0</td>\n",
       "    </tr>\n",
       "    <tr>\n",
       "      <th>Presion_sanguinea</th>\n",
       "      <td>0</td>\n",
       "    </tr>\n",
       "  </tbody>\n",
       "</table>\n",
       "</div>"
      ],
      "text/plain": [
       "                   Número de nulos\n",
       "Edad                             0\n",
       "Presion_sanguinea                0"
      ]
     },
     "execution_count": 4,
     "metadata": {},
     "output_type": "execute_result"
    }
   ],
   "source": [
    "DatosPresion = pd.read_csv(DIR_DATASET_PRESION)\n",
    "print(\"Hay\", len(DatosPresion), \"registros.\")\n",
    "nulos = pd.DataFrame(DatosPresion.isnull().sum(), columns=[\"Número de nulos\"])\n",
    "nulos"
   ]
  },
  {
   "cell_type": "code",
   "execution_count": 5,
   "metadata": {},
   "outputs": [
    {
     "name": "stdout",
     "output_type": "stream",
     "text": [
      "Hay 25 registros.\n"
     ]
    },
    {
     "data": {
      "text/html": [
       "<div>\n",
       "<style scoped>\n",
       "    .dataframe tbody tr th:only-of-type {\n",
       "        vertical-align: middle;\n",
       "    }\n",
       "\n",
       "    .dataframe tbody tr th {\n",
       "        vertical-align: top;\n",
       "    }\n",
       "\n",
       "    .dataframe thead th {\n",
       "        text-align: right;\n",
       "    }\n",
       "</style>\n",
       "<table border=\"1\" class=\"dataframe\">\n",
       "  <thead>\n",
       "    <tr style=\"text-align: right;\">\n",
       "      <th></th>\n",
       "      <th>Número de nulos</th>\n",
       "    </tr>\n",
       "  </thead>\n",
       "  <tbody>\n",
       "    <tr>\n",
       "      <th>Peso</th>\n",
       "      <td>0</td>\n",
       "    </tr>\n",
       "    <tr>\n",
       "      <th>Colesterol</th>\n",
       "      <td>0</td>\n",
       "    </tr>\n",
       "  </tbody>\n",
       "</table>\n",
       "</div>"
      ],
      "text/plain": [
       "            Número de nulos\n",
       "Peso                      0\n",
       "Colesterol                0"
      ]
     },
     "execution_count": 5,
     "metadata": {},
     "output_type": "execute_result"
    }
   ],
   "source": [
    "DatosColesterol = pd.read_csv(DIR_DATASET_COLESTEROL)\n",
    "print(\"Hay\", len(DatosColesterol), \"registros.\")\n",
    "nulos = pd.DataFrame(DatosColesterol.isnull().sum(), columns=[\"Número de nulos\"])\n",
    "nulos"
   ]
  },
  {
   "cell_type": "code",
   "execution_count": 6,
   "metadata": {},
   "outputs": [
    {
     "name": "stdout",
     "output_type": "stream",
     "text": [
      "Hay 46 registros.\n"
     ]
    },
    {
     "data": {
      "text/html": [
       "<div>\n",
       "<style scoped>\n",
       "    .dataframe tbody tr th:only-of-type {\n",
       "        vertical-align: middle;\n",
       "    }\n",
       "\n",
       "    .dataframe tbody tr th {\n",
       "        vertical-align: top;\n",
       "    }\n",
       "\n",
       "    .dataframe thead th {\n",
       "        text-align: right;\n",
       "    }\n",
       "</style>\n",
       "<table border=\"1\" class=\"dataframe\">\n",
       "  <thead>\n",
       "    <tr style=\"text-align: right;\">\n",
       "      <th></th>\n",
       "      <th>Número de nulos</th>\n",
       "    </tr>\n",
       "  </thead>\n",
       "  <tbody>\n",
       "    <tr>\n",
       "      <th>Edad</th>\n",
       "      <td>0</td>\n",
       "    </tr>\n",
       "    <tr>\n",
       "      <th>Consumo_alcohol</th>\n",
       "      <td>0</td>\n",
       "    </tr>\n",
       "  </tbody>\n",
       "</table>\n",
       "</div>"
      ],
      "text/plain": [
       "                 Número de nulos\n",
       "Edad                           0\n",
       "Consumo_alcohol                0"
      ]
     },
     "execution_count": 6,
     "metadata": {},
     "output_type": "execute_result"
    }
   ],
   "source": [
    "DatosAlcohol = pd.read_csv(DIR_DATASET_ALCOHOL)\n",
    "print(\"Hay\", len(DatosAlcohol), \"registros.\")\n",
    "nulos = pd.DataFrame(DatosAlcohol.isnull().sum(), columns=[\"Número de nulos\"])\n",
    "nulos"
   ]
  },
  {
   "cell_type": "code",
   "execution_count": 7,
   "metadata": {},
   "outputs": [
    {
     "name": "stdout",
     "output_type": "stream",
     "text": [
      "Hay 12 registros.\n"
     ]
    },
    {
     "data": {
      "text/html": [
       "<div>\n",
       "<style scoped>\n",
       "    .dataframe tbody tr th:only-of-type {\n",
       "        vertical-align: middle;\n",
       "    }\n",
       "\n",
       "    .dataframe tbody tr th {\n",
       "        vertical-align: top;\n",
       "    }\n",
       "\n",
       "    .dataframe thead th {\n",
       "        text-align: right;\n",
       "    }\n",
       "</style>\n",
       "<table border=\"1\" class=\"dataframe\">\n",
       "  <thead>\n",
       "    <tr style=\"text-align: right;\">\n",
       "      <th></th>\n",
       "      <th>Número de nulos</th>\n",
       "    </tr>\n",
       "  </thead>\n",
       "  <tbody>\n",
       "    <tr>\n",
       "      <th>Altura</th>\n",
       "      <td>0</td>\n",
       "    </tr>\n",
       "    <tr>\n",
       "      <th>Long_cateter</th>\n",
       "      <td>0</td>\n",
       "    </tr>\n",
       "  </tbody>\n",
       "</table>\n",
       "</div>"
      ],
      "text/plain": [
       "              Número de nulos\n",
       "Altura                      0\n",
       "Long_cateter                0"
      ]
     },
     "execution_count": 7,
     "metadata": {},
     "output_type": "execute_result"
    }
   ],
   "source": [
    "DatosCateter = pd.read_csv(DIR_DATASET_CATETER)\n",
    "print(\"Hay\", len(DatosCateter), \"registros.\")\n",
    "nulos = pd.DataFrame(DatosCateter.isnull().sum(), columns=[\"Número de nulos\"])\n",
    "nulos"
   ]
  },
  {
   "cell_type": "code",
   "execution_count": 8,
   "metadata": {},
   "outputs": [
    {
     "data": {
      "text/html": [
       "<div>\n",
       "<style scoped>\n",
       "    .dataframe tbody tr th:only-of-type {\n",
       "        vertical-align: middle;\n",
       "    }\n",
       "\n",
       "    .dataframe tbody tr th {\n",
       "        vertical-align: top;\n",
       "    }\n",
       "\n",
       "    .dataframe thead th {\n",
       "        text-align: right;\n",
       "    }\n",
       "</style>\n",
       "<table border=\"1\" class=\"dataframe\">\n",
       "  <thead>\n",
       "    <tr style=\"text-align: right;\">\n",
       "      <th></th>\n",
       "      <th>Edad</th>\n",
       "      <th>Presion_sanguinea</th>\n",
       "    </tr>\n",
       "  </thead>\n",
       "  <tbody>\n",
       "    <tr>\n",
       "      <th>0</th>\n",
       "      <td>39</td>\n",
       "      <td>144</td>\n",
       "    </tr>\n",
       "    <tr>\n",
       "      <th>1</th>\n",
       "      <td>47</td>\n",
       "      <td>220</td>\n",
       "    </tr>\n",
       "    <tr>\n",
       "      <th>2</th>\n",
       "      <td>45</td>\n",
       "      <td>138</td>\n",
       "    </tr>\n",
       "    <tr>\n",
       "      <th>3</th>\n",
       "      <td>47</td>\n",
       "      <td>145</td>\n",
       "    </tr>\n",
       "    <tr>\n",
       "      <th>4</th>\n",
       "      <td>65</td>\n",
       "      <td>162</td>\n",
       "    </tr>\n",
       "  </tbody>\n",
       "</table>\n",
       "</div>"
      ],
      "text/plain": [
       "   Edad  Presion_sanguinea\n",
       "0    39                144\n",
       "1    47                220\n",
       "2    45                138\n",
       "3    47                145\n",
       "4    65                162"
      ]
     },
     "execution_count": 8,
     "metadata": {},
     "output_type": "execute_result"
    }
   ],
   "source": [
    "DatosPresion.head()"
   ]
  },
  {
   "cell_type": "code",
   "execution_count": 9,
   "metadata": {},
   "outputs": [
    {
     "data": {
      "text/html": [
       "<div>\n",
       "<style scoped>\n",
       "    .dataframe tbody tr th:only-of-type {\n",
       "        vertical-align: middle;\n",
       "    }\n",
       "\n",
       "    .dataframe tbody tr th {\n",
       "        vertical-align: top;\n",
       "    }\n",
       "\n",
       "    .dataframe thead th {\n",
       "        text-align: right;\n",
       "    }\n",
       "</style>\n",
       "<table border=\"1\" class=\"dataframe\">\n",
       "  <thead>\n",
       "    <tr style=\"text-align: right;\">\n",
       "      <th></th>\n",
       "      <th>Peso</th>\n",
       "      <th>Colesterol</th>\n",
       "    </tr>\n",
       "  </thead>\n",
       "  <tbody>\n",
       "    <tr>\n",
       "      <th>0</th>\n",
       "      <td>84</td>\n",
       "      <td>354</td>\n",
       "    </tr>\n",
       "    <tr>\n",
       "      <th>1</th>\n",
       "      <td>73</td>\n",
       "      <td>190</td>\n",
       "    </tr>\n",
       "    <tr>\n",
       "      <th>2</th>\n",
       "      <td>65</td>\n",
       "      <td>405</td>\n",
       "    </tr>\n",
       "    <tr>\n",
       "      <th>3</th>\n",
       "      <td>70</td>\n",
       "      <td>263</td>\n",
       "    </tr>\n",
       "    <tr>\n",
       "      <th>4</th>\n",
       "      <td>76</td>\n",
       "      <td>451</td>\n",
       "    </tr>\n",
       "  </tbody>\n",
       "</table>\n",
       "</div>"
      ],
      "text/plain": [
       "   Peso  Colesterol\n",
       "0    84         354\n",
       "1    73         190\n",
       "2    65         405\n",
       "3    70         263\n",
       "4    76         451"
      ]
     },
     "execution_count": 9,
     "metadata": {},
     "output_type": "execute_result"
    }
   ],
   "source": [
    "DatosColesterol.head()"
   ]
  },
  {
   "cell_type": "code",
   "execution_count": 10,
   "metadata": {},
   "outputs": [
    {
     "data": {
      "text/html": [
       "<div>\n",
       "<style scoped>\n",
       "    .dataframe tbody tr th:only-of-type {\n",
       "        vertical-align: middle;\n",
       "    }\n",
       "\n",
       "    .dataframe tbody tr th {\n",
       "        vertical-align: top;\n",
       "    }\n",
       "\n",
       "    .dataframe thead th {\n",
       "        text-align: right;\n",
       "    }\n",
       "</style>\n",
       "<table border=\"1\" class=\"dataframe\">\n",
       "  <thead>\n",
       "    <tr style=\"text-align: right;\">\n",
       "      <th></th>\n",
       "      <th>Edad</th>\n",
       "      <th>Consumo_alcohol</th>\n",
       "    </tr>\n",
       "  </thead>\n",
       "  <tbody>\n",
       "    <tr>\n",
       "      <th>0</th>\n",
       "      <td>44</td>\n",
       "      <td>30</td>\n",
       "    </tr>\n",
       "    <tr>\n",
       "      <th>1</th>\n",
       "      <td>43</td>\n",
       "      <td>41</td>\n",
       "    </tr>\n",
       "    <tr>\n",
       "      <th>2</th>\n",
       "      <td>48</td>\n",
       "      <td>38</td>\n",
       "    </tr>\n",
       "    <tr>\n",
       "      <th>3</th>\n",
       "      <td>52</td>\n",
       "      <td>48</td>\n",
       "    </tr>\n",
       "    <tr>\n",
       "      <th>4</th>\n",
       "      <td>71</td>\n",
       "      <td>53</td>\n",
       "    </tr>\n",
       "  </tbody>\n",
       "</table>\n",
       "</div>"
      ],
      "text/plain": [
       "   Edad  Consumo_alcohol\n",
       "0    44               30\n",
       "1    43               41\n",
       "2    48               38\n",
       "3    52               48\n",
       "4    71               53"
      ]
     },
     "execution_count": 10,
     "metadata": {},
     "output_type": "execute_result"
    }
   ],
   "source": [
    "DatosAlcohol.head()"
   ]
  },
  {
   "cell_type": "code",
   "execution_count": 11,
   "metadata": {},
   "outputs": [
    {
     "data": {
      "text/html": [
       "<div>\n",
       "<style scoped>\n",
       "    .dataframe tbody tr th:only-of-type {\n",
       "        vertical-align: middle;\n",
       "    }\n",
       "\n",
       "    .dataframe tbody tr th {\n",
       "        vertical-align: top;\n",
       "    }\n",
       "\n",
       "    .dataframe thead th {\n",
       "        text-align: right;\n",
       "    }\n",
       "</style>\n",
       "<table border=\"1\" class=\"dataframe\">\n",
       "  <thead>\n",
       "    <tr style=\"text-align: right;\">\n",
       "      <th></th>\n",
       "      <th>Altura</th>\n",
       "      <th>Long_cateter</th>\n",
       "    </tr>\n",
       "  </thead>\n",
       "  <tbody>\n",
       "    <tr>\n",
       "      <th>0</th>\n",
       "      <td>42.8</td>\n",
       "      <td>37</td>\n",
       "    </tr>\n",
       "    <tr>\n",
       "      <th>1</th>\n",
       "      <td>63.5</td>\n",
       "      <td>50</td>\n",
       "    </tr>\n",
       "    <tr>\n",
       "      <th>2</th>\n",
       "      <td>37.5</td>\n",
       "      <td>34</td>\n",
       "    </tr>\n",
       "    <tr>\n",
       "      <th>3</th>\n",
       "      <td>39.5</td>\n",
       "      <td>36</td>\n",
       "    </tr>\n",
       "    <tr>\n",
       "      <th>4</th>\n",
       "      <td>45.5</td>\n",
       "      <td>43</td>\n",
       "    </tr>\n",
       "  </tbody>\n",
       "</table>\n",
       "</div>"
      ],
      "text/plain": [
       "   Altura  Long_cateter\n",
       "0    42.8            37\n",
       "1    63.5            50\n",
       "2    37.5            34\n",
       "3    39.5            36\n",
       "4    45.5            43"
      ]
     },
     "execution_count": 11,
     "metadata": {},
     "output_type": "execute_result"
    }
   ],
   "source": [
    "DatosCateter.head()"
   ]
  },
  {
   "cell_type": "markdown",
   "metadata": {},
   "source": [
    "## Ejecicio 1. Presión sanguínea."
   ]
  },
  {
   "cell_type": "code",
   "execution_count": 12,
   "metadata": {
    "scrolled": false
   },
   "outputs": [
    {
     "name": "stdout",
     "output_type": "stream",
     "text": [
      "Error cuadrático medio: 3.96\n",
      "R de Pearson: 0.9999999999999998\n"
     ]
    },
    {
     "data": {
      "image/png": "[encoded data removed]",
      "text/plain": [
       "<Figure size 1440x720 with 1 Axes>"
      ]
     },
     "metadata": {},
     "output_type": "display_data"
    }
   ],
   "source": [
    "from pydoc import help\n",
    "from scipy.stats.stats import pearsonr\n",
    "terminado = False\n",
    "\n",
    "# Buscamos el mejor modelo.\n",
    "while terminado is False:\n",
    "    \n",
    "    # División en conjunto de entrenamiento y validación.\n",
    "    x_entrenam, x_val, y_entrenam, y_val = train_test_split(DatosPresion[\"Edad\"].values, \\\n",
    "                                                            DatosPresion[\"Presion_sanguinea\"].values, \\\n",
    "                                                            test_size=0.2)\n",
    "    \n",
    "    # Creación del modelo.\n",
    "    modelo = LinearRegression()\n",
    "    \n",
    "    # Entrenamiento del modelo.\n",
    "    modelo.fit(x_entrenam.reshape(-1, 1), y_entrenam)\n",
    "    \n",
    "    # Predicción.\n",
    "    prediccion = modelo.predict(x_val.reshape(-1, 1))\n",
    "    \n",
    "    # Cálculo del error cuadrático medio.\n",
    "    error = mean_squared_error(y_val, prediccion)\n",
    "    \n",
    "    # Si el error cuadrático medio es menor que un umbral, validamos el modelo.\n",
    "    if error < 5:\n",
    "        terminado = True\n",
    "\n",
    "# Cálculo valores r de pearson y p.\n",
    "r, p = pearsonr(x_val, prediccion)\n",
    "print(\"Error cuadrático medio: %.2f\"% error)\n",
    "print(\"R de Pearson:\", r)\n",
    "\n",
    "# Mostramos los resultados.\n",
    "fig, ax1 = subplots(figsize=(20, 10))\n",
    "plt.scatter(x_val, y_val, color = 'red')\n",
    "plt.plot(x_val, prediccion, color = 'blue')\n",
    "plt.title('Relación edad y presión sanguínea')\n",
    "plt.xlabel('Edad')\n",
    "plt.ylabel('Presión')\n",
    "plt.show()"
   ]
  },
  {
   "cell_type": "markdown",
   "metadata": {},
   "source": [
    "<font color=\"blue\">Tenemos una correlación:\n",
    "<ul>\n",
    "    <li>No determinista. Hay una pequeña perturbación desconocida.</li>\n",
    "    <li>Lineal positiva. Los valores de la presión sanguínea crece según la edad.</li>\n",
    "    <li>Altamente correlados. El valor de la r de Pearson es muy carcano a 1.</li>\n",
    "</ul>\n",
    "Los valores de la presión sanguínea y la edad están muy correlados. La presión sube mucho con la edad.\n",
    "</font>"
   ]
  },
  {
   "cell_type": "markdown",
   "metadata": {},
   "source": [
    "## Ejecicio 2. Colesterol"
   ]
  },
  {
   "cell_type": "code",
   "execution_count": 13,
   "metadata": {},
   "outputs": [
    {
     "name": "stdout",
     "output_type": "stream",
     "text": [
      "Error cuadrático medio: 207.96\n",
      "R de Pearson: 1.0\n"
     ]
    },
    {
     "data": {
      "image/png": "[encoded data removed]",
      "text/plain": [
       "<Figure size 1440x720 with 1 Axes>"
      ]
     },
     "metadata": {},
     "output_type": "display_data"
    }
   ],
   "source": [
    "terminado = False\n",
    "\n",
    "# Buscamos el mejor modelo.\n",
    "while terminado is False:\n",
    "    \n",
    "    # División en conjunto de entrenamiento y validación.\n",
    "    x_entrenam, x_val, y_entrenam, y_val = train_test_split(DatosColesterol[\"Peso\"].values, \\\n",
    "                                                            DatosColesterol[\"Colesterol\"].values, \\\n",
    "                                                            test_size=0.2)\n",
    "    \n",
    "    # Creación del modelo.\n",
    "    modelo = LinearRegression()\n",
    "    \n",
    "    # Entrenamiento del modelo.\n",
    "    modelo.fit(x_entrenam.reshape(-1, 1), y_entrenam)\n",
    "    \n",
    "    # Predicción.\n",
    "    prediccion = modelo.predict(x_val.reshape(-1, 1))\n",
    "    \n",
    "    # Cálculo del error cuadrático medio.\n",
    "    error = mean_squared_error(y_val, prediccion)\n",
    "    \n",
    "    # Si el error cuadrático medio es menor que un umbral, validamos el modelo.\n",
    "    if error < 250:\n",
    "        terminado = True\n",
    "\n",
    "# Cálculo valores r de pearson y p.\n",
    "r, p = pearsonr(x_val, prediccion)\n",
    "print(\"Error cuadrático medio: %.2f\"% error)\n",
    "print(\"R de Pearson:\", r)\n",
    "\n",
    "# Mostramos los resultados.\n",
    "fig, ax1 = subplots(figsize=(20, 10))\n",
    "plt.scatter(x_val, y_val, color = 'red')\n",
    "plt.plot(x_val, prediccion, color = 'blue')\n",
    "plt.yticks(np.arange(250, 400, step=1))\n",
    "plt.title('Relación peso y colesterol')\n",
    "plt.xlabel('Peso')\n",
    "plt.ylabel('Colesterol')\n",
    "plt.show()"
   ]
  },
  {
   "cell_type": "markdown",
   "metadata": {},
   "source": [
    "<font color=\"blue\">Tenemos una correlación:\n",
    "<ul>\n",
    "    <li>No determinista. Hay una pequeña perturbación desconocida.</li>\n",
    "    <li>Lineal positiva. Los valores del colesterol crece según el peso.</li>\n",
    "    <li>Altamente correlados. El valor de la r de Pearson es muy carcano a 1.</li>\n",
    "</ul>\n",
    "Los valores del colesterol y el peso están muy correlados. El colesterol sube con el peso pero no tanto como la presión sanguínea y la edad.\n",
    "</font>"
   ]
  },
  {
   "cell_type": "markdown",
   "metadata": {},
   "source": [
    "## Ejecicio 3. Consumo alcohol."
   ]
  },
  {
   "cell_type": "code",
   "execution_count": 14,
   "metadata": {},
   "outputs": [
    {
     "name": "stdout",
     "output_type": "stream",
     "text": [
      "Error cuadrático medio: 19.13\n",
      "R de Pearson: 0.9999999999999999\n"
     ]
    },
    {
     "data": {
      "image/png": "[encoded data removed]",
      "text/plain": [
       "<Figure size 1440x720 with 1 Axes>"
      ]
     },
     "metadata": {},
     "output_type": "display_data"
    }
   ],
   "source": [
    "terminado = False\n",
    "\n",
    "# Buscamos el mejor modelo.\n",
    "while terminado is False:\n",
    "    \n",
    "    # División en conjunto de entrenamiento y validación.\n",
    "    x_entrenam, x_val, y_entrenam, y_val = train_test_split(DatosAlcohol[\"Edad\"].values, \\\n",
    "                                                            DatosAlcohol[\"Consumo_alcohol\"].values, \\\n",
    "                                                            test_size=0.2)\n",
    "    \n",
    "    # Creación del modelo.\n",
    "    modelo = LinearRegression()\n",
    "    \n",
    "    # Entrenamiento del modelo.\n",
    "    modelo.fit(x_entrenam.reshape(-1, 1), y_entrenam)\n",
    "    \n",
    "    # Predicción.\n",
    "    prediccion = modelo.predict(x_val.reshape(-1, 1))\n",
    "    \n",
    "    # Cálculo del error cuadrático medio.\n",
    "    error = mean_squared_error(y_val, prediccion)\n",
    "    \n",
    "    # Si el error cuadrático medio es menor que un umbral, validamos el modelo.\n",
    "    if error < 30:\n",
    "        terminado = True\n",
    "\n",
    "# Cálculo valores r de pearson y p.\n",
    "r, p = pearsonr(x_val, prediccion)\n",
    "print(\"Error cuadrático medio: %.2f\"% error)\n",
    "print(\"R de Pearson:\", r)\n",
    "\n",
    "# Mostramos los resultados.\n",
    "fig, ax1 = subplots(figsize=(20, 10))\n",
    "plt.scatter(x_val, y_val, color = 'red')\n",
    "plt.plot(x_val, prediccion, color = 'blue')\n",
    "plt.title('Relación edad y el consumo de alcohol')\n",
    "plt.yticks(np.arange(0, 100, step=1))\n",
    "plt.xlabel('Edad')\n",
    "plt.ylabel('Consumo_alcohol')\n",
    "plt.show()"
   ]
  },
  {
   "cell_type": "markdown",
   "metadata": {},
   "source": [
    "<font color=\"blue\">Tenemos una correlación:\n",
    "<ul>\n",
    "    <li>No determinista. Hay una pequeña perturbación desconocida.</li>\n",
    "    <li>Lineal positiva. Los valores del consumo de alcohol crece según la edad.</li>\n",
    "    <li>Altamente correlados. El valor de la r de Pearson es muy carcano a 1.</li>\n",
    "</ul>\n",
    "Los valores del peso y el consumo de alcohol están muy correlados. El consumo de alcohol sube con la edad pero no tanto como la presión sanguínea y la edad.\n",
    "</font>"
   ]
  },
  {
   "cell_type": "markdown",
   "metadata": {},
   "source": [
    "## Ejecicio 4. Longitud del catéter."
   ]
  },
  {
   "cell_type": "code",
   "execution_count": 19,
   "metadata": {},
   "outputs": [
    {
     "name": "stdout",
     "output_type": "stream",
     "text": [
      "Error cuadrático medio: 3.66\n",
      "R de Pearson: 1.0\n"
     ]
    },
    {
     "data": {
      "image/png": "[encoded data removed]",
      "text/plain": [
       "<Figure size 1440x720 with 1 Axes>"
      ]
     },
     "metadata": {},
     "output_type": "display_data"
    }
   ],
   "source": [
    "terminado = False\n",
    "\n",
    "# Buscamos el mejor modelo.\n",
    "while terminado is False:\n",
    "    \n",
    "    # División en conjunto de entrenamiento y validación.\n",
    "    x_entrenam, x_val, y_entrenam, y_val = train_test_split(DatosCateter[\"Altura\"].values, \\\n",
    "                                                            DatosCateter[\"Long_cateter\"].values, \\\n",
    "                                                            test_size=0.2)\n",
    "\n",
    "    # Creación del modelo.\n",
    "    modelo = LinearRegression()\n",
    "    \n",
    "    # Entrenamiento del modelo.\n",
    "    modelo.fit(x_entrenam.reshape(-1, 1), y_entrenam)\n",
    "    \n",
    "    # Predicción.\n",
    "    prediccion = modelo.predict(x_val.reshape(-1, 1))\n",
    "    \n",
    "    # Cálculo del error cuadrático medio.\n",
    "    error = mean_squared_error(y_val, prediccion)\n",
    "    \n",
    "    # Si el error cuadrático medio es menor que un umbral, validamos el modelo.\n",
    "    if error < 5:\n",
    "        terminado = True\n",
    "\n",
    "# Cálculo valores r de pearson y p.\n",
    "r, p = pearsonr(x_val, prediccion)\n",
    "print(\"Error cuadrático medio: %.2f\"% error)\n",
    "print(\"R de Pearson:\", r)\n",
    "\n",
    "# Mostramos los resultados.\n",
    "fig, ax1 = subplots(figsize=(20, 10))\n",
    "plt.scatter(x_val, y_val, color = 'red')\n",
    "plt.plot(x_val, prediccion, color = 'blue')\n",
    "plt.yticks(np.arange(25, 50, step=1))\n",
    "plt.title('Relación altura y longitud del catéter')\n",
    "plt.xlabel('Altura')\n",
    "plt.ylabel('Long_cateter')\n",
    "plt.show()"
   ]
  },
  {
   "cell_type": "markdown",
   "metadata": {},
   "source": [
    "<font color=\"blue\">Tenemos una correlación:\n",
    "<ul>\n",
    "    <li>No determinista. Hay una pequeña perturbación desconocida.</li>\n",
    "    <li>Lineal positiva. Los valores del consumo de la longitud de catéter crece según la altura.</li>\n",
    "    <li>Altamente correlados. El valor de la r de Pearson es muy carcano a 1.</li>\n",
    "</ul>\n",
    "Los valores la longitud de catéter y la altura están muy correlados. La longitud del catéter sube con la altura pero no tanto como la presión sanguínea y la edad.\n",
    "</font>"
   ]
  },
  {
   "cell_type": "markdown",
   "metadata": {},
   "source": [
    "## Referencias"
   ]
  },
  {
   "cell_type": "markdown",
   "metadata": {},
   "source": [
    "<ul>\n",
    "    <li>https://stackabuse.com/linear-regression-in-python-with-scikit-learn/</li>\n",
    "    <li>https://bigdata-madesimple.com/how-to-run-linear-regression-in-python-scikit-learn/</li>\n",
    "    <li>https://scikit-learn.org/stable/modules/generated/sklearn.linear_model.LinearRegression.html</li>\n",
    "    <li>https://kite.com/python/examples/656/scipy-compute-the-pearson-correlation-coefficient</li>\n",
    "    <li>Apuntes de la asignatura</li>\n",
    "</ul>"
   ]
  }
 ],
 "metadata": {
  "kernelspec": {
   "display_name": "Python 3",
   "language": "python",
   "name": "python3"
  },
  "language_info": {
   "codemirror_mode": {
    "name": "ipython",
    "version": 3
   },
   "file_extension": ".py",
   "mimetype": "text/x-python",
   "name": "python",
   "nbconvert_exporter": "python",
   "pygments_lexer": "ipython3",
   "version": "3.6.5"
  }
 },
 "nbformat": 4,
 "nbformat_minor": 2
}
