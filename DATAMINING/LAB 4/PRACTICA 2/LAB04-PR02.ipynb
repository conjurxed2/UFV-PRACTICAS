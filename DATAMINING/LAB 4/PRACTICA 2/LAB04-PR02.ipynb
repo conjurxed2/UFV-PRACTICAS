{
 "cells": [
  {
   "cell_type": "markdown",
   "metadata": {},
   "source": [
    "# Laboratorio 4 - Práctica 2\n",
    "### Gonzalo de las Heras de Matías - Jorge de la Fuente Tagarro\n",
    "## Cómo expandir artículos\n",
    "\n",
    "![title](Images/blog.jpg)\n",
    "### Objetivo \n",
    "\n",
    "El blog sobre Machine Learning https://machinelearningmastery.com/ quiere saber qué características han de\n",
    "tener sus posts para que luego estos sean compartidos lo máximo posible por sus lectores. Para ello tiene\n",
    "información sobre posts anteriores. La información se encuentra en el archivo artículos.csv y está compuesta\n",
    "por: número de palabras, número de links a otras páginas, número de comentarios de usuarios, cantidad de\n",
    "contenido multimedia (videos, fotografías, etc), días desde que se publicó y número de veces que se ha\n",
    "compartido.\n",
    "\n",
    "### Cuestiones \n",
    "\n",
    "<ol type=\"o\">\n",
    "  <li> Encuentra un modelo para dicho set de datos. Haz una interpretación de él. Por último, dibújalo\n",
    "si es posible teniendo en cuenta las variables más influyentes. </li>\n",
    "  <li>Haz un análisis de residuos del modelo lo más exhaustivo posible.</li>\n",
    "  <li>Utiliza los intervalos de confianza para obtener la mayor información posible con ellos.</li>\n",
    "</ol>"
   ]
  },
  {
   "cell_type": "markdown",
   "metadata": {},
   "source": [
    "#### Librerias"
   ]
  },
  {
   "cell_type": "code",
   "execution_count": 1,
   "metadata": {},
   "outputs": [],
   "source": [
    "import pandas as pd\n",
    "import matplotlib.pyplot as plt\n",
    "import scipy.stats\n",
    "import warnings\n",
    "from sklearn.linear_model import LinearRegression\n",
    "from sklearn.model_selection import train_test_split\n",
    "from IPython.display import clear_output\n",
    "from sklearn.metrics import mean_squared_error\n",
    "from sklearn.preprocessing import StandardScaler\n",
    "from sklearn.metrics import r2_score\n",
    "from pylab import *\n",
    "from scipy.stats import pearsonr\n",
    "from scipy.stats import sem, t\n",
    "from scipy import mean\n",
    "warnings.filterwarnings('ignore')"
   ]
  },
  {
   "cell_type": "markdown",
   "metadata": {},
   "source": [
    "#### Funciones"
   ]
  },
  {
   "cell_type": "code",
   "execution_count": 2,
   "metadata": {},
   "outputs": [],
   "source": [
    "def CalcularIntervalos(Confianza, y_val, x_val):\n",
    "    n = len(y_val)\n",
    "    m = mean(x_val)\n",
    "    std_err = sem(x_val)\n",
    "    h = std_err * t.ppf((1 + Confianza) / 2, n - 1)\n",
    "    comienzo = m - h\n",
    "    fin = m + h\n",
    "    return comienzo, fin"
   ]
  },
  {
   "cell_type": "markdown",
   "metadata": {},
   "source": [
    "#### Dirección del dataset"
   ]
  },
  {
   "cell_type": "code",
   "execution_count": 3,
   "metadata": {},
   "outputs": [],
   "source": [
    "DIR_BASE_DATASET = \"Datos/articulos.csv\""
   ]
  },
  {
   "cell_type": "markdown",
   "metadata": {},
   "source": [
    "## 1. Preparación del dataset"
   ]
  },
  {
   "cell_type": "code",
   "execution_count": 4,
   "metadata": {},
   "outputs": [
    {
     "name": "stdout",
     "output_type": "stream",
     "text": [
      "Hay 160 registros.\n"
     ]
    },
    {
     "data": {
      "text/html": [
       "<div>\n",
       "<style scoped>\n",
       "    .dataframe tbody tr th:only-of-type {\n",
       "        vertical-align: middle;\n",
       "    }\n",
       "\n",
       "    .dataframe tbody tr th {\n",
       "        vertical-align: top;\n",
       "    }\n",
       "\n",
       "    .dataframe thead th {\n",
       "        text-align: right;\n",
       "    }\n",
       "</style>\n",
       "<table border=\"1\" class=\"dataframe\">\n",
       "  <thead>\n",
       "    <tr style=\"text-align: right;\">\n",
       "      <th></th>\n",
       "      <th>Número de nulos</th>\n",
       "    </tr>\n",
       "  </thead>\n",
       "  <tbody>\n",
       "    <tr>\n",
       "      <th>palabras</th>\n",
       "      <td>0</td>\n",
       "    </tr>\n",
       "    <tr>\n",
       "      <th>links</th>\n",
       "      <td>0</td>\n",
       "    </tr>\n",
       "    <tr>\n",
       "      <th>comentarios</th>\n",
       "      <td>32</td>\n",
       "    </tr>\n",
       "    <tr>\n",
       "      <th>multimedia</th>\n",
       "      <td>0</td>\n",
       "    </tr>\n",
       "    <tr>\n",
       "      <th>días</th>\n",
       "      <td>0</td>\n",
       "    </tr>\n",
       "    <tr>\n",
       "      <th>compartido</th>\n",
       "      <td>0</td>\n",
       "    </tr>\n",
       "  </tbody>\n",
       "</table>\n",
       "</div>"
      ],
      "text/plain": [
       "             Número de nulos\n",
       "palabras                   0\n",
       "links                      0\n",
       "comentarios               32\n",
       "multimedia                 0\n",
       "días                       0\n",
       "compartido                 0"
      ]
     },
     "execution_count": 4,
     "metadata": {},
     "output_type": "execute_result"
    }
   ],
   "source": [
    "Datos = pd.read_csv(DIR_BASE_DATASET)\n",
    "print(\"Hay\", len(Datos), \"registros.\")\n",
    "nulos = pd.DataFrame(Datos.isnull().sum(), columns=[\"Número de nulos\"])\n",
    "nulos"
   ]
  },
  {
   "cell_type": "code",
   "execution_count": 5,
   "metadata": {},
   "outputs": [
    {
     "data": {
      "text/html": [
       "<div>\n",
       "<style scoped>\n",
       "    .dataframe tbody tr th:only-of-type {\n",
       "        vertical-align: middle;\n",
       "    }\n",
       "\n",
       "    .dataframe tbody tr th {\n",
       "        vertical-align: top;\n",
       "    }\n",
       "\n",
       "    .dataframe thead th {\n",
       "        text-align: right;\n",
       "    }\n",
       "</style>\n",
       "<table border=\"1\" class=\"dataframe\">\n",
       "  <thead>\n",
       "    <tr style=\"text-align: right;\">\n",
       "      <th></th>\n",
       "      <th>palabras</th>\n",
       "      <th>links</th>\n",
       "      <th>comentarios</th>\n",
       "      <th>multimedia</th>\n",
       "      <th>días</th>\n",
       "      <th>compartido</th>\n",
       "    </tr>\n",
       "  </thead>\n",
       "  <tbody>\n",
       "    <tr>\n",
       "      <th>0</th>\n",
       "      <td>1742</td>\n",
       "      <td>9</td>\n",
       "      <td>0.0</td>\n",
       "      <td>9</td>\n",
       "      <td>5</td>\n",
       "      <td>25000</td>\n",
       "    </tr>\n",
       "    <tr>\n",
       "      <th>1</th>\n",
       "      <td>962</td>\n",
       "      <td>6</td>\n",
       "      <td>0.0</td>\n",
       "      <td>1</td>\n",
       "      <td>10</td>\n",
       "      <td>42000</td>\n",
       "    </tr>\n",
       "    <tr>\n",
       "      <th>2</th>\n",
       "      <td>1221</td>\n",
       "      <td>3</td>\n",
       "      <td>0.0</td>\n",
       "      <td>2</td>\n",
       "      <td>68</td>\n",
       "      <td>200000</td>\n",
       "    </tr>\n",
       "    <tr>\n",
       "      <th>3</th>\n",
       "      <td>2039</td>\n",
       "      <td>1</td>\n",
       "      <td>104.0</td>\n",
       "      <td>4</td>\n",
       "      <td>131</td>\n",
       "      <td>200000</td>\n",
       "    </tr>\n",
       "    <tr>\n",
       "      <th>4</th>\n",
       "      <td>761</td>\n",
       "      <td>0</td>\n",
       "      <td>0.0</td>\n",
       "      <td>1</td>\n",
       "      <td>14</td>\n",
       "      <td>21000</td>\n",
       "    </tr>\n",
       "  </tbody>\n",
       "</table>\n",
       "</div>"
      ],
      "text/plain": [
       "   palabras  links  comentarios  multimedia  días  compartido\n",
       "0      1742      9          0.0           9     5       25000\n",
       "1       962      6          0.0           1    10       42000\n",
       "2      1221      3          0.0           2    68      200000\n",
       "3      2039      1        104.0           4   131      200000\n",
       "4       761      0          0.0           1    14       21000"
      ]
     },
     "execution_count": 5,
     "metadata": {},
     "output_type": "execute_result"
    }
   ],
   "source": [
    "Datos = Datos.fillna(0)\n",
    "Datos.head()"
   ]
  },
  {
   "cell_type": "code",
   "execution_count": 6,
   "metadata": {},
   "outputs": [
    {
     "data": {
      "text/html": [
       "<div>\n",
       "<style scoped>\n",
       "    .dataframe tbody tr th:only-of-type {\n",
       "        vertical-align: middle;\n",
       "    }\n",
       "\n",
       "    .dataframe tbody tr th {\n",
       "        vertical-align: top;\n",
       "    }\n",
       "\n",
       "    .dataframe thead th {\n",
       "        text-align: right;\n",
       "    }\n",
       "</style>\n",
       "<table border=\"1\" class=\"dataframe\">\n",
       "  <thead>\n",
       "    <tr style=\"text-align: right;\">\n",
       "      <th></th>\n",
       "      <th>palabras</th>\n",
       "      <th>links</th>\n",
       "      <th>comentarios</th>\n",
       "      <th>multimedia</th>\n",
       "      <th>días</th>\n",
       "      <th>compartido</th>\n",
       "    </tr>\n",
       "  </thead>\n",
       "  <tbody>\n",
       "    <tr>\n",
       "      <th>0</th>\n",
       "      <td>1742</td>\n",
       "      <td>9</td>\n",
       "      <td>0.0</td>\n",
       "      <td>9</td>\n",
       "      <td>5</td>\n",
       "      <td>25000</td>\n",
       "    </tr>\n",
       "    <tr>\n",
       "      <th>1</th>\n",
       "      <td>962</td>\n",
       "      <td>6</td>\n",
       "      <td>0.0</td>\n",
       "      <td>1</td>\n",
       "      <td>10</td>\n",
       "      <td>42000</td>\n",
       "    </tr>\n",
       "    <tr>\n",
       "      <th>2</th>\n",
       "      <td>1221</td>\n",
       "      <td>3</td>\n",
       "      <td>0.0</td>\n",
       "      <td>2</td>\n",
       "      <td>68</td>\n",
       "      <td>200000</td>\n",
       "    </tr>\n",
       "    <tr>\n",
       "      <th>3</th>\n",
       "      <td>2039</td>\n",
       "      <td>1</td>\n",
       "      <td>104.0</td>\n",
       "      <td>4</td>\n",
       "      <td>131</td>\n",
       "      <td>200000</td>\n",
       "    </tr>\n",
       "    <tr>\n",
       "      <th>4</th>\n",
       "      <td>761</td>\n",
       "      <td>0</td>\n",
       "      <td>0.0</td>\n",
       "      <td>1</td>\n",
       "      <td>14</td>\n",
       "      <td>21000</td>\n",
       "    </tr>\n",
       "  </tbody>\n",
       "</table>\n",
       "</div>"
      ],
      "text/plain": [
       "   palabras  links  comentarios  multimedia  días  compartido\n",
       "0      1742      9          0.0           9     5       25000\n",
       "1       962      6          0.0           1    10       42000\n",
       "2      1221      3          0.0           2    68      200000\n",
       "3      2039      1        104.0           4   131      200000\n",
       "4       761      0          0.0           1    14       21000"
      ]
     },
     "execution_count": 6,
     "metadata": {},
     "output_type": "execute_result"
    }
   ],
   "source": [
    "Datos_centrados = Datos[:]\n",
    "Datos_centrados.head()"
   ]
  },
  {
   "cell_type": "markdown",
   "metadata": {},
   "source": [
    "<font color=\"blue\">Centramos los datos para poder compararlos.</font>"
   ]
  },
  {
   "cell_type": "code",
   "execution_count": 7,
   "metadata": {},
   "outputs": [
    {
     "data": {
      "text/html": [
       "<div>\n",
       "<style scoped>\n",
       "    .dataframe tbody tr th:only-of-type {\n",
       "        vertical-align: middle;\n",
       "    }\n",
       "\n",
       "    .dataframe tbody tr th {\n",
       "        vertical-align: top;\n",
       "    }\n",
       "\n",
       "    .dataframe thead th {\n",
       "        text-align: right;\n",
       "    }\n",
       "</style>\n",
       "<table border=\"1\" class=\"dataframe\">\n",
       "  <thead>\n",
       "    <tr style=\"text-align: right;\">\n",
       "      <th></th>\n",
       "      <th>palabras</th>\n",
       "      <th>links</th>\n",
       "      <th>comentarios</th>\n",
       "      <th>multimedia</th>\n",
       "      <th>días</th>\n",
       "      <th>compartido</th>\n",
       "    </tr>\n",
       "  </thead>\n",
       "  <tbody>\n",
       "    <tr>\n",
       "      <th>0</th>\n",
       "      <td>-0.057590</td>\n",
       "      <td>-0.016793</td>\n",
       "      <td>-0.576414</td>\n",
       "      <td>1.557138</td>\n",
       "      <td>-0.818783</td>\n",
       "      <td>-0.045453</td>\n",
       "    </tr>\n",
       "    <tr>\n",
       "      <th>1</th>\n",
       "      <td>-0.740661</td>\n",
       "      <td>-0.080263</td>\n",
       "      <td>-0.576414</td>\n",
       "      <td>-0.784973</td>\n",
       "      <td>-0.775010</td>\n",
       "      <td>0.367090</td>\n",
       "    </tr>\n",
       "    <tr>\n",
       "      <th>2</th>\n",
       "      <td>-0.513847</td>\n",
       "      <td>-0.143733</td>\n",
       "      <td>-0.576414</td>\n",
       "      <td>-0.492209</td>\n",
       "      <td>-0.267237</td>\n",
       "      <td>4.201310</td>\n",
       "    </tr>\n",
       "    <tr>\n",
       "      <th>3</th>\n",
       "      <td>0.202502</td>\n",
       "      <td>-0.186046</td>\n",
       "      <td>7.904160</td>\n",
       "      <td>0.093319</td>\n",
       "      <td>0.284309</td>\n",
       "      <td>4.201310</td>\n",
       "    </tr>\n",
       "    <tr>\n",
       "      <th>4</th>\n",
       "      <td>-0.916683</td>\n",
       "      <td>-0.207203</td>\n",
       "      <td>-0.576414</td>\n",
       "      <td>-0.784973</td>\n",
       "      <td>-0.739991</td>\n",
       "      <td>-0.142522</td>\n",
       "    </tr>\n",
       "  </tbody>\n",
       "</table>\n",
       "</div>"
      ],
      "text/plain": [
       "   palabras     links  comentarios  multimedia      días  compartido\n",
       "0 -0.057590 -0.016793    -0.576414    1.557138 -0.818783   -0.045453\n",
       "1 -0.740661 -0.080263    -0.576414   -0.784973 -0.775010    0.367090\n",
       "2 -0.513847 -0.143733    -0.576414   -0.492209 -0.267237    4.201310\n",
       "3  0.202502 -0.186046     7.904160    0.093319  0.284309    4.201310\n",
       "4 -0.916683 -0.207203    -0.576414   -0.784973 -0.739991   -0.142522"
      ]
     },
     "execution_count": 7,
     "metadata": {},
     "output_type": "execute_result"
    }
   ],
   "source": [
    "# Centralización de la columna \"palabras\".\n",
    "scaler_palabras = StandardScaler()\n",
    "Datos_centrados[\"palabras\"] = scaler_palabras.fit_transform(Datos_centrados[\"palabras\"].values.reshape(-1, 1))\n",
    "\n",
    "# Centralización de la columna \"links\".\n",
    "scaler_links = StandardScaler()\n",
    "Datos_centrados[\"links\"] = scaler_links.fit_transform(Datos_centrados[\"links\"].values.reshape(-1, 1))\n",
    "\n",
    "# Centralización de la columna \"comentarios\".\n",
    "scaler_comentarios = StandardScaler()\n",
    "Datos_centrados[\"comentarios\"] = scaler_comentarios.fit_transform(Datos_centrados[\"comentarios\"].values.reshape(-1, 1))\n",
    "\n",
    "# Centralización de la columna \"multimedia\".\n",
    "scaler_multimedia = StandardScaler()\n",
    "Datos_centrados[\"multimedia\"] = scaler_multimedia.fit_transform(Datos_centrados[\"multimedia\"].values.reshape(-1, 1))\n",
    "\n",
    "# Centralización de la columna \"días\".\n",
    "scaler_dias = StandardScaler()\n",
    "Datos_centrados[\"días\"] = scaler_dias.fit_transform(Datos_centrados[\"días\"].values.reshape(-1, 1))\n",
    "\n",
    "# Centralización de la columna \"compartido\".\n",
    "scaler_y = StandardScaler()\n",
    "Datos_centrados[\"compartido\"] = scaler_y.fit_transform(Datos_centrados[\"compartido\"].values.reshape(-1, 1))\n",
    "\n",
    "Datos_centrados.head()"
   ]
  },
  {
   "cell_type": "markdown",
   "metadata": {},
   "source": [
    "<font color=\"blue\">Separamos entre variables para predecir y valor esperado.</font>"
   ]
  },
  {
   "cell_type": "code",
   "execution_count": 8,
   "metadata": {},
   "outputs": [],
   "source": [
    "compartido = Datos_centrados[\"compartido\"].values\n",
    "\n",
    "del Datos_centrados[\"compartido\"]\n",
    "\n",
    "datos_entrada = Datos_centrados.values"
   ]
  },
  {
   "cell_type": "markdown",
   "metadata": {},
   "source": [
    "## 2. Creación del modelo"
   ]
  },
  {
   "cell_type": "markdown",
   "metadata": {},
   "source": [
    "<font color=\"blue\">Buscamos el mejor modelo reduciendo el error cuadrático medio.</font>"
   ]
  },
  {
   "cell_type": "code",
   "execution_count": 9,
   "metadata": {},
   "outputs": [
    {
     "name": "stdout",
     "output_type": "stream",
     "text": [
      "Error cuadrático medio: 0.73\n"
     ]
    }
   ],
   "source": [
    "terminado = False\n",
    "\n",
    "# Buscamos el mejor modelo.\n",
    "while terminado is False:\n",
    "    \n",
    "    # Separamos entre conjunto de entrenamiento y validación.\n",
    "    x_entrenam, x_val, y_entrenam, y_val = train_test_split(datos_entrada, compartido, test_size=0.2)\n",
    "    \n",
    "    # Creación del modelo.\n",
    "    modelo = LinearRegression()\n",
    "    \n",
    "    # Entrenamiento del modelo.\n",
    "    modelo.fit(x_entrenam, y_entrenam)\n",
    "    \n",
    "    # Predicción.\n",
    "    prediccion = modelo.predict(x_val)\n",
    "    \n",
    "    # Cálculo del error cuadrático medio.\n",
    "    error = mean_squared_error(y_val, prediccion)\n",
    "    \n",
    "    # Calculamos r^2.\n",
    "    r_cuadrado = modelo.score(x_val, y_val)\n",
    "    \n",
    "    # Si el error cuadrático medio es menor que un umbral, validamos el modelo. También tenemos que comprobar que\n",
    "    # r^2 sea positivo. Sí que puede ser negativo. \n",
    "    # Ver: https://stats.stackexchange.com/questions/12900/when-is-r-squared-negative\n",
    "    if error < 5 and r_cuadrado > 0 :\n",
    "        terminado = True\n",
    "\n",
    "print(\"Error cuadrático medio: %.2f\"% error)"
   ]
  },
  {
   "cell_type": "markdown",
   "metadata": {},
   "source": [
    "<font color=\"blue\">Calculamos los coeficientes o distintas Betas del modelo.</font>"
   ]
  },
  {
   "cell_type": "code",
   "execution_count": 10,
   "metadata": {},
   "outputs": [
    {
     "data": {
      "text/html": [
       "<div>\n",
       "<style scoped>\n",
       "    .dataframe tbody tr th:only-of-type {\n",
       "        vertical-align: middle;\n",
       "    }\n",
       "\n",
       "    .dataframe tbody tr th {\n",
       "        vertical-align: top;\n",
       "    }\n",
       "\n",
       "    .dataframe thead th {\n",
       "        text-align: right;\n",
       "    }\n",
       "</style>\n",
       "<table border=\"1\" class=\"dataframe\">\n",
       "  <thead>\n",
       "    <tr style=\"text-align: right;\">\n",
       "      <th></th>\n",
       "      <th>Coeficientes</th>\n",
       "    </tr>\n",
       "  </thead>\n",
       "  <tbody>\n",
       "    <tr>\n",
       "      <th>palabras</th>\n",
       "      <td>0.144751</td>\n",
       "    </tr>\n",
       "    <tr>\n",
       "      <th>links</th>\n",
       "      <td>0.238870</td>\n",
       "    </tr>\n",
       "    <tr>\n",
       "      <th>comentarios</th>\n",
       "      <td>0.081157</td>\n",
       "    </tr>\n",
       "    <tr>\n",
       "      <th>multimedia</th>\n",
       "      <td>-0.025462</td>\n",
       "    </tr>\n",
       "    <tr>\n",
       "      <th>días</th>\n",
       "      <td>0.400483</td>\n",
       "    </tr>\n",
       "  </tbody>\n",
       "</table>\n",
       "</div>"
      ],
      "text/plain": [
       "             Coeficientes\n",
       "palabras         0.144751\n",
       "links            0.238870\n",
       "comentarios      0.081157\n",
       "multimedia      -0.025462\n",
       "días             0.400483"
      ]
     },
     "execution_count": 10,
     "metadata": {},
     "output_type": "execute_result"
    }
   ],
   "source": [
    "coeff_df = pd.DataFrame(modelo.coef_, Datos_centrados.columns, columns=['Coeficientes'])  \n",
    "coeff_df  "
   ]
  },
  {
   "cell_type": "markdown",
   "metadata": {},
   "source": [
    "<font color=\"blue\">Las variables más correlacionadas con el número de comparticiones son el número de días del post y el número de links.</font>"
   ]
  },
  {
   "cell_type": "markdown",
   "metadata": {},
   "source": [
    "<font color=\"blue\">Calculamos el intercepto o Beta_0, el punto de corte con el eje Y.</font>"
   ]
  },
  {
   "cell_type": "code",
   "execution_count": 11,
   "metadata": {},
   "outputs": [
    {
     "data": {
      "text/plain": [
       "-0.009272814595494103"
      ]
     },
     "execution_count": 11,
     "metadata": {},
     "output_type": "execute_result"
    }
   ],
   "source": [
    "modelo.intercept_"
   ]
  },
  {
   "cell_type": "markdown",
   "metadata": {},
   "source": [
    "<font color=\"blue\">Calculamos las distintas Betas.</font>"
   ]
  },
  {
   "cell_type": "code",
   "execution_count": 12,
   "metadata": {},
   "outputs": [
    {
     "data": {
      "text/plain": [
       "[-0.009272814595494103,\n",
       " 0.14475131174541872,\n",
       " 0.2388701504367841,\n",
       " 0.08115742991022812,\n",
       " -0.025462174784085547,\n",
       " 0.400482990219875]"
      ]
     },
     "execution_count": 12,
     "metadata": {},
     "output_type": "execute_result"
    }
   ],
   "source": [
    "betas = []\n",
    "betas.append(modelo.intercept_)\n",
    "\n",
    "for index, row in coeff_df.iterrows():\n",
    "    betas.append(row[\"Coeficientes\"])\n",
    "betas"
   ]
  },
  {
   "cell_type": "markdown",
   "metadata": {},
   "source": [
    "<font color=\"blue\">Dibujamos el modelo con la variable más correlacionada (número de días del post)</font>"
   ]
  },
  {
   "cell_type": "code",
   "execution_count": 13,
   "metadata": {},
   "outputs": [
    {
     "data": {
      "image/png": "[encoded data removed]",
      "text/plain": [
       "<Figure size 1440x720 with 1 Axes>"
      ]
     },
     "metadata": {},
     "output_type": "display_data"
    }
   ],
   "source": [
    "fig, ax1 = subplots(figsize=(20, 10))\n",
    "plt.scatter(compartido, Datos_centrados[\"días\"], color = 'blue')\n",
    "plt.title('Relación veces compartido y número de días del post')\n",
    "plt.xlabel('Compartido')\n",
    "plt.ylabel('Días del post')\n",
    "plt.show()"
   ]
  },
  {
   "cell_type": "markdown",
   "metadata": {},
   "source": [
    "## 3. Análisis de residuos"
   ]
  },
  {
   "cell_type": "code",
   "execution_count": 14,
   "metadata": {},
   "outputs": [
    {
     "data": {
      "text/html": [
       "<div>\n",
       "<style scoped>\n",
       "    .dataframe tbody tr th:only-of-type {\n",
       "        vertical-align: middle;\n",
       "    }\n",
       "\n",
       "    .dataframe tbody tr th {\n",
       "        vertical-align: top;\n",
       "    }\n",
       "\n",
       "    .dataframe thead th {\n",
       "        text-align: right;\n",
       "    }\n",
       "</style>\n",
       "<table border=\"1\" class=\"dataframe\">\n",
       "  <thead>\n",
       "    <tr style=\"text-align: right;\">\n",
       "      <th></th>\n",
       "      <th>y_val</th>\n",
       "      <th>prediccion</th>\n",
       "      <th>error</th>\n",
       "    </tr>\n",
       "  </thead>\n",
       "  <tbody>\n",
       "    <tr>\n",
       "      <th>0</th>\n",
       "      <td>-0.580351</td>\n",
       "      <td>0.013281</td>\n",
       "      <td>0.352399</td>\n",
       "    </tr>\n",
       "    <tr>\n",
       "      <th>1</th>\n",
       "      <td>-0.569625</td>\n",
       "      <td>0.280569</td>\n",
       "      <td>0.722830</td>\n",
       "    </tr>\n",
       "    <tr>\n",
       "      <th>2</th>\n",
       "      <td>-0.555841</td>\n",
       "      <td>-0.111937</td>\n",
       "      <td>0.197051</td>\n",
       "    </tr>\n",
       "    <tr>\n",
       "      <th>3</th>\n",
       "      <td>-0.610078</td>\n",
       "      <td>-0.465911</td>\n",
       "      <td>0.020784</td>\n",
       "    </tr>\n",
       "    <tr>\n",
       "      <th>4</th>\n",
       "      <td>-0.139537</td>\n",
       "      <td>-0.208833</td>\n",
       "      <td>0.004802</td>\n",
       "    </tr>\n",
       "  </tbody>\n",
       "</table>\n",
       "</div>"
      ],
      "text/plain": [
       "      y_val  prediccion     error\n",
       "0 -0.580351    0.013281  0.352399\n",
       "1 -0.569625    0.280569  0.722830\n",
       "2 -0.555841   -0.111937  0.197051\n",
       "3 -0.610078   -0.465911  0.020784\n",
       "4 -0.139537   -0.208833  0.004802"
      ]
     },
     "execution_count": 14,
     "metadata": {},
     "output_type": "execute_result"
    }
   ],
   "source": [
    "prediccion = modelo.predict(x_val)\n",
    "pred = pd.DataFrame()\n",
    "pred[\"y_val\"] = y_val\n",
    "pred[\"prediccion\"] = prediccion\n",
    "pred[\"error\"] = (pred[\"y_val\"] - pred[\"prediccion\"])**2\n",
    "media = y_val.mean()\n",
    "\n",
    "pred.head()"
   ]
  },
  {
   "cell_type": "markdown",
   "metadata": {},
   "source": [
    "### SCT"
   ]
  },
  {
   "cell_type": "markdown",
   "metadata": {},
   "source": [
    "<font color=\"blue\">Medida de desigualdad.</font>"
   ]
  },
  {
   "cell_type": "code",
   "execution_count": 15,
   "metadata": {},
   "outputs": [
    {
     "data": {
      "text/plain": [
       "26.0553098630373"
      ]
     },
     "execution_count": 15,
     "metadata": {},
     "output_type": "execute_result"
    }
   ],
   "source": [
    "sct = ((y_val - media)**2).sum()\n",
    "sct"
   ]
  },
  {
   "cell_type": "markdown",
   "metadata": {},
   "source": [
    "### SCE"
   ]
  },
  {
   "cell_type": "markdown",
   "metadata": {},
   "source": [
    "<font color=\"blue\">Valor achacable a las variables empleadas para predecir en el modelo.</font>"
   ]
  },
  {
   "cell_type": "code",
   "execution_count": 16,
   "metadata": {},
   "outputs": [
    {
     "data": {
      "text/plain": [
       "23.40542906068228"
      ]
     },
     "execution_count": 16,
     "metadata": {},
     "output_type": "execute_result"
    }
   ],
   "source": [
    "sce = ((y_val - prediccion)**2).sum()\n",
    "sce"
   ]
  },
  {
   "cell_type": "markdown",
   "metadata": {},
   "source": [
    "### SCR"
   ]
  },
  {
   "cell_type": "markdown",
   "metadata": {},
   "source": [
    "<font color=\"blue\">Variación no explicada por las variables exógenas.</font>"
   ]
  },
  {
   "cell_type": "code",
   "execution_count": 17,
   "metadata": {},
   "outputs": [
    {
     "data": {
      "text/plain": [
       "3.49159230356921"
      ]
     },
     "execution_count": 17,
     "metadata": {},
     "output_type": "execute_result"
    }
   ],
   "source": [
    "scr = ((prediccion - media)**2).sum()\n",
    "scr"
   ]
  },
  {
   "cell_type": "markdown",
   "metadata": {},
   "source": [
    "### R cuadrado"
   ]
  },
  {
   "cell_type": "code",
   "execution_count": 18,
   "metadata": {},
   "outputs": [
    {
     "name": "stdout",
     "output_type": "stream",
     "text": [
      "El ajuste es del  0.8982978588132545\n"
     ]
    }
   ],
   "source": [
    "print(\"El ajuste es del \", (sce/sct))"
   ]
  },
  {
   "cell_type": "markdown",
   "metadata": {},
   "source": [
    "<font color=\"blue\">Bondad de ajuste muy alta. El modelo es cosistente, relaciona bien las variables del modelo con la predicción.</font>"
   ]
  },
  {
   "cell_type": "markdown",
   "metadata": {},
   "source": [
    "## 4. Intervalos de confianza"
   ]
  },
  {
   "cell_type": "markdown",
   "metadata": {},
   "source": [
    "<font color=\"blue\">Establecemos como confianza un 90%.</font>"
   ]
  },
  {
   "cell_type": "code",
   "execution_count": 19,
   "metadata": {},
   "outputs": [
    {
     "data": {
      "text/html": [
       "<div>\n",
       "<style scoped>\n",
       "    .dataframe tbody tr th:only-of-type {\n",
       "        vertical-align: middle;\n",
       "    }\n",
       "\n",
       "    .dataframe tbody tr th {\n",
       "        vertical-align: top;\n",
       "    }\n",
       "\n",
       "    .dataframe thead th {\n",
       "        text-align: right;\n",
       "    }\n",
       "</style>\n",
       "<table border=\"1\" class=\"dataframe\">\n",
       "  <thead>\n",
       "    <tr style=\"text-align: right;\">\n",
       "      <th></th>\n",
       "      <th>Caracteristica</th>\n",
       "      <th>Inicio</th>\n",
       "      <th>Fin</th>\n",
       "    </tr>\n",
       "  </thead>\n",
       "  <tbody>\n",
       "    <tr>\n",
       "      <th>0</th>\n",
       "      <td>palabras</td>\n",
       "      <td>-0.241375</td>\n",
       "      <td>0.375348</td>\n",
       "    </tr>\n",
       "    <tr>\n",
       "      <th>1</th>\n",
       "      <td>links</td>\n",
       "      <td>0.000862</td>\n",
       "      <td>0.133111</td>\n",
       "    </tr>\n",
       "    <tr>\n",
       "      <th>2</th>\n",
       "      <td>comentarios</td>\n",
       "      <td>-0.380121</td>\n",
       "      <td>0.514094</td>\n",
       "    </tr>\n",
       "    <tr>\n",
       "      <th>3</th>\n",
       "      <td>multimedia</td>\n",
       "      <td>-0.286085</td>\n",
       "      <td>0.420058</td>\n",
       "    </tr>\n",
       "    <tr>\n",
       "      <th>4</th>\n",
       "      <td>días</td>\n",
       "      <td>-0.142003</td>\n",
       "      <td>0.275976</td>\n",
       "    </tr>\n",
       "  </tbody>\n",
       "</table>\n",
       "</div>"
      ],
      "text/plain": [
       "  Caracteristica    Inicio       Fin\n",
       "0       palabras -0.241375  0.375348\n",
       "1          links  0.000862  0.133111\n",
       "2    comentarios -0.380121  0.514094\n",
       "3     multimedia -0.286085  0.420058\n",
       "4           días -0.142003  0.275976"
      ]
     },
     "execution_count": 19,
     "metadata": {},
     "output_type": "execute_result"
    }
   ],
   "source": [
    "resultado = CalcularIntervalos(0.90, y_val, x_val)\n",
    "intervalos = pd.DataFrame()\n",
    "intervalos[\"Caracteristica\"] = Datos_centrados.columns\n",
    "intervalos[\"Inicio\"] = resultado[0]\n",
    "intervalos[\"Fin\"] = resultado[1]\n",
    "intervalos"
   ]
  },
  {
   "cell_type": "markdown",
   "metadata": {},
   "source": [
    "<font color=\"blue\">Tenemos que:\n",
    "<ul>\n",
    "    <li>La variable \"palabras\" no influye en la predicción al encontrarse el valor 0 en el intervalo.</li>\n",
    "    <li>La variable \"links\" influye en la predicción al no encontrarse el valor 0 en el intervalo.</li>\n",
    "    <li>La variable \"comentarios\" no influye en la predicción al encontrarse el valor 0 en el intervalo.</li>\n",
    "    <li>La variable \"multimedia\" no influye en la predicción al encontrarse el valor 0 en el intervalo.</li>\n",
    "    <li>La variable \"días\" no influye en la predicción al encontrarse el valor 0 en el intervalo.</li>\n",
    "</ul>\n",
    "</font>"
   ]
  },
  {
   "cell_type": "markdown",
   "metadata": {},
   "source": [
    "## Referencias"
   ]
  },
  {
   "cell_type": "markdown",
   "metadata": {},
   "source": [
    "<ul>\n",
    "    <li>https://kite.com/python/examples/702/scipy-compute-a-confidence-interval-from-a-dataset</li>\n",
    "    <li>https://scikit-learn.org/stable/modules/generated/sklearn.linear_model.LinearRegression.html</li>\n",
    "    <li>https://stackoverflow.com/questions/17203403/student-t-confidence-interval-in-python</li>\n",
    "    <li>Apuntes de la asignatura</li>\n",
    "</ul>"
   ]
  }
 ],
 "metadata": {
  "kernelspec": {
   "display_name": "Python 3",
   "language": "python",
   "name": "python3"
  },
  "language_info": {
   "codemirror_mode": {
    "name": "ipython",
    "version": 3
   },
   "file_extension": ".py",
   "mimetype": "text/x-python",
   "name": "python",
   "nbconvert_exporter": "python",
   "pygments_lexer": "ipython3",
   "version": "3.6.5"
  }
 },
 "nbformat": 4,
 "nbformat_minor": 2
}
