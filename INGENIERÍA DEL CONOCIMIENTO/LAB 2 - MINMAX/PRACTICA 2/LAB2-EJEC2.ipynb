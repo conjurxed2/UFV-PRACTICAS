{
 "cells": [
  {
   "cell_type": "markdown",
   "metadata": {},
   "source": [
    "# Laboratorio 2 - Ejercicio 2.\n",
    "### Gonzalo de las Heras de Matías.\n",
    "## Práctica de Búsqueda con Adversario.\n",
    "\n",
    "### Objetivo \n",
    "\n",
    "Programar de forma autónoma dos <b>JUEGOS CON ADVERSARIO INTERACTIVOS</b>.\n",
    "\n",
    "Se trata de programar el algoritmo MiniMax y sus variaciones (decisiones imperfectas y poda α-β) de forma\n",
    "que el jugador pueda jugar contra el programa de forma real.\n",
    "\n",
    "#### Librerias"
   ]
  },
  {
   "cell_type": "code",
   "execution_count": 4,
   "metadata": {},
   "outputs": [],
   "source": [
    "from OTHELLO import Othello"
   ]
  },
  {
   "cell_type": "markdown",
   "metadata": {},
   "source": [
    "#### Inicio del juego"
   ]
  },
  {
   "cell_type": "code",
   "execution_count": 5,
   "metadata": {},
   "outputs": [
    {
     "data": {
      "image/png": "[encoded data removed]",
      "text/plain": [
       "<Figure size 432x288 with 1 Axes>"
      ]
     },
     "metadata": {},
     "output_type": "display_data"
    }
   ],
   "source": [
    "othello = Othello(Profundidad_K=2, Ayuda=False)\n",
    "othello.ImprimirCuadroDeJuego()"
   ]
  },
  {
   "cell_type": "code",
   "execution_count": null,
   "metadata": {
    "scrolled": false
   },
   "outputs": [
    {
     "name": "stdout",
     "output_type": "stream",
     "text": [
      "Introduzca el primer jugador, Humano (H), Máquina (M): M\n",
      "\n",
      "---------------------\n",
      "| COMIENZA EL JUEGO |\n",
      "---------------------\n",
      "\n",
      "Turno del jugador: \u001b[1m \u001b[0m M\n"
     ]
    },
    {
     "data": {
      "image/png": "[encoded data removed]",
      "text/plain": [
       "<Figure size 432x288 with 1 Axes>"
      ]
     },
     "metadata": {},
     "output_type": "display_data"
    },
    {
     "name": "stdout",
     "output_type": "stream",
     "text": [
      "La puntuación es: 0\n",
      "Se ha calculado la mejor jugada en: \u001b[1m 0.006539106369018555 \u001b[0m s.\n",
      "La máquina coloca ficha en: [2, 1]\n",
      "\n",
      "Movimiento VÁLIDO.\n",
      "\n",
      "------------\n",
      "\n",
      "Turno del jugador: \u001b[1m \u001b[0m H\n"
     ]
    },
    {
     "data": {
      "image/png": "[encoded data removed]",
      "text/plain": [
       "<Figure size 432x288 with 1 Axes>"
      ]
     },
     "metadata": {},
     "output_type": "display_data"
    },
    {
     "name": "stdout",
     "output_type": "stream",
     "text": [
      "La puntuación es: -3\n",
      "Posición X: 3\n",
      "Posición Y: 1\n",
      "\n",
      "Movimiento VÁLIDO.\n",
      "\n",
      "Movimiento VÁLIDO.\n",
      "\n",
      "------------\n",
      "\n",
      "Turno del jugador: \u001b[1m \u001b[0m M\n"
     ]
    },
    {
     "data": {
      "image/png": "[encoded data removed]",
      "text/plain": [
       "<Figure size 432x288 with 1 Axes>"
      ]
     },
     "metadata": {},
     "output_type": "display_data"
    },
    {
     "name": "stdout",
     "output_type": "stream",
     "text": [
      "La puntuación es: 0\n",
      "Se ha calculado la mejor jugada en: \u001b[1m 0.011237144470214844 \u001b[0m s.\n",
      "La máquina coloca ficha en: [4, 1]\n",
      "\n",
      "Movimiento VÁLIDO.\n",
      "\n",
      "------------\n",
      "\n",
      "Turno del jugador: \u001b[1m \u001b[0m H\n"
     ]
    },
    {
     "data": {
      "image/png": "[encoded data removed]",
      "text/plain": [
       "<Figure size 432x288 with 1 Axes>"
      ]
     },
     "metadata": {},
     "output_type": "display_data"
    },
    {
     "name": "stdout",
     "output_type": "stream",
     "text": [
      "La puntuación es: -5\n",
      "Posición X: 3\n",
      "Posición Y: 0\n",
      "\n",
      "Movimiento VÁLIDO.\n",
      "\n",
      "Movimiento VÁLIDO.\n",
      "\n",
      "------------\n",
      "\n",
      "Turno del jugador: \u001b[1m \u001b[0m M\n"
     ]
    },
    {
     "data": {
      "image/png": "[encoded data removed]",
      "text/plain": [
       "<Figure size 432x288 with 1 Axes>"
      ]
     },
     "metadata": {},
     "output_type": "display_data"
    },
    {
     "name": "stdout",
     "output_type": "stream",
     "text": [
      "La puntuación es: 0\n",
      "Se ha calculado la mejor jugada en: \u001b[1m 0.015884876251220703 \u001b[0m s.\n",
      "La máquina coloca ficha en: [4, 3]\n",
      "\n",
      "Movimiento VÁLIDO.\n",
      "\n",
      "------------\n",
      "\n",
      "Turno del jugador: \u001b[1m \u001b[0m H\n"
     ]
    },
    {
     "data": {
      "image/png": "[encoded data removed]",
      "text/plain": [
       "<Figure size 432x288 with 1 Axes>"
      ]
     },
     "metadata": {},
     "output_type": "display_data"
    },
    {
     "name": "stdout",
     "output_type": "stream",
     "text": [
      "La puntuación es: -5\n",
      "Posición X: 3\n",
      "Posición Y: 4\n",
      "\n",
      "Movimiento VÁLIDO.\n",
      "\n",
      "Movimiento VÁLIDO.\n",
      "\n",
      "------------\n",
      "\n",
      "Turno del jugador: \u001b[1m \u001b[0m M\n"
     ]
    },
    {
     "data": {
      "image/png": "[encoded data removed]",
      "text/plain": [
       "<Figure size 432x288 with 1 Axes>"
      ]
     },
     "metadata": {},
     "output_type": "display_data"
    },
    {
     "name": "stdout",
     "output_type": "stream",
     "text": [
      "La puntuación es: 0\n",
      "Se ha calculado la mejor jugada en: \u001b[1m 0.034628868103027344 \u001b[0m s.\n",
      "La máquina coloca ficha en: [4, 5]\n",
      "\n",
      "Movimiento VÁLIDO.\n",
      "\n",
      "------------\n",
      "\n",
      "Turno del jugador: \u001b[1m \u001b[0m H\n"
     ]
    },
    {
     "data": {
      "image/png": "[encoded data removed]",
      "text/plain": [
       "<Figure size 432x288 with 1 Axes>"
      ]
     },
     "metadata": {},
     "output_type": "display_data"
    },
    {
     "name": "stdout",
     "output_type": "stream",
     "text": [
      "La puntuación es: -3\n",
      "Posición X: 2\n",
      "Posición Y: 1\n",
      "\n",
      "Ya hay una ficha en esa casilla.\n",
      "Posición X: 1\n",
      "Posición Y: 2\n",
      "\n",
      "Movimiento VÁLIDO.\n",
      "\n",
      "Movimiento VÁLIDO.\n",
      "\n",
      "------------\n",
      "\n",
      "Turno del jugador: \u001b[1m \u001b[0m M\n"
     ]
    },
    {
     "data": {
      "image/png": "[encoded data removed]",
      "text/plain": [
       "<Figure size 432x288 with 1 Axes>"
      ]
     },
     "metadata": {},
     "output_type": "display_data"
    },
    {
     "name": "stdout",
     "output_type": "stream",
     "text": [
      "La puntuación es: 2\n",
      "Se ha calculado la mejor jugada en: \u001b[1m 0.04001617431640625 \u001b[0m s.\n",
      "La máquina coloca ficha en: [1, 0]\n",
      "\n",
      "Movimiento VÁLIDO.\n",
      "\n",
      "------------\n",
      "\n",
      "Turno del jugador: \u001b[1m \u001b[0m H\n"
     ]
    },
    {
     "data": {
      "image/png": "[encoded data removed]",
      "text/plain": [
       "<Figure size 432x288 with 1 Axes>"
      ]
     },
     "metadata": {},
     "output_type": "display_data"
    },
    {
     "name": "stdout",
     "output_type": "stream",
     "text": [
      "La puntuación es: -3\n",
      "Posición X: 4\n",
      "Posición Y: 2\n",
      "\n",
      "Movimiento VÁLIDO.\n",
      "\n",
      "Movimiento VÁLIDO.\n",
      "\n",
      "------------\n",
      "\n",
      "Turno del jugador: \u001b[1m \u001b[0m M\n"
     ]
    },
    {
     "data": {
      "image/png": "[encoded data removed]",
      "text/plain": [
       "<Figure size 432x288 with 1 Axes>"
      ]
     },
     "metadata": {},
     "output_type": "display_data"
    },
    {
     "name": "stdout",
     "output_type": "stream",
     "text": [
      "La puntuación es: 0\n",
      "Se ha calculado la mejor jugada en: \u001b[1m 0.009649991989135742 \u001b[0m s.\n",
      "La máquina coloca ficha en: [0, 1]\n",
      "\n",
      "Movimiento VÁLIDO.\n",
      "\n",
      "------------\n",
      "\n",
      "Turno del jugador: \u001b[1m \u001b[0m H\n"
     ]
    },
    {
     "data": {
      "image/png": "[encoded data removed]",
      "text/plain": [
       "<Figure size 432x288 with 1 Axes>"
      ]
     },
     "metadata": {},
     "output_type": "display_data"
    },
    {
     "name": "stdout",
     "output_type": "stream",
     "text": [
      "La puntuación es: -3\n"
     ]
    }
   ],
   "source": [
    "othello.Jugar()"
   ]
  },
  {
   "cell_type": "code",
   "execution_count": null,
   "metadata": {},
   "outputs": [],
   "source": [
    "othello.EstadisticasTiemposDeCalculo()"
   ]
  }
 ],
 "metadata": {
  "kernelspec": {
   "display_name": "Python 3",
   "language": "python",
   "name": "python3"
  },
  "language_info": {
   "codemirror_mode": {
    "name": "ipython",
    "version": 3
   },
   "file_extension": ".py",
   "mimetype": "text/x-python",
   "name": "python",
   "nbconvert_exporter": "python",
   "pygments_lexer": "ipython3",
   "version": "3.6.5"
  }
 },
 "nbformat": 4,
 "nbformat_minor": 2
}
