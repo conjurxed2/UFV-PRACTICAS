{
 "cells": [
  {
   "cell_type": "markdown",
   "metadata": {},
   "source": [
    "# Práctica 2 - Self-Organising Maps\n",
    "## Preparación de entorno\n",
    "### Gonzalo de las Heras\n",
    "### Jorge de la Fuente\n",
    "#### Importar librerías de código"
   ]
  },
  {
   "cell_type": "code",
   "execution_count": 1,
   "metadata": {},
   "outputs": [
    {
     "name": "stdout",
     "output_type": "stream",
     "text": [
      "Once deleted, variables cannot be recovered. Proceed (y/[n])? y\n"
     ]
    }
   ],
   "source": [
    "# Aquí se importan las librerias que se van a utiliar\n",
    "\n",
    "%reset\n",
    "\n",
    "import numpy as np\n",
    "import os\n",
    "import imageio\n",
    "import shutil\n",
    "import pdb\n",
    "import matplotlib.gridspec as gridspec\n",
    "\n",
    "from matplotlib import pyplot as plt\n",
    "from matplotlib import patches as patches\n",
    "from sklearn import datasets\n",
    "from scipy import misc\n",
    "from IPython.display import HTML\n",
    "\n",
    "%matplotlib inline"
   ]
  },
  {
   "cell_type": "markdown",
   "metadata": {},
   "source": [
    "#### Dataset que se va a utilizar para el entrenamiento"
   ]
  },
  {
   "cell_type": "code",
   "execution_count": 2,
   "metadata": {
    "collapsed": true
   },
   "outputs": [],
   "source": [
    "# Código para obtener el Dataset que se va a usar en el entrenamiento\n",
    "digits = datasets.load_digits()\n",
    "datos = digits.data\n",
    "\n",
    "valor_min = 0\n",
    "valor_max = 16\n",
    "valores_numeros = 64 # Matriz de 8x8\n",
    "num_numeros = datos.shape[0]"
   ]
  },
  {
   "cell_type": "markdown",
   "metadata": {},
   "source": [
    "## SOM Setup\n",
    "#### Variables definidas por el alumno"
   ]
  },
  {
   "cell_type": "code",
   "execution_count": 3,
   "metadata": {
    "collapsed": true
   },
   "outputs": [],
   "source": [
    "# Inicializa tamaño del mapa de Kohonen, número de iteraciones y learning rate\n",
    "# Inicializa normalizar_datos dependiendo de si tienes que normalizar los datos o no\n",
    "\n",
    "lado_mapa = 25\n",
    "periodo = 5000\n",
    "learning_rate = 0.1\n",
    "normalizar_datos = True"
   ]
  },
  {
   "cell_type": "markdown",
   "metadata": {},
   "source": [
    "#### A partir de este punto solo hay cálculos. No se introducen más valores \"a mano\""
   ]
  },
  {
   "cell_type": "markdown",
   "metadata": {},
   "source": [
    "#### Funciones para entrenar/clasificar"
   ]
  },
  {
   "cell_type": "code",
   "execution_count": 4,
   "metadata": {
    "collapsed": true
   },
   "outputs": [],
   "source": [
    "# Establece el numero de entradas del mapa y el número de datos que se van a usar para entrenar. \n",
    "# Utiliza una función que obtenga automáticamente los valores a partir del Dataset.\n",
    "num_entradas = valores_numeros\n",
    "num_datos = num_numeros\n",
    "\n",
    "# Calcula el vecindario inicial. Debe ser la mitad del lado del mapa de Kohonen\n",
    "vecindario = lado_mapa / 2\n",
    "\n",
    "# Normaliza los datos si fuese necesario dividiendo cada dato por el máximo en la matriz, 255 valor máximo\n",
    "if normalizar_datos:\n",
    "    datos = datos / valor_max\n",
    "\n",
    "# Crea una matriz de pesos con valores random entre 0 y 1. Usa la función random.random de la librería NumPy\n",
    "# Saco la matriz cuadrada\n",
    "matriz_pesos = np.random.random(num_entradas * (lado_mapa ** 2)).reshape((lado_mapa, lado_mapa, num_entradas))"
   ]
  },
  {
   "cell_type": "code",
   "execution_count": 5,
   "metadata": {
    "collapsed": true
   },
   "outputs": [],
   "source": [
    "# Función para encontrar la BMU\n",
    "\"\"\"\n",
    "   Encuentra la BMU para un patrón de entrada.\n",
    "   Entradas: (patrón_de_entrada, matriz_de_pesos, número_de_entradas)\n",
    "   Salidas:  (bmu, bmu_idx) tupla donde\n",
    "               bmu: vector de pesos de la neurona ganadora\n",
    "               bum_idx: coordenadas de la neurona ganadora\n",
    "\"\"\"\n",
    "def calcular_bmu(patron_entrada, m_pesos, m):\n",
    "      \n",
    "    bum_idx = np.array([])\n",
    "    bmu = np.array([])\n",
    "    distTemp = -1\n",
    "    \n",
    "    for x in range(0, m_pesos.shape[0]):\n",
    "        # Recorro el eje x\n",
    "        for y in range(0, m_pesos.shape[1]):\n",
    "            # Recorro el eje y\n",
    "            \n",
    "            # Cálculo de la distancia\n",
    "            dist = calcular_distancia_vector(patron_entrada, m_pesos[x][y]) \n",
    "            \n",
    "            # Modificación de la distancia si se encuentra una menor (o si es la primera distancia calculada)\n",
    "            if distTemp == -1 or dist < distTemp:\n",
    "                distTemp = dist\n",
    "                bmu = m_pesos[x][y]\n",
    "                bum_idx = np.array([x, y])\n",
    "            \n",
    "    return (bmu, bum_idx)"
   ]
  },
  {
   "cell_type": "code",
   "execution_count": 6,
   "metadata": {
    "collapsed": true
   },
   "outputs": [],
   "source": [
    "# Función para calcular el descenso del coeficiente de aprendizaje (eta)\n",
    "\"\"\"\n",
    "   Calcula el Learning Rate (eta) que corresponde a la i-ésima presentación.\n",
    "   Entradas: (learning_rate_inicial, iteracion, período)\n",
    "   Salidas:  learning_rate para la iteración i\n",
    "\n",
    "\"\"\"\n",
    "def variacion_learning_rate(lr_inicial, i, n_iteraciones):\n",
    "    return lr_inicial + ((-lr_inicial * i)/ n_iteraciones)"
   ]
  },
  {
   "cell_type": "code",
   "execution_count": 7,
   "metadata": {
    "collapsed": true
   },
   "outputs": [],
   "source": [
    "# Función para calcular el descenso del vecindario (v)\n",
    "\"\"\"\n",
    "   Calcula el vecindario  (v) que corresponde a la i-ésima presentación.\n",
    "   Entradas: (vecindario_inicial, iteracion, período)\n",
    "   Salidas:  lvecindario para la iteración i\n",
    "\n",
    "\"\"\"\n",
    "def variacion_vecindario(vecindario_inicial, i, n_iteraciones):\n",
    "    return 1 + vecindario_inicial * (1 - (i / n_iteraciones))"
   ]
  },
  {
   "cell_type": "code",
   "execution_count": 8,
   "metadata": {
    "collapsed": true
   },
   "outputs": [],
   "source": [
    "# Función para calcular el descenso del coeficiente de aprendizaje (eta) en función de la distancia a la BMU\n",
    "\"\"\"\n",
    "   Calcula la amortiguación de eta en función de la distancia en el mapa entre una neurona y la BMU.\n",
    "   Entradas: (distancia_BMU, vecindario_actual)\n",
    "   Salidas:  amortiguación para la iteración\n",
    "\n",
    "\"\"\"\n",
    "def decay(distancia_BMU, vecindario_actual):\n",
    "    return np.exp(-distancia_BMU / (2* (vecindario_actual**2)))"
   ]
  },
  {
   "cell_type": "markdown",
   "metadata": {},
   "source": [
    "#### Utilidades"
   ]
  },
  {
   "cell_type": "code",
   "execution_count": 9,
   "metadata": {
    "collapsed": true
   },
   "outputs": [],
   "source": [
    "# Función para calcular distancia entre dos vectores\n",
    "\"\"\"\n",
    "   Calcula el vecindario  (v) que corresponde a la i-ésima presentación.\n",
    "   Entradas: vector1, vector2)\n",
    "   Salidas:  distancia\n",
    "\n",
    "\"\"\"\n",
    "def calcular_distancia_vector(vector1, vector2):\n",
    "    resultado = 0\n",
    "    for i in range(0, vector1.shape[0]) :\n",
    "        resultado = resultado + (vector1[i] - vector2[i])**2\n",
    "    return resultado"
   ]
  },
  {
   "cell_type": "code",
   "execution_count": 10,
   "metadata": {
    "collapsed": true
   },
   "outputs": [],
   "source": [
    "# Función para calcular distancia entre dos vectores\n",
    "\"\"\"\n",
    "   Calcula el vecindario  (v) que corresponde a la i-ésima presentación.\n",
    "   Entradas: vector1, vector2)\n",
    "   Salidas:  distancia\n",
    "\n",
    "\"\"\"\n",
    "def calcular_distancia_puntos(punto1, punto2):\n",
    "    return ((punto1[0] - punto2[0])**2) + ((punto1[1] - punto2[1])**2)"
   ]
  },
  {
   "cell_type": "markdown",
   "metadata": {},
   "source": [
    "#### Funciones para dibujar la salida de la red"
   ]
  },
  {
   "cell_type": "code",
   "execution_count": 11,
   "metadata": {
    "collapsed": true
   },
   "outputs": [],
   "source": [
    "# Función para pintar una matriz de imagenes (números escritos a mano)\n",
    "def pintar_mapa(matriz_valores):\n",
    "    \n",
    "    global etiqueta \n",
    "    \n",
    "    print(\"Dibujando ...\")\n",
    "\n",
    "    plt.figure(figsize=(12, 12))\n",
    "    index=1\n",
    "    grid = gridspec.GridSpec(lado_mapa, lado_mapa)\n",
    "    grid.update(wspace=0, hspace=0)\n",
    "    matriz_valores = matriz_valores*16\n",
    "    \n",
    "    for i in range(matriz_valores.shape[0]):\n",
    "        for j in range(matriz_valores.shape[1]):\n",
    "            index = i * lado_mapa + j\n",
    "            plt.subplot(grid[index])\n",
    "            etiqueta=matriz_valores[i,j].reshape(8,8)\n",
    "            plt.imshow(etiqueta, cmap='Greys')\n",
    "            plt.axis('off')"
   ]
  },
  {
   "cell_type": "code",
   "execution_count": null,
   "metadata": {
    "collapsed": true
   },
   "outputs": [],
   "source": [
    "def dibujar_digito(ejemplo):\n",
    "    plt.figure(1, figsize=(1,1))\n",
    "    plt.imshow(ejemplo.reshape(8,8), cmap=plt.cm.gray_r, interpolation='nearest')\n",
    "    plt.show()"
   ]
  },
  {
   "cell_type": "markdown",
   "metadata": {},
   "source": [
    "## SOM Entrenamiento"
   ]
  },
  {
   "cell_type": "code",
   "execution_count": null,
   "metadata": {},
   "outputs": [
    {
     "name": "stdout",
     "output_type": "stream",
     "text": [
      "COMIENZA ENTRENAMIENTO...\n",
      "\n",
      "Iteración: 100\n",
      "Iteración: 200\n",
      "Iteración: 300\n",
      "Iteración: 400\n",
      "Iteración: 500\n",
      "Iteración: 600\n",
      "Iteración: 700\n",
      "Iteración: 800\n",
      "Iteración: 900\n",
      "Iteración: 1000\n",
      "Iteración: 1100\n",
      "Iteración: 1200\n",
      "Iteración: 1300\n",
      "Iteración: 1400\n",
      "Iteración: 1500\n",
      "Iteración: 1600\n",
      "Iteración: 1700\n",
      "Iteración: 1800\n",
      "Iteración: 1900\n",
      "Iteración: 2000\n",
      "Iteración: 2100\n",
      "Iteración: 2200\n",
      "Iteración: 2300\n",
      "Iteración: 2400\n",
      "Iteración: 2500\n",
      "Iteración: 2600\n",
      "Iteración: 2700\n",
      "Iteración: 2800\n",
      "Iteración: 2900\n"
     ]
    }
   ],
   "source": [
    "# Entrena la red con el dataset de entrenamiento\n",
    "\n",
    "# Pasos previos\n",
    "bmu = np.array([])\n",
    "\n",
    "print(\"COMIENZA ENTRENAMIENTO...\")\n",
    "print(\"\")\n",
    "\n",
    "for numPresentacion in range(1, periodo + 1):    \n",
    "    \n",
    "    # Impresión de la iteración cada 100\n",
    "    if numPresentacion % 100 == 0 :\n",
    "        print(\"Iteración: \" + str(numPresentacion))  \n",
    "    \n",
    "    # Selección de un patrón aleatorio\n",
    "    presentacion = datos[np.random.randint(0, num_numeros -1)]\n",
    "    \n",
    "    # Cálculo de bmu\n",
    "    bmu = calcular_bmu(presentacion, matriz_pesos, num_entradas)\n",
    "    \n",
    "    # Cálculo de eta\n",
    "    eta = variacion_learning_rate(learning_rate, numPresentacion, periodo)\n",
    "    \n",
    "    # Cálculo de v\n",
    "    v = variacion_vecindario(vecindario, numPresentacion, periodo)\n",
    "    \n",
    "    # Reajuste de pesos\n",
    "    for x in range(0, matriz_pesos.shape[0]):\n",
    "        # Recorro el eje x\n",
    "        for y in range(0, matriz_pesos.shape[1]):   \n",
    "            # Recorro el eje y\n",
    "            if calcular_distancia_puntos([x, y], bmu[1]) <= vecindario:\n",
    "                # Si estamos dentro del vecindario, ajustamos los pesos\n",
    "                matriz_pesos[x][y] = matriz_pesos[x][y] + eta * decay(calcular_distancia_puntos([x, y], bmu[1]), v) * (presentacion - matriz_pesos[x][y])   \n",
    "    \n",
    "print(\"Fin\")"
   ]
  },
  {
   "cell_type": "markdown",
   "metadata": {},
   "source": [
    "## SOM Clasificación"
   ]
  },
  {
   "cell_type": "code",
   "execution_count": null,
   "metadata": {
    "collapsed": true,
    "scrolled": false
   },
   "outputs": [],
   "source": [
    "# Clasifica los patrones de entrenamiento con la matriz de pesos recién entrenada\n",
    "\n",
    "mapa_clasificacion = np.copy(matriz_pesos) * 0\n",
    "mapa_activaciones = np.zeros((lado_mapa, lado_mapa), dtype=int)\n",
    "mapa_distancias = np.zeros((lado_mapa, lado_mapa), dtype=float)\n",
    "\n",
    "for patron in range(0, datos.shape[0]):\n",
    "    \n",
    "    # Calculamos bmu\n",
    "    bmu = calcular_bmu(datos[patron], matriz_pesos, num_entradas)\n",
    "    \n",
    "    # Coordenadas de la bmu\n",
    "    bmu_coordenadas = bmu[1]\n",
    "    bmu_x = bmu_coordenadas[0]\n",
    "    bmu_y = bmu_coordenadas[1]\n",
    "    \n",
    "    #print(\"Encontrado en: (\" + str(bmu_x) + \", \" + str(bmu_y + 1) + \")\")\n",
    "    \n",
    "    # Pesos de la bmu\n",
    "    bmu_pesos = bmu[0]\n",
    "    \n",
    "    # Actualización de los mapas de clasficicación\n",
    "    mapa_clasificacion[bmu_x][bmu_y] = bmu_pesos\n",
    "    \n",
    "    # Sumamos 1 al número de activaciones de la neurona\n",
    "    mapa_activaciones[bmu_x][bmu_y] += 1\n",
    "    \n",
    "    # Acumulamos las distancias calculadas\n",
    "    mapa_distancias[bmu_x][bmu_y] += calcular_distancia_vector(datos[patron], matriz_pesos[bmu_x][bmu_y])\n",
    "\n",
    "# Número de patrones reconocidos    \n",
    "num_activaciones = np.count_nonzero(mapa_activaciones != 0)\n",
    "\n",
    "# Cuidado con la activación = 0 en la división\n",
    "mapa_activaciones[mapa_activaciones == 0] = -1  \n",
    "\n",
    "# Dividimos la aculumación de distancias entre el número de activaciones\n",
    "mapa_distancias = np.absolute(mapa_distancias / mapa_activaciones)    \n",
    "\n",
    "# Volvemos a cambiar los -1 a 0\n",
    "mapa_activaciones[mapa_activaciones == -1] = 0  \n",
    "\n",
    "# Media de distancias de todo el mapa\n",
    "media_distancias = np.sum(mapa_distancias) / num_activaciones\n",
    "\n",
    "print(\"\\n LADO : \\n\") \n",
    "print(\"> \" + str(lado_mapa))\n",
    "\n",
    "print(\"\\n PERIODO : \\n\") \n",
    "print(\"> \" + str(periodo))\n",
    "\n",
    "print(\"\\n NÚMERO DE ACTIVACIONES : \\n\") \n",
    "print(\"> \" + str(num_activaciones))\n",
    "\n",
    "print(\"\\n MEDIA DISTANCIAS : \\n\") \n",
    "print(\"> \" + str(media_distancias))\n",
    "    \n",
    "print(\"\\n MAPA DE CLASIFICACIÓN: \\n\")      \n",
    "pintar_mapa(mapa_clasificacion)\n",
    "\n",
    "print(\"\\n MAPA DE ACTIVACIÓN: \\n\") \n",
    "print(mapa_activaciones)\n",
    "\n",
    "print(\"\\n MAPA DE DISTANCIAS MEDIAS: \\n\") \n",
    "print(mapa_distancias)"
   ]
  },
  {
   "cell_type": "markdown",
   "metadata": {},
   "source": [
    "## SOM Prueba"
   ]
  },
  {
   "cell_type": "code",
   "execution_count": null,
   "metadata": {
    "collapsed": true,
    "scrolled": false
   },
   "outputs": [],
   "source": [
    "# Clasifica nuevos patrones\n",
    "\n",
    "mapa_clasificacion_pruebas = np.copy(mapa_clasificacion)\n",
    "mapa_clasificacion_pruebas_numero = np.copy(matriz_pesos) * 0\n",
    "\n",
    "mapa_activaciones_pruebas = np.zeros((lado_mapa, lado_mapa), dtype=int)\n",
    "mapa_distancias_pruebas = np.zeros((lado_mapa, lado_mapa), dtype=float)\n",
    "\n",
    "# Números en formato 8x8\n",
    "numeros = np.array(   \n",
    "[    \n",
    "    [  \n",
    "        0,   0,   9,  15,  14,   2,   0,   0,   \n",
    "        0,   0,   9,   3,   9,   8,   0,   0,   \n",
    "        0,   0,   0,   0,   6,  10,   0,   0,   \n",
    "        0,   0,   0,  10,  15,   2,   0,   0,  \n",
    "        0,   0,   2,  10,  11,  15,   2,   0,\n",
    "        0,   3,   1,   0,   0,  14,   4,   0, \n",
    "        0,  10,  13,   7,   2,  12,   4,   0,  \n",
    "        0,   0,   7,  14,   16,  10,  0,   0        \n",
    "    ], \n",
    "    [ \n",
    "        0,  0,  0,  0,  0,  0,  0,  0,  \n",
    "        0,  0,  0,  0,  0,  0,  0,  0,  \n",
    "        0,  0,  0,  0,  0,  0,  0,  0,  \n",
    "        0,  0,  0,  0,  0,  0,  0,  0,  \n",
    "        0,  0,  0,  0,  0,  0,  0,  0, \n",
    "        0,  0,  0,  0,  0,  0,  0,  0,  \n",
    "        0,  0,  0,  0,  0,  0,  0,  0,\n",
    "        0,  0,  0,  0,  0,  0,  0,  0,  \n",
    "    ],\n",
    "    [  \n",
    "        0,   0,   3,  13,  13,   3,   0,   0, \n",
    "        0,   0,  14,   8,   7,  15,   1,   0,   \n",
    "        0,   3,  16,   0,   0,   9,   6,   0,   \n",
    "        0,   6,  13,   0,   0,   4,   8,   0,   \n",
    "        0,   4,   9,   0,   0,   4,   8,   0,  \n",
    "        0,   1,  13,   0,   0,   5,   8,   0,  \n",
    "        0,   0,  14,   7,   0,  11,   4,   0,   \n",
    "        0,   0,   3,  15,  16,  14,   0,   0\n",
    "    ],\n",
    "    [ \n",
    "        0,   1,   6,  12,  15,   5,   0,   0,\n",
    "        0,   7,  14,  14,  16,   7,   0,   0,  \n",
    "        0,   0,   2,  14,  10,   0,   0,   0,   \n",
    "        0,   0,  11,  16,   2,   0,   0,   0,   \n",
    "        0,   0,   2,  11,  16,  12,   0,   0,   \n",
    "        0,   0,   0,   0,   4,  14,   7,   0,\n",
    "        0,   0,   2,   4,   5,  14,   7,   0,   \n",
    "        0,   0,   6,  16,  14,   8,   0,   0\n",
    "    ],\n",
    "    [  \n",
    "        0,   0,  10,  12,  13,  16,   2,   0,\n",
    "        0,   4,  15,   6,   4,   4,   0,   0,   \n",
    "        0,   5,  10,   0,   0,   0,   0,   0,   \n",
    "        0,   5,  16,  16,  16,   9,   0,   0,\n",
    "        0,   2,  11,   3,   3,  12,   0,   0,\n",
    "        0,   0,   0,   0,   2,  13,   0,   0,  \n",
    "        0,   0,   4,   1,   9,  10,   0,   0,  \n",
    "        0,   0,  16,  16,  13,   1,   0,   0\n",
    "    ],\n",
    "    [ \n",
    "        0,   0,   4,  12,  13,   5,   0,   0,   0,   0,  14,\n",
    "        16,  16,  16,   4,\n",
    "        0,   0,   6,  13,   2,   1,  11,   8,   0,   0,   6,  11,   0,   0,   8,\n",
    "        8,   0,   0,   4,  16,   0,   0,  \n",
    "        10,   8,   0,   0,   4,  16,   4,   8,\n",
    "        16,   3,   0,   0,   0,  16,  16,  16,  12,   0,   0,   0,   0,   4,  15,\n",
    "        14,   3,   0,   0\n",
    "         \n",
    "    ]\n",
    "])\n",
    "\n",
    "for i in range(0, numeros.shape[0] -1):\n",
    "    \n",
    "    # Sacamos un número\n",
    "    numero = numeros[i]\n",
    "    \n",
    "    # Dibujamos el numero\n",
    "    dibujar_digito(numero)\n",
    "\n",
    "    # Calculamos bmu\n",
    "    bmu = calcular_bmu(numero, matriz_pesos, num_entradas)\n",
    "\n",
    "    # Coordenadas de la bmu\n",
    "    bmu_coordenadas = bmu[1]\n",
    "    bmu_x = bmu_coordenadas[0]\n",
    "    bmu_y = bmu_coordenadas[1]\n",
    "    \n",
    "    # Pesos de la bmu\n",
    "    bmu_pesos = bmu[0]\n",
    "    \n",
    "    # Actualización del mapa de clasificación (dibuja la clase en el lugar de la clase correspondiente según la matriz de pesos)\n",
    "    mapa_clasificacion_pruebas[bmu_x][bmu_y] = numero / 16\n",
    "    \n",
    "    # Actualización del mapa de clasificación (dibuja el numero presentado a la red en el lugar de la clase correspondiente)\n",
    "    mapa_clasificacion_pruebas_numero[bmu_x][bmu_y] = numero / 16\n",
    "    \n",
    "    # Sumamos 1 al número de activaciones de la neurona\n",
    "    mapa_activaciones_pruebas[bmu_x][bmu_y] += 1\n",
    "    \n",
    "    # Acumulamos las distancias calculadas\n",
    "    mapa_distancias_pruebas[bmu_x][bmu_y] += calcular_distancia_vector(datos[patron], matriz_pesos[bmu_x][bmu_y])\n",
    "\n",
    "    print(\"Encontrado en: (\" + str(bmu_x) + \", \" + str(bmu_y + 1) + \")\")\n",
    "    \n",
    "# Número de patrones reconocidos    \n",
    "num_activaciones = np.count_nonzero(mapa_activaciones != 0)\n",
    "\n",
    "# Cuidado con la activación = 0 en la división\n",
    "mapa_activaciones[mapa_activaciones == 0] = -1  \n",
    "\n",
    "# Dividimos la aculumación de distancias entre el número de activaciones\n",
    "mapa_distancias = np.absolute(mapa_distancias / mapa_activaciones)    \n",
    "\n",
    "# Volvemos a cambiar los -1 a 0\n",
    "mapa_activaciones[mapa_activaciones == -1] = 0  \n",
    "\n",
    "# Media de distancias de todo el mapa\n",
    "media_distancias = np.sum(mapa_distancias) / num_activaciones\n",
    "\n",
    "print(\"\\n LADO : \\n\") \n",
    "print(\"> \" + str(lado_mapa))\n",
    "\n",
    "print(\"\\n PERIODO : \\n\") \n",
    "print(\"> \" + str(periodo))\n",
    "\n",
    "print(\"\\n NÚMERO DE ACTIVACIONES : \\n\") \n",
    "print(\"> \" + str(num_activaciones))\n",
    "\n",
    "print(\"\\n MEDIA DISTANCIAS : \\n\") \n",
    "print(\"> \" + str(media_distancias))\n",
    "\n",
    "print(\"\\n MAPA DE ACTIVACIÓN: \\n\") \n",
    "print(mapa_activaciones_pruebas)\n",
    "print(\"\\n MAPA DE DISTANCIAS MEDIAS: \\n\") \n",
    "print(mapa_distancias_pruebas)\n",
    "    \n",
    "print(\"\\n MAPA DE CLASIFICACIÓN (MATRIZ DE PESOS): \\n\")      \n",
    "pintar_mapa(mapa_clasificacion_pruebas)\n",
    "\n",
    "print(\"\\n MAPA DE CLASIFICACIÓN (NÚMERO SELECCIONADO): \\n\")   \n",
    "pintar_mapa(mapa_clasificacion_pruebas_numero)"
   ]
  },
  {
   "cell_type": "code",
   "execution_count": null,
   "metadata": {
    "collapsed": true
   },
   "outputs": [],
   "source": []
  }
 ],
 "metadata": {
  "anaconda-cloud": {},
  "kernelspec": {
   "display_name": "Python 3",
   "language": "python",
   "name": "python3"
  },
  "language_info": {
   "codemirror_mode": {
    "name": "ipython",
    "version": 3
   },
   "file_extension": ".py",
   "mimetype": "text/x-python",
   "name": "python",
   "nbconvert_exporter": "python",
   "pygments_lexer": "ipython3",
   "version": "3.6.3"
  }
 },
 "nbformat": 4,
 "nbformat_minor": 2
}
