{
 "cells": [
  {
   "cell_type": "markdown",
   "metadata": {},
   "source": [
    "# Laboratorio 2. Práctica 1 - Fundamentos de redes neuronales\n",
    "## Preparación de entorno\n",
    "### Gonzalo de las Heras\n",
    "### Jorge de la Fuente\n",
    "#### Importar librerías de código"
   ]
  },
  {
   "cell_type": "code",
   "execution_count": 2,
   "metadata": {},
   "outputs": [
    {
     "name": "stdout",
     "output_type": "stream",
     "text": [
      "Once deleted, variables cannot be recovered. Proceed (y/[n])? y\n"
     ]
    }
   ],
   "source": [
    "# Aquí se importan las librerias que se van a utiliar\n",
    "\n",
    "%reset\n",
    "\n",
    "import numpy as np\n",
    "import pandas as pd\n",
    "\n",
    "\n",
    "%matplotlib inline"
   ]
  },
  {
   "attachments": {
    "7174f20af2a8181749bf164ab24d5951.png": {
     "image/png": "[encoded data removed]"
    }
   },
   "cell_type": "markdown",
   "metadata": {},
   "source": [
    "# ![7174f20af2a8181749bf164ab24d5951.png](attachment:7174f20af2a8181749bf164ab24d5951.png)"
   ]
  },
  {
   "cell_type": "code",
   "execution_count": 3,
   "metadata": {
    "collapsed": true
   },
   "outputs": [],
   "source": [
    "def Calcular(Valores, FuncionActivacion):\n",
    "    \n",
    "    # Valores de la entrada\n",
    "    Entradas = np.array(Valores.loc[:, 'entrada'])\n",
    "    \n",
    "    # Pesos\n",
    "    Pesos_n1 = np.array(Valores.loc[:, 'pesos_n1'])\n",
    "    Pesos_n2 = np.array(Valores.loc[:, 'pesos_n2'])\n",
    "    Pesos_salida = np.array(Valores.loc[:, 'pesos_salida'])\n",
    "    \n",
    "    # Cálculo de valores\n",
    "    H1 = Get_Salida_Funcion(np.sum([Entradas[0] * Pesos_n1[0], Entradas[1] * Pesos_n1[1]]), FuncionActivacion)\n",
    "    H2 = Get_Salida_Funcion(np.sum([Entradas[0] * Pesos_n2[0], Entradas[1] * Pesos_n2[1]]), FuncionActivacion)\n",
    "    O1 = Get_Salida_Funcion(np.sum([H1 * Pesos_salida[0], H2 * Pesos_salida[1]]), FuncionActivacion)\n",
    "    \n",
    "    print(\"Salida Entrada: \" + str(Entradas) + \" , \" + str(FuncionActivacion) + \": \\n\")\n",
    "    print(\"H1: > \" + str(H1) + \"\\n\")\n",
    "    print(\"H2: > \" + str(H2) + \"\\n\")\n",
    "    print(\"O1: > \" + str(O1) + \"\\n\")\n",
    "    \n",
    "    return O1"
   ]
  },
  {
   "cell_type": "code",
   "execution_count": 4,
   "metadata": {
    "collapsed": true
   },
   "outputs": [],
   "source": [
    "def Funcion_ReLU (Entrada_x):\n",
    "    return np.maximum(0, Entrada_x)"
   ]
  },
  {
   "cell_type": "code",
   "execution_count": 5,
   "metadata": {
    "collapsed": true
   },
   "outputs": [],
   "source": [
    "def Funcion_Sigmoide (Entrada_x):\n",
    "    return 1 / (1 + np.exp(-Entrada_x))"
   ]
  },
  {
   "cell_type": "code",
   "execution_count": 6,
   "metadata": {
    "collapsed": true
   },
   "outputs": [],
   "source": [
    "def Funcion_Signo (Entrada_x, Umbral):\n",
    "    if (Entrada_x > Umbral):\n",
    "        return 1\n",
    "    elif (str(Entrada_x) == str(Umbral)):\n",
    "        return 1\n",
    "    else:\n",
    "        return 0"
   ]
  },
  {
   "cell_type": "code",
   "execution_count": 7,
   "metadata": {
    "collapsed": true
   },
   "outputs": [],
   "source": [
    "def Get_Salida_Funcion (Entrada_x, Funcion):\n",
    "    if (Funcion == \"ReLU\"):\n",
    "        return Funcion_ReLU(Entrada_x)\n",
    "    elif (Funcion == \"Sigmoide\"): \n",
    "        return Funcion_Sigmoide(Entrada_x)"
   ]
  },
  {
   "cell_type": "code",
   "execution_count": 8,
   "metadata": {
    "collapsed": true
   },
   "outputs": [],
   "source": [
    "def Calculo_Error(Salida_Esperada, Salida_Obtenida):\n",
    "    return Salida_Esperada - Salida_Obtenida"
   ]
  },
  {
   "cell_type": "code",
   "execution_count": 9,
   "metadata": {
    "collapsed": true
   },
   "outputs": [],
   "source": [
    "def Calcular_Perceptron_2_Entradas(Entradas, Pesos, Umbral):\n",
    "    return Funcion_Signo(np.sum([Entradas[0] * Pesos[0], Entradas[1] * Pesos[1]]), Umbral)"
   ]
  },
  {
   "cell_type": "markdown",
   "metadata": {},
   "source": [
    "## Implementación 1. Función de activación f(S)."
   ]
  },
  {
   "cell_type": "code",
   "execution_count": 10,
   "metadata": {},
   "outputs": [
    {
     "name": "stdout",
     "output_type": "stream",
     "text": [
      "Salida Entrada: [ 2 -1] , Sigmoide: \n",
      "\n",
      "H1: > 0.5\n",
      "\n",
      "H2: > 0.999088948806\n",
      "\n",
      "O1: > 0.119490184414\n",
      "\n"
     ]
    },
    {
     "data": {
      "text/plain": [
       "0.11949018441351315"
      ]
     },
     "execution_count": 10,
     "metadata": {},
     "output_type": "execute_result"
    }
   ],
   "source": [
    "# Valores de prueba\n",
    "valores = pd.read_csv('Datos/red_neuronal1.csv', header=0)\n",
    "#Valores = pd.read_csv('Datos/red_neuronal2.csv', header=0)\n",
    "\n",
    "# Funciones de activación posibles (ReLU, Sigmoide)\n",
    "Calcular(valores, 'Sigmoide')"
   ]
  },
  {
   "cell_type": "markdown",
   "metadata": {
    "collapsed": true
   },
   "source": [
    "## Implementación 2. Función de error."
   ]
  },
  {
   "cell_type": "code",
   "execution_count": 11,
   "metadata": {},
   "outputs": [
    {
     "name": "stdout",
     "output_type": "stream",
     "text": [
      "Salida Entrada: [3 5] , ReLU: \n",
      "\n",
      "H1: > 26\n",
      "\n",
      "H2: > 0\n",
      "\n",
      "O1: > 52\n",
      "\n",
      "Error: 18\n",
      "\n",
      "\n",
      "Salida Entrada: [ 1 -1] , ReLU: \n",
      "\n",
      "H1: > 0\n",
      "\n",
      "H2: > 9\n",
      "\n",
      "O1: > 63\n",
      "\n",
      "Error: 7\n",
      "\n",
      "\n",
      "Salida Entrada: [4 3] , Sigmoide: \n",
      "\n",
      "H1: > 0.641067406335\n",
      "\n",
      "H2: > 0.984171686033\n",
      "\n",
      "O1: > 0.7034382608\n",
      "\n",
      "Error: 0.2965617392\n",
      "\n",
      "\n",
      "Salida Entrada: [-2  1] , Sigmoide: \n",
      "\n",
      "H1: > 0.681353733789\n",
      "\n",
      "H2: > 0.334033073248\n",
      "\n",
      "O1: > 0.661236221502\n",
      "\n",
      "Error: 0.338763778498\n"
     ]
    }
   ],
   "source": [
    "# Valores de prueba\n",
    "valores_ReLU_1 = pd.read_csv('Datos/rn1_relu.csv', header=0)\n",
    "valores_ReLU_2 = pd.read_csv('Datos/rn2_relu.csv', header=0)\n",
    "valores_Sigm_1 = pd.read_csv('Datos/rn1_sigm.csv', header=0)\n",
    "valores_Sigm_2 = pd.read_csv('Datos/rn2_sigm.csv', header=0)\n",
    "\n",
    "# Salidas esperadas\n",
    "salida_esperada_ReLU = 70\n",
    "salida_esperada_Sigm = 1\n",
    "\n",
    "# Funciones de activación posibles (ReLU, Sigmoide)\n",
    "print(\"Error: \" + str(Calculo_Error(salida_esperada_ReLU, Calcular(valores_ReLU_1, 'ReLU'))) + \"\\n\\n\")\n",
    "print(\"Error: \" + str(Calculo_Error(salida_esperada_ReLU, Calcular(valores_ReLU_2, 'ReLU'))) + \"\\n\\n\")\n",
    "print(\"Error: \" + str(Calculo_Error(salida_esperada_Sigm, Calcular(valores_Sigm_1, 'Sigmoide'))) + \"\\n\\n\")\n",
    "print(\"Error: \" + str(Calculo_Error(salida_esperada_Sigm, Calcular(valores_Sigm_2, 'Sigmoide'))))"
   ]
  },
  {
   "cell_type": "markdown",
   "metadata": {},
   "source": [
    "## Implementación 3. Aprendizaje."
   ]
  },
  {
   "cell_type": "markdown",
   "metadata": {},
   "source": [
    "### Función OR."
   ]
  },
  {
   "cell_type": "code",
   "execution_count": 46,
   "metadata": {
    "collapsed": true,
    "scrolled": false
   },
   "outputs": [],
   "source": [
    "# Dataframe de salida\n",
    "columnas = [\n",
    "            'Iteracion','Entrada_1', 'Entrada_2', 'Peso_Inicial_1', 'Peso_Inicial_2', \n",
    "            'Salida_Obtenida', 'Salida_deseada', 'Error', 'Peso_Final_1', 'Peso_Final_2'\n",
    "        ]\n",
    "\n",
    "datos = np.array([])\n",
    "datos_temp = np.array([])\n",
    "\n",
    "# Pesos\n",
    "pesos = np.array([round(np.random.uniform(-1,1), 1), round(np.random.uniform(-1,1), 1)])\n",
    "#pesos = np.array([0.3, -0.1])\n",
    "entradas_OR = np.array([[0,0],[0,1],[1,0],[1,1]])\n",
    "resultados_OR = np.array([0, 0, 0, 1])\n",
    "\n",
    "learning_rate = 0.1\n",
    "umbral = 0.2\n",
    "\n",
    "epoch = 1\n",
    "\n",
    "entrenado = False\n",
    "num_errores = 0\n",
    "\n",
    "while (entrenado == False):\n",
    "  \n",
    "    num_errores = 0\n",
    "    \n",
    "    # Recorremos las entradas\n",
    "    for i in range(0, entradas_OR.shape[0]):\n",
    "        \n",
    "        datos_temp = np.array([])\n",
    "        \n",
    "        resultado_obtenido = Calcular_Perceptron_2_Entradas(entradas_OR[i], pesos, umbral)\n",
    "        error_obtenido = Calculo_Error(resultados_OR[i], resultado_obtenido)\n",
    "\n",
    "        # CSV\n",
    "        datos_temp = np.append(datos_temp, epoch)\n",
    "        datos_temp = np.append(datos_temp, entradas_OR[i][0])\n",
    "        datos_temp = np.append(datos_temp, entradas_OR[i][1])\n",
    "        datos_temp = np.append(datos_temp, resultados_OR[i])\n",
    "        datos_temp = np.append(datos_temp, round(pesos[0], 1))\n",
    "        datos_temp = np.append(datos_temp, round(pesos[1], 1))\n",
    "        datos_temp = np.append(datos_temp, resultado_obtenido)\n",
    "        datos_temp = np.append(datos_temp, error_obtenido)\n",
    "        \n",
    "        if error_obtenido != 0:\n",
    "            # Recalculamos pesos\n",
    "            pesos[0] = pesos[0] + learning_rate * error_obtenido * entradas_OR[i][0]\n",
    "            pesos[1] = pesos[1] + learning_rate * error_obtenido * entradas_OR[i][1]\n",
    "            num_errores += 1\n",
    "        \n",
    "        # CSV\n",
    "        datos_temp = np.append(datos_temp, round(pesos[0], 1))\n",
    "        datos_temp = np.append(datos_temp, round(pesos[1], 1))\n",
    "        \n",
    "        datos = np.append(datos, datos_temp)\n",
    "    \n",
    "    if num_errores == 0:\n",
    "        entrenado = True\n",
    "    \n",
    "    epoch += 1\n",
    "    \n",
    "datos = datos.reshape(int(datos.shape[0] / 10), 10)\n",
    "\n",
    "csv = pd.DataFrame(data=datos[0:,0:], index=datos[0:,0], columns=columnas)\n",
    "csv.to_csv('L2P1_apartado3_OR.csv')"
   ]
  }
 ],
 "metadata": {
  "kernelspec": {
   "display_name": "Python 3",
   "language": "python",
   "name": "python3"
  },
  "language_info": {
   "codemirror_mode": {
    "name": "ipython",
    "version": 3
   },
   "file_extension": ".py",
   "mimetype": "text/x-python",
   "name": "python",
   "nbconvert_exporter": "python",
   "pygments_lexer": "ipython3",
   "version": "3.6.3"
  }
 },
 "nbformat": 4,
 "nbformat_minor": 2
}
