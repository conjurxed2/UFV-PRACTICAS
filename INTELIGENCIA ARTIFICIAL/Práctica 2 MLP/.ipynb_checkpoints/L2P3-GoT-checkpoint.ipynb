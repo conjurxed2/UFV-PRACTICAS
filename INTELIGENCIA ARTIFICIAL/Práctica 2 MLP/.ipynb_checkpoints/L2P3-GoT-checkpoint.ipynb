{
 "cells": [
  {
   "cell_type": "code",
   "execution_count": 3,
   "metadata": {},
   "outputs": [
    {
     "name": "stdout",
     "output_type": "stream",
     "text": [
      "Once deleted, variables cannot be recovered. Proceed (y/[n])? y\n"
     ]
    },
    {
     "name": "stderr",
     "output_type": "stream",
     "text": [
      "Using TensorFlow backend.\n"
     ]
    }
   ],
   "source": [
    "# Aquí se importan las librerias que se van a utiliar\n",
    "\n",
    "%reset\n",
    "\n",
    "import numpy as np\n",
    "import pandas as pd\n",
    "from keras.models import Sequential\n",
    "from keras.layers import Dense\n",
    "from keras.utils import plot_model\n",
    "import keras.optimizers\n",
    "\n",
    "\n",
    "%matplotlib inline"
   ]
  },
  {
   "cell_type": "code",
   "execution_count": 14,
   "metadata": {
    "scrolled": false
   },
   "outputs": [],
   "source": [
    "# Obtención del fichero de datos de entrenamiento\n",
    "datos = pd.read_csv('Datos/got.csv', header=0)\n",
    "\n",
    "# Recolección de información de entrada para la red neuronal\n",
    "genero = datos.loc[:,'male']\n",
    "aparicion_libro_1 = datos.loc[:,'book1']\n",
    "aparicion_libro_2 = datos.loc[:,'book2']\n",
    "aparicion_libro_3 = datos.loc[:,'book3']\n",
    "aparicion_libro_4 = datos.loc[:,'book4']\n",
    "aparicion_libro_5 = datos.loc[:,'book5']\n",
    "casado = datos.loc[:,'isMarried']\n",
    "noble = datos.loc[:,'isNoble']\n",
    "numero_personas_cercanas_muertas = datos.loc[:,'numDeadRelations']\n",
    "popular = datos.loc[:,'isPopular']\n",
    "\n",
    "# Unión de la información de entrada\n",
    "entrada = no.array([\n",
    "    [genero],[aparicion_libro_1],[aparicion_libro_2],[aparicion_libro_3],[aparicion_libro_4],[aparicion_libro_5],\n",
    "    [casado],[noble],[numero_personas_cercanas_muertas],[popular]])\n",
    "\n",
    "# Recolección de la salida esperada de la red neuronal\n",
    "salida_esperada = np.array(datos.loc[:,'alive'])\n",
    "\n",
    "# Configuración de la red neuronal\n",
    "model = Sequential()\n",
    "model.add(Dense(units=240, activation='relu', input_dim=9))\n",
    "model.add(Dense(units=1, activation='sigmoid'))\n",
    "\n",
    "model.compile(loss='mean_squared_error', optimizer=keras.optimizers.Adam(lr = 0.01))\n",
    "\n",
    "model.fit(entrada, salida_esperada, epochs=500, verbose=1)\n",
    "\n",
    "model.evaluate(entrada, salida_esperada, verbose= 1)"
   ]
  },
  {
   "cell_type": "code",
   "execution_count": null,
   "metadata": {
    "collapsed": true
   },
   "outputs": [],
   "source": []
  }
 ],
 "metadata": {
  "kernelspec": {
   "display_name": "Python 3",
   "language": "python",
   "name": "python3"
  },
  "language_info": {
   "codemirror_mode": {
    "name": "ipython",
    "version": 3
   },
   "file_extension": ".py",
   "mimetype": "text/x-python",
   "name": "python",
   "nbconvert_exporter": "python",
   "pygments_lexer": "ipython3",
   "version": "3.6.3"
  }
 },
 "nbformat": 4,
 "nbformat_minor": 2
}
