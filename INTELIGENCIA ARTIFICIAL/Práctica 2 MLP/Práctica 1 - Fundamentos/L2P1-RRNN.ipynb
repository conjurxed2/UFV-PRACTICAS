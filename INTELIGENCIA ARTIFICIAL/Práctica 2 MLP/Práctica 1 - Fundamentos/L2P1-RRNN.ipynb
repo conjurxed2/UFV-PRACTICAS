{
 "cells": [
  {
   "cell_type": "markdown",
   "metadata": {},
   "source": [
    "# Laboratorio 2. Práctica 1 - Fundamentos de redes neuronales\n",
    "## Preparación de entorno\n",
    "### Gonzalo de las Heras\n",
    "### Jorge de la Fuente\n",
    "#### Importar librerías de código"
   ]
  },
  {
   "cell_type": "code",
   "execution_count": 3,
   "metadata": {},
   "outputs": [
    {
     "name": "stdout",
     "output_type": "stream",
     "text": [
      "Once deleted, variables cannot be recovered. Proceed (y/[n])? y\n"
     ]
    }
   ],
   "source": [
    "# Aquí se importan las librerias que se van a utiliar\n",
    "\n",
    "%reset\n",
    "\n",
    "import imageio\n",
    "import os\n",
    "import imageio\n",
    "import shutil\n",
    "import matplotlib.pyplot as plt\n",
    "import numpy as np\n",
    "import pandas as pd\n",
    "from matplotlib.lines import Line2D  \n",
    "from IPython.display import HTML\n",
    "\n",
    "%matplotlib inline"
   ]
  },
  {
   "attachments": {
    "red_neuronal.png": {
     "image/png": "[encoded data removed]"
    }
   },
   "cell_type": "markdown",
   "metadata": {},
   "source": [
    "### Diseño de la red neuronal a implementar\n",
    "![red_neuronal.png](attachment:red_neuronal.png)"
   ]
  },
  {
   "cell_type": "code",
   "execution_count": 5,
   "metadata": {
    "collapsed": true
   },
   "outputs": [],
   "source": [
    "# Función para calcular la salida de la red neuronal anterior.\n",
    "\"\"\"\n",
    "   Entradas: \n",
    "       Valores:\n",
    "       FuncionActivacion:\n",
    "   Salidas:  \n",
    "       Valores de salida de la red.\n",
    "\"\"\"\n",
    "def Calcular(Valores, FuncionActivacion):\n",
    "    \n",
    "    # Valores de la entrada\n",
    "    Entradas = np.array(Valores.loc[:, 'entrada'])\n",
    "    \n",
    "    # Pesos\n",
    "    Pesos_n1 = np.array(Valores.loc[:, 'pesos_n1'])\n",
    "    Pesos_n2 = np.array(Valores.loc[:, 'pesos_n2'])\n",
    "    Pesos_salida = np.array(Valores.loc[:, 'pesos_salida'])\n",
    "    \n",
    "    # Cálculo de valores\n",
    "    H1 = Get_Salida_Funcion(np.sum([Entradas[0] * Pesos_n1[0], Entradas[1] * Pesos_n1[1]]), FuncionActivacion)\n",
    "    H2 = Get_Salida_Funcion(np.sum([Entradas[0] * Pesos_n2[0], Entradas[1] * Pesos_n2[1]]), FuncionActivacion)\n",
    "    O1 = Get_Salida_Funcion(np.sum([H1 * Pesos_salida[0], H2 * Pesos_salida[1]]), FuncionActivacion)\n",
    "    \n",
    "    # Salida\n",
    "    print(\"Entradas: \" + str(Entradas) + \" , \" + str(FuncionActivacion) + \": \\n\")\n",
    "    print(\"H1: > \" + str(H1) + \"\\n\")\n",
    "    print(\"H2: > \" + str(H2) + \"\\n\")\n",
    "    print(\"O1: > \" + str(O1) + \"\\n\")\n",
    "    \n",
    "    return O1"
   ]
  },
  {
   "cell_type": "code",
   "execution_count": 6,
   "metadata": {
    "collapsed": true
   },
   "outputs": [],
   "source": [
    "# Función ReLu.\n",
    "def Funcion_ReLU (Entrada_x):\n",
    "    return np.maximum(0, Entrada_x)"
   ]
  },
  {
   "cell_type": "code",
   "execution_count": 7,
   "metadata": {
    "collapsed": true
   },
   "outputs": [],
   "source": [
    "# Función sigmoide.\n",
    "def Funcion_Sigmoide (Entrada_x):\n",
    "    return 1 / (1 + np.exp(-Entrada_x))"
   ]
  },
  {
   "cell_type": "code",
   "execution_count": 8,
   "metadata": {
    "collapsed": true
   },
   "outputs": [],
   "source": [
    "# Función signo.\n",
    "def Funcion_Signo (Entrada_x, Umbral):\n",
    "    if (Entrada_x > Umbral):\n",
    "        return 1\n",
    "    elif (round(Entrada_x, 1) == round(Umbral, 1)):\n",
    "        return 1\n",
    "    else:\n",
    "        return 0"
   ]
  },
  {
   "cell_type": "code",
   "execution_count": 9,
   "metadata": {
    "collapsed": true
   },
   "outputs": [],
   "source": [
    "# Función para elegir que función de activación emplear.\n",
    "def Get_Salida_Funcion (Entrada_x, Funcion):\n",
    "    if (Funcion == \"ReLU\"):\n",
    "        return Funcion_ReLU(Entrada_x)\n",
    "    elif (Funcion == \"Sigmoide\"): \n",
    "        return Funcion_Sigmoide(Entrada_x)"
   ]
  },
  {
   "cell_type": "code",
   "execution_count": 10,
   "metadata": {
    "collapsed": true
   },
   "outputs": [],
   "source": [
    "# Cálculo de error.\n",
    "def Calculo_Error(Salida_Esperada, Salida_Obtenida):\n",
    "    return Salida_Esperada - Salida_Obtenida"
   ]
  },
  {
   "cell_type": "code",
   "execution_count": 11,
   "metadata": {
    "collapsed": true
   },
   "outputs": [],
   "source": [
    "# Cálculo salida perceptrón de 2 entradas.\n",
    "def Calcular_Perceptron_2_Entradas(Entradas, Pesos, Umbral):\n",
    "    return Funcion_Signo(np.sum([Entradas[0] * Pesos[0], Entradas[1] * Pesos[1]]), Umbral)"
   ]
  },
  {
   "cell_type": "markdown",
   "metadata": {},
   "source": [
    "### Utilidades"
   ]
  },
  {
   "cell_type": "code",
   "execution_count": 12,
   "metadata": {
    "collapsed": true
   },
   "outputs": [],
   "source": [
    "# Función para pintar la distribución y la recta separatoria\n",
    "def pintar_OR(punto_A_x, punto_B_x, punto_A_y, punto_B_y, titulo, itr, mostrar = False):\n",
    "    \n",
    "    fig = plt.figure()\n",
    "    \n",
    "    # Establece ejes\n",
    "    ax = fig.add_subplot(111, aspect='equal')\n",
    "    \n",
    "    # Límites\n",
    "    ax.set_xlim((-0.5, 1.5))\n",
    "    ax.set_ylim((-0.5, 1.5))\n",
    "    \n",
    "    # Título\n",
    "    ax.set_title(titulo)\n",
    "\n",
    "    # Circulos\n",
    "    circle1 = plt.Circle((0, 0), 0.03, color='blue')\n",
    "    circle2 = plt.Circle((0, 1), 0.03, color='r')\n",
    "    circle3 = plt.Circle((1, 0), 0.03, color='r')\n",
    "    circle4 = plt.Circle((1, 1), 0.03, color='r')\n",
    "\n",
    "    ax.add_artist(circle1)\n",
    "    ax.add_artist(circle2)\n",
    "    ax.add_artist(circle3)\n",
    "    ax.add_artist(circle4)\n",
    "\n",
    "    # Recta\n",
    "    l = Line2D([punto_A_x,punto_B_x],[punto_A_y,punto_B_y])                                    \n",
    "    ax.add_line(l) \n",
    "    \n",
    "    # Mostrar la gráfica\n",
    "    if mostrar is True:\n",
    "        plt.show()\n",
    "    \n",
    "    fig.savefig('img/' + str(itr) + '.png', dpi=fig.dpi)\n",
    "    plt.close()"
   ]
  },
  {
   "cell_type": "code",
   "execution_count": 13,
   "metadata": {
    "collapsed": true
   },
   "outputs": [],
   "source": [
    "# Función crear un vídeo con la transformación de la matriz de pesos.\n",
    "def crear_video(numImagenes):\n",
    "    \n",
    "    imageio.plugins.ffmpeg.download()\n",
    "\n",
    "    images = []\n",
    "    \n",
    "    if os.path.exists('img/') :  \n",
    "        \n",
    "        # Recolección de las imágenes que componen el vídeo\n",
    "        for i in range(1, numImagenes):  \n",
    "            images.append(imageio.imread('img/' + str(i) + '.png'))\n",
    "        \n",
    "        writer = imageio.get_writer('Evolucion.mp4', fps=6)\n",
    "        \n",
    "        for im in images:\n",
    "            writer.append_data(im)\n",
    "        writer.close()\n",
    "                \n",
    "    else :\n",
    "        print(\"No existe el directorio /img/\")"
   ]
  },
  {
   "cell_type": "markdown",
   "metadata": {},
   "source": [
    "## Implementación 1. Función de activación f(S)."
   ]
  },
  {
   "cell_type": "code",
   "execution_count": 14,
   "metadata": {},
   "outputs": [
    {
     "name": "stdout",
     "output_type": "stream",
     "text": [
      "Entradas: [ 2 -1] , Sigmoide: \n",
      "\n",
      "H1: > 0.5\n",
      "\n",
      "H2: > 0.999088948806\n",
      "\n",
      "O1: > 0.119490184414\n",
      "\n"
     ]
    },
    {
     "data": {
      "text/plain": [
       "0.11949018441351315"
      ]
     },
     "execution_count": 14,
     "metadata": {},
     "output_type": "execute_result"
    }
   ],
   "source": [
    "# Valores de prueba\n",
    "valores = pd.read_csv('../Datos/red_neuronal1.csv', header=0)\n",
    "#valores = pd.read_csv('../Datos/red_neuronal2.csv', header=0)\n",
    "\n",
    "# Funciones de activación posibles (ReLU, Sigmoide)\n",
    "Calcular(valores, 'Sigmoide')"
   ]
  },
  {
   "cell_type": "markdown",
   "metadata": {
    "collapsed": true
   },
   "source": [
    "## Implementación 2. Función de error."
   ]
  },
  {
   "cell_type": "code",
   "execution_count": 15,
   "metadata": {},
   "outputs": [
    {
     "name": "stdout",
     "output_type": "stream",
     "text": [
      "Entradas: [3 5] , ReLU: \n",
      "\n",
      "H1: > 26\n",
      "\n",
      "H2: > 0\n",
      "\n",
      "O1: > 52\n",
      "\n",
      "Error: 18\n",
      "\n",
      "\n",
      "Entradas: [ 1 -1] , ReLU: \n",
      "\n",
      "H1: > 0\n",
      "\n",
      "H2: > 9\n",
      "\n",
      "O1: > 63\n",
      "\n",
      "Error: 7\n",
      "\n",
      "\n",
      "Entradas: [4 3] , Sigmoide: \n",
      "\n",
      "H1: > 0.641067406335\n",
      "\n",
      "H2: > 0.984171686033\n",
      "\n",
      "O1: > 0.7034382608\n",
      "\n",
      "Error: 0.2965617392\n",
      "\n",
      "\n",
      "Entradas: [-2  1] , Sigmoide: \n",
      "\n",
      "H1: > 0.681353733789\n",
      "\n",
      "H2: > 0.334033073248\n",
      "\n",
      "O1: > 0.661236221502\n",
      "\n",
      "Error: 0.338763778498\n"
     ]
    }
   ],
   "source": [
    "# Valores de prueba\n",
    "valores_ReLU_1 = pd.read_csv('../Datos/rn1_relu.csv', header=0)\n",
    "valores_ReLU_2 = pd.read_csv('../Datos/rn2_relu.csv', header=0)\n",
    "valores_Sigm_1 = pd.read_csv('../Datos/rn1_sigm.csv', header=0)\n",
    "valores_Sigm_2 = pd.read_csv('../Datos/rn2_sigm.csv', header=0)\n",
    "\n",
    "# Salidas esperadas\n",
    "salida_esperada_ReLU = 70\n",
    "salida_esperada_Sigm = 1\n",
    "\n",
    "# Funciones de activación posibles (ReLU, Sigmoide)\n",
    "print(\"Error: \" + str(Calculo_Error(salida_esperada_ReLU, Calcular(valores_ReLU_1, 'ReLU'))) + \"\\n\\n\")\n",
    "print(\"Error: \" + str(Calculo_Error(salida_esperada_ReLU, Calcular(valores_ReLU_2, 'ReLU'))) + \"\\n\\n\")\n",
    "print(\"Error: \" + str(Calculo_Error(salida_esperada_Sigm, Calcular(valores_Sigm_1, 'Sigmoide'))) + \"\\n\\n\")\n",
    "print(\"Error: \" + str(Calculo_Error(salida_esperada_Sigm, Calcular(valores_Sigm_2, 'Sigmoide'))))"
   ]
  },
  {
   "cell_type": "markdown",
   "metadata": {},
   "source": [
    "## Implementación 3. Aprendizaje."
   ]
  },
  {
   "cell_type": "markdown",
   "metadata": {},
   "source": [
    "### Función OR."
   ]
  },
  {
   "cell_type": "code",
   "execution_count": 54,
   "metadata": {
    "scrolled": false
   },
   "outputs": [
    {
     "data": {
      "image/png": "[encoded data removed]",
      "text/plain": [
       "<matplotlib.figure.Figure at 0x237f19016d8>"
      ]
     },
     "metadata": {},
     "output_type": "display_data"
    },
    {
     "name": "stdout",
     "output_type": "stream",
     "text": [
      "Ecuación de la recta: Y = -( 0.2 / 0.8 ) * X + ( 0.2 / 0.8 )\n",
      "Ecuación de la recta: Y = -( 0.25 ) * X + ( 0.25 )\n"
     ]
    },
    {
     "data": {
      "text/html": [
       "\n",
       "    <video width=\"400\" height=\"400\" controls>\n",
       "      <source src=\"Evolucion.mp4\" type=\"video/mp4\">\n",
       "    </video>\n"
      ],
      "text/plain": [
       "<IPython.core.display.HTML object>"
      ]
     },
     "execution_count": 54,
     "metadata": {},
     "output_type": "execute_result"
    }
   ],
   "source": [
    "# Dataframe de salida\n",
    "columnas = [\n",
    "            'Iteracion','Entrada_1', 'Entrada_2', 'Peso_Inicial_1', 'Peso_Inicial_2', \n",
    "            'Salida_Obtenida', 'Salida_deseada', 'Error', 'Peso_Final_1', 'Peso_Final_2'\n",
    "        ]\n",
    "\n",
    "# Array de datos\n",
    "datos = np.array([])\n",
    "\n",
    "# Array de datos para cada iteración\n",
    "datos_temp = np.array([])\n",
    "\n",
    "# Pesos aleatorios\n",
    "pesos = np.array([round(np.random.uniform(-1, 1), 1), round(np.random.uniform(-1, 2), 1)])\n",
    "\n",
    "# Entradas a la red\n",
    "entradas_OR = np.array([[0,0],[0,1],[1,0],[1,1]])\n",
    "\n",
    "# Salidas esperadas\n",
    "resultados_OR = np.array([0, 1, 1, 1])\n",
    "\n",
    "# Coeficiente de aprendizaje\n",
    "learning_rate = 0.1\n",
    "\n",
    "# Umbral para la función escalón\n",
    "umbral = 0.2\n",
    "\n",
    "# Iteración\n",
    "epoch = 1\n",
    "\n",
    "# Variable que indica se si ha terminado el entrenamiento\n",
    "entrenado = False\n",
    "\n",
    "# Número de error detectados por iteración\n",
    "num_errores = 0\n",
    "\n",
    "# Número de gráficas. Comienza por la 1\n",
    "img = 1\n",
    "\n",
    "# Cálculo del hiperplano para los pesos al comienzo del entrenamiento, en este caso una recta\n",
    "punto_A = [2 , -(pesos[0]/pesos[1]) *   2 + (umbral/pesos[1])]\n",
    "punto_B = [-1, -(pesos[0]/pesos[1]) *  -1 + (umbral/pesos[1])]\n",
    "pintar_OR(punto_A[0], punto_B[0], punto_A[1], punto_B[1], \"Inicio\", img)\n",
    "img += 1\n",
    "\n",
    "# Hasta que no haya terminado el entrenamiento, se itera\n",
    "while (entrenado == False):\n",
    "  \n",
    "    num_errores = 0\n",
    "    \n",
    "    # Recorremos las 4 entradas\n",
    "    for i in range(0, entradas_OR.shape[0]):\n",
    "        \n",
    "        datos_temp = np.array([])\n",
    "        \n",
    "        # Cálculo de la salida del perceptrón\n",
    "        resultado_obtenido = Calcular_Perceptron_2_Entradas(entradas_OR[i], pesos, umbral)\n",
    "        \n",
    "        # Cálculo del error\n",
    "        error_obtenido = Calculo_Error(resultados_OR[i], resultado_obtenido)\n",
    "\n",
    "        # CSV\n",
    "        datos_temp = np.append(datos_temp, epoch)\n",
    "        datos_temp = np.append(datos_temp, entradas_OR[i][0])\n",
    "        datos_temp = np.append(datos_temp, entradas_OR[i][1])\n",
    "        datos_temp = np.append(datos_temp, round(pesos[0], 1))\n",
    "        datos_temp = np.append(datos_temp, round(pesos[1], 1))\n",
    "        datos_temp = np.append(datos_temp, resultado_obtenido)\n",
    "        datos_temp = np.append(datos_temp, resultados_OR[i])\n",
    "        datos_temp = np.append(datos_temp, error_obtenido)\n",
    "        \n",
    "        # Cuando el error es distinto de 0, tenemos que recalcular pesos\n",
    "        if error_obtenido != 0:\n",
    "            \n",
    "            # Recalculamos pesos\n",
    "            pesos[0] = pesos[0] + learning_rate * error_obtenido * entradas_OR[i][0]\n",
    "            pesos[1] = pesos[1] + learning_rate * error_obtenido * entradas_OR[i][1]\n",
    "            \n",
    "            # Aumentamos en 1 los errores encontrados en la iteración\n",
    "            num_errores += 1\n",
    "            \n",
    "            # Cálculo del hiperplano para los pesos al comienzo del entrenamiento, en este caso una recta (para el vídeo)\n",
    "            punto_A = [2 , -(pesos[0]/pesos[1]) *  2 + (umbral/pesos[1])]\n",
    "            punto_B = [-1, -(pesos[0]/pesos[1]) *  -1 + (umbral/pesos[1])]\n",
    "            pintar_OR(punto_A[0], punto_B[0], punto_A[1], punto_B[1], \"Epoch: \" + str(epoch) + \", entrada: \" + str(entradas_OR[i]) +\n",
    "                      \", salida esperada: \" + str(resultados_OR[i]) + \", salida obtenida: \" + str(resultado_obtenido) +\n",
    "                      \", error: \" + str(error_obtenido), img)\n",
    "            img += 1\n",
    "        \n",
    "        # CSV\n",
    "        datos_temp = np.append(datos_temp, round(pesos[0], 1))\n",
    "        datos_temp = np.append(datos_temp, round(pesos[1], 1))\n",
    "        \n",
    "        datos = np.append(datos, datos_temp)\n",
    "    \n",
    "    # Cuando para las 4 entrdas, el error es 0 en todas ellas, se termina el entrenamiento\n",
    "    if num_errores == 0:\n",
    "        entrenado = True\n",
    "    \n",
    "    # Aumento del número de iteración\n",
    "    epoch += 1\n",
    "    \n",
    "# Cálculo del hiperplano para los pesos al final del entrenamiento, en este caso una recta    \n",
    "punto_A = [2 , -(pesos[0]/pesos[1]) *  2 + (umbral/pesos[1])]\n",
    "punto_B = [-1 , -(pesos[0]/pesos[1]) *  -1 + (umbral/pesos[1])]\n",
    "pintar_OR(punto_A[0], punto_B[0], punto_A[1], punto_B[1], \"Final\", img, True)\n",
    "img += 1\n",
    "    \n",
    "# Recolocación de los datos para una mejor visualización de los mismo\n",
    "datos = datos.reshape(int(datos.shape[0] / 10), 10)\n",
    "\n",
    "# Guardado de los datos de entrenamiento en un csv\n",
    "csv = pd.DataFrame(data=datos[0:,0:], index=datos[0:,0], columns=columnas)\n",
    "csv.to_csv('L2P1_apartado3_OR.csv')\n",
    "\n",
    "# Ecuación de la recta separatoria\n",
    "print(\"Ecuación de la recta: Y = -(\", pesos[0] ,\"/\", pesos[1] ,\") * X + (\", umbral ,\"/\", pesos[1] ,\")\")\n",
    "print(\"Ecuación de la recta: Y = -(\", pesos[0] / pesos[1] ,\") * X + (\", umbral  / pesos[1] ,\")\")\n",
    "\n",
    "# Creación del vídeo\n",
    "crear_video(img)\n",
    "\n",
    "# Impresión del vídeo\n",
    "HTML(\"\"\"\n",
    "    <video width=\"400\" height=\"400\" controls>\n",
    "      <source src=\"Evolucion.mp4\" type=\"video/mp4\">\n",
    "    </video>\n",
    "\"\"\")"
   ]
  },
  {
   "cell_type": "code",
   "execution_count": null,
   "metadata": {
    "collapsed": true
   },
   "outputs": [],
   "source": []
  }
 ],
 "metadata": {
  "kernelspec": {
   "display_name": "Python 3",
   "language": "python",
   "name": "python3"
  },
  "language_info": {
   "codemirror_mode": {
    "name": "ipython",
    "version": 3
   },
   "file_extension": ".py",
   "mimetype": "text/x-python",
   "name": "python",
   "nbconvert_exporter": "python",
   "pygments_lexer": "ipython3",
   "version": "3.6.3"
  }
 },
 "nbformat": 4,
 "nbformat_minor": 2
}
