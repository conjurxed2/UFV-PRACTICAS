{
 "cells": [
  {
   "cell_type": "markdown",
   "metadata": {},
   "source": [
    "# Laboratorio 2. Práctica 2 - MLP con Keras\n",
    "## Preparación de entorno\n",
    "### Gonzalo de las Heras\n",
    "### Jorge de la Fuente\n",
    "#### Importar librerías de código"
   ]
  },
  {
   "cell_type": "code",
   "execution_count": 1,
   "metadata": {},
   "outputs": [
    {
     "name": "stdout",
     "output_type": "stream",
     "text": [
      "Once deleted, variables cannot be recovered. Proceed (y/[n])? y\n"
     ]
    },
    {
     "name": "stderr",
     "output_type": "stream",
     "text": [
      "Using TensorFlow backend.\n"
     ]
    }
   ],
   "source": [
    "# Aquí se importan las librerias que se van a utiliar\n",
    "\n",
    "%reset\n",
    "\n",
    "import numpy as np\n",
    "import pandas as pd\n",
    "from keras.models import Sequential\n",
    "from keras.layers import Dense\n",
    "from keras.utils import plot_model\n",
    "import keras.optimizers\n",
    "import math\n",
    "import matplotlib.pyplot as plt\n",
    "\n",
    "%matplotlib inline"
   ]
  },
  {
   "cell_type": "markdown",
   "metadata": {},
   "source": [
    "### Implementación 1. Resolución XOR. Optimizador Adam."
   ]
  },
  {
   "cell_type": "code",
   "execution_count": 8,
   "metadata": {
    "scrolled": false
   },
   "outputs": [
    {
     "name": "stdout",
     "output_type": "stream",
     "text": [
      "------------\n",
      "Resultados\n",
      "------------\n",
      "\n",
      "[0,0] => ( 0 ), valor obtenido:  0.000608481\n",
      "[0,1] => ( 1 ), valor obtenido:  0.997763\n",
      "[1,0] => ( 1 ), valor obtenido:  0.999616\n",
      "[1,1] => ( 0 ), valor obtenido:  0.00200143\n",
      "\n",
      "------------\n",
      "Gráfica\n",
      "------------\n"
     ]
    },
    {
     "data": {
      "image/png": "[encoded data removed]",
      "text/plain": [
       "<matplotlib.figure.Figure at 0x2076e8c4128>"
      ]
     },
     "metadata": {},
     "output_type": "display_data"
    },
    {
     "name": "stdout",
     "output_type": "stream",
     "text": [
      "4/4 [==============================] - 0s 21ms/step\n",
      "\n",
      "Score: 0.0000024.\n",
      "\n"
     ]
    }
   ],
   "source": [
    "# Entradas XOR\n",
    "entradas_XOR = np.array([[0,0],[0,1],[1,0],[1,1]])\n",
    "\n",
    "# Salida esperada XOR\n",
    "resultados_XOR = np.array([[0],[1],[1],[0]])\n",
    "\n",
    "# Aquitectura de la red neuronal\n",
    "# Totalmente conectada\n",
    "model = Sequential()\n",
    "\n",
    "# 2 neuronas en la capa de entrada, X neuronas en la capa oculta con función de activación ReLU\n",
    "model.add(Dense(units=15, activation='relu', input_dim=2))\n",
    "\n",
    "# 2 neuronas en la capa de salida con función de acticación sigmoide (la salida debe ser entre 0 y 1)\n",
    "model.add(Dense(units=1, activation='sigmoid'))\n",
    "\n",
    "# Función de error \"Mean Squared Error\", optimizador \"Adam\", coeficiente de aprendizaje \"0.1\"\n",
    "model.compile(loss='mean_squared_error', optimizer=keras.optimizers.Adam(lr = 0.1))\n",
    "\n",
    "# Entrenamiento con 60 iteraciones\n",
    "datos_entrenamiento = model.fit(entradas_XOR, resultados_XOR, epochs=60, verbose=0)\n",
    "\n",
    "# Predicción de XOR\n",
    "predicciones = model.predict(entradas_XOR)\n",
    "\n",
    "# Impresión de los resultados\n",
    "print(\"------------\")\n",
    "print(\"Resultados\")\n",
    "print(\"------------\\n\")\n",
    "print(\"[0,0] => (\" , int(round(predicciones[0][0], 0)) , \"), valor obtenido: \" , predicciones[0][0])\n",
    "print(\"[0,1] => (\" , int(round(predicciones[1][0], 0)) , \"), valor obtenido: \" , predicciones[1][0])\n",
    "print(\"[1,0] => (\" , int(round(predicciones[2][0], 0)) , \"), valor obtenido: \" , predicciones[2][0])\n",
    "print(\"[1,1] => (\" , int(round(predicciones[3][0], 0)) , \"), valor obtenido: \" , predicciones[3][0])\n",
    "\n",
    "# Gráfica del parámetro loss\n",
    "plt.plot(datos_entrenamiento.history['loss'], label='loss')\n",
    "plt.legend(loc='upper left')\n",
    "print(\"\\n------------\")\n",
    "print(\"Gráfica\")\n",
    "print(\"------------\")\n",
    "plt.show()\n",
    "\n",
    "# Cálculo del score de la red\n",
    "score = model.evaluate(entradas_XOR, resultados_XOR)\n",
    "\n",
    "# Impresión del error\n",
    "print(\"\\nScore: %.7f.\" % (score) + \"\\n\")"
   ]
  },
  {
   "cell_type": "markdown",
   "metadata": {},
   "source": [
    "### Modelo alternativo. Optimizador SGD (Stochastic Gradient Descent)."
   ]
  },
  {
   "cell_type": "code",
   "execution_count": 14,
   "metadata": {},
   "outputs": [
    {
     "name": "stdout",
     "output_type": "stream",
     "text": [
      "------------\n",
      "Resultados\n",
      "------------\n",
      "\n",
      "[0,0] => ( 0 ), valor obtenido:  0.0705402\n",
      "[0,1] => ( 1 ), valor obtenido:  0.953185\n",
      "[1,0] => ( 1 ), valor obtenido:  0.954757\n",
      "[1,1] => ( 0 ), valor obtenido:  0.0413044\n",
      "\n",
      "------------\n",
      "Gráfica\n",
      "------------\n"
     ]
    },
    {
     "data": {
      "image/png": "[encoded data removed]",
      "text/plain": [
       "<matplotlib.figure.Figure at 0x20771776c88>"
      ]
     },
     "metadata": {},
     "output_type": "display_data"
    },
    {
     "name": "stdout",
     "output_type": "stream",
     "text": [
      "4/4 [==============================] - 0s 29ms/step\n",
      "\n",
      "Score: 0.0027301.\n",
      "\n"
     ]
    }
   ],
   "source": [
    "# Entradas XOR\n",
    "entradas_XOR = np.array([[0,0],[0,1],[1,0],[1,1]])\n",
    "\n",
    "# Salida esperada XOR\n",
    "resultados_XOR = np.array([[0],[1],[1],[0]])\n",
    "\n",
    "# Aquitectura de la red neuronal\n",
    "# Totalmente conectada\n",
    "model = Sequential()\n",
    "\n",
    "# 2 neuronas en la capa de entrada, X neuronas en la capa oculta con función de activación ReLU\n",
    "model.add(Dense(units=35, activation='relu', input_dim=2))\n",
    "\n",
    "# 2 neuronas en la capa de salida con función de acticación sigmoide (la salida debe ser entre 0 y 1)\n",
    "model.add(Dense(units=1, activation='sigmoid'))\n",
    "\n",
    "# Función de error \"Mean Squared Error\", optimizador \"SGD\", coeficiente de aprendizaje \"0.01\", decay \"1e-6\", momento \"0.9\"\n",
    "model.compile(loss='mean_squared_error', optimizer=keras.optimizers.SGD(lr=0.01, decay=1e-6, momentum=0.9))\n",
    "\n",
    "# Entrenamiento con 2000 iteraciones\n",
    "datos_entrenamiento = model.fit(entradas_XOR, resultados_XOR, epochs=2000, verbose=0)\n",
    "\n",
    "# Predicción de XOR\n",
    "predicciones = model.predict(entradas_XOR)\n",
    "\n",
    "# Impresión de los resultados\n",
    "print(\"------------\")\n",
    "print(\"Resultados\")\n",
    "print(\"------------\\n\")\n",
    "print(\"[0,0] => (\" , int(round(predicciones[0][0], 0)) , \"), valor obtenido: \" , predicciones[0][0])\n",
    "print(\"[0,1] => (\" , int(round(predicciones[1][0], 0)) , \"), valor obtenido: \" , predicciones[1][0])\n",
    "print(\"[1,0] => (\" , int(round(predicciones[2][0], 0)) , \"), valor obtenido: \" , predicciones[2][0])\n",
    "print(\"[1,1] => (\" , int(round(predicciones[3][0], 0)) , \"), valor obtenido: \" , predicciones[3][0])\n",
    "\n",
    "# Gráfica de evolución del parámetro loss\n",
    "plt.plot(datos_entrenamiento.history['loss'], label='loss')\n",
    "plt.legend(loc='upper left')\n",
    "print(\"\\n------------\")\n",
    "print(\"Gráfica\")\n",
    "print(\"------------\")\n",
    "plt.show()\n",
    "\n",
    "# Cálculo del score de la red\n",
    "score = model.evaluate(entradas_XOR, resultados_XOR)\n",
    "\n",
    "# Impresión del score\n",
    "print(\"\\nScore: %.7f.\" % (score) + \"\\n\")"
   ]
  },
  {
   "cell_type": "markdown",
   "metadata": {},
   "source": [
    "### Implementación 2. Entrenamiento con varios coeficientes de aprendizaje (η)."
   ]
  },
  {
   "cell_type": "code",
   "execution_count": 4,
   "metadata": {
    "scrolled": false
   },
   "outputs": [
    {
     "name": "stdout",
     "output_type": "stream",
     "text": [
      "\n",
      "Score: 347.6674661, coeficiente: 1e-07\n",
      "\n",
      "\n",
      "Score: 166.1321063, coeficiente: 0.01\n",
      "\n",
      "\n",
      "Score: 677.1621030, coeficiente: 0.1\n",
      "\n",
      "\n",
      "Score: 677.1621030, coeficiente: 1.0\n",
      "\n",
      "\n",
      "------------\n",
      "Gráfica\n",
      "------------\n"
     ]
    },
    {
     "data": {
      "image/png": "[encoded data removed]",
      "text/plain": [
       "<matplotlib.figure.Figure at 0x20765cd5630>"
      ]
     },
     "metadata": {},
     "output_type": "display_data"
    }
   ],
   "source": [
    "# Coeficientes de aprendizaje\n",
    "coeficientes = np.array([0.0000001, 0.01, 0.1, 1])\n",
    "\n",
    "# Scores\n",
    "scores = np.array([0, 0, 0, 0])\n",
    "\n",
    "# Obtención de los datos de entrada\n",
    "entrada = np.array(pd.read_csv('../Datos/p2_entrenamiento.csv', header=None))\n",
    "\n",
    "# Obtención de la salida deseada\n",
    "salida_esperada = np.array(pd.read_csv('../Datos/p2_objetivos.csv', header=None))\n",
    "\n",
    "for i in range(0, 4):\n",
    "\n",
    "    # Aquitectura de la red neuronal\n",
    "    # Totalmente conectada\n",
    "    model = Sequential()\n",
    "\n",
    "    # 240 neuronas en la capa de entrada, 80 neuronas en la capa oculta (según el csv aportado) con función de activación ReLU\n",
    "    model.add(Dense(units=80, activation='linear', input_dim=9))\n",
    "\n",
    "    # 1 neurona en la capa de salida con función de acticación relu (la salida debe ser entre 0 e ∞)\n",
    "    model.add(Dense(units=1, activation='relu'))\n",
    "\n",
    "    # Función de error \"Mean Squared Error\", optimizador \"Adam\", coeficiente de aprendizaje según interación, el resto de \n",
    "    # hiperparámetros por defecto\n",
    "    model.compile(loss='mean_squared_error', optimizer=keras.optimizers.Adam(lr = coeficientes[i]))\n",
    "\n",
    "    # Entrenamiento con 200 iteraciones, datos divididos en: 80% entranamiento, 20% validación \n",
    "    model.fit(entrada, salida_esperada, epochs=200, verbose=0, validation_split=0.2)\n",
    "\n",
    "    # Cálculo del porcentaje de error\n",
    "    score = model.evaluate(entrada, salida_esperada, verbose= 0)\n",
    "\n",
    "    # Impresión del score\n",
    "    print(\"\\nScore: %.7f\" % (score) + \", coeficiente: \" + str(coeficientes[i]) + \"\\n\")\n",
    "    \n",
    "    # Guardado del score\n",
    "    scores[i] = score\n",
    "\n",
    "# Gráfica de evolución del parámetro loss\n",
    "plt.plot(scores, label='scores')\n",
    "plt.legend(loc='upper left')\n",
    "print(\"\\n------------\")\n",
    "print(\"Gráfica\")\n",
    "print(\"------------\")\n",
    "plt.show()"
   ]
  },
  {
   "cell_type": "markdown",
   "metadata": {
    "collapsed": true
   },
   "source": [
    "### Modelo alternativo. Optimizador SGD (Stochastic Gradient Descent)."
   ]
  },
  {
   "cell_type": "code",
   "execution_count": 5,
   "metadata": {},
   "outputs": [
    {
     "name": "stdout",
     "output_type": "stream",
     "text": [
      "\n",
      "Score: 228.8709050, coeficiente: 1e-07\n",
      "\n",
      "\n",
      "Score: nan, coeficiente: 0.01\n",
      "\n",
      "\n",
      "Score: nan, coeficiente: 0.1\n",
      "\n",
      "\n",
      "Score: nan, coeficiente: 1.0\n",
      "\n",
      "\n",
      "------------\n",
      "Gráfica\n",
      "------------\n"
     ]
    },
    {
     "data": {
      "image/png": "[encoded data removed]",
      "text/plain": [
       "<matplotlib.figure.Figure at 0x2076665f6d8>"
      ]
     },
     "metadata": {},
     "output_type": "display_data"
    }
   ],
   "source": [
    "# Coeficientes de aprendizaje\n",
    "coeficientes = np.array([0.0000001, 0.01, 0.1, 1])\n",
    "\n",
    "# Scores\n",
    "scores = np.array([0, 0, 0, 0])\n",
    "\n",
    "# Obtención de los datos de entrada\n",
    "entrada = np.array(pd.read_csv('../Datos/p2_entrenamiento.csv', header=None))\n",
    "\n",
    "# Obtención de la salida deseada\n",
    "salida_esperada = np.array(pd.read_csv('../Datos/p2_objetivos.csv', header=None))\n",
    "\n",
    "for i in range(0, 4):\n",
    "\n",
    "    # Aquitectura de la red neuronal\n",
    "    # Totalmente conectada\n",
    "    model = Sequential()\n",
    "\n",
    "    # 240 neuronas en la capa de entrada, 9 neuronas en la capa oculta (según el csv aportado) con función de activación ReLU\n",
    "    model.add(Dense(units=80, activation='linear', input_dim=9))\n",
    "\n",
    "    # 1 neurona en la capa de salida con función de acticación relu (la salida debe ser entre 0 e ∞)\n",
    "    model.add(Dense(units=1, activation='relu'))\n",
    "\n",
    "    # Función de error \"Mean Squared Error\", optimizador \"SGD\", coeficiente de aprendizaje según iteración, el resto de \n",
    "    # hiperparámetros por defecto\n",
    "    model.compile(loss='mean_squared_error', optimizer=keras.optimizers.SGD(lr=coeficientes[i]))\n",
    "\n",
    "    # Entrenamiento con 200 iteraciones, datos divididos en: 80% entranamiento, 20% validación \n",
    "    model.fit(entrada, salida_esperada, epochs=200, verbose=0, validation_split=0.2)\n",
    "\n",
    "    # Cálculo del score\n",
    "    score = model.evaluate(entrada, salida_esperada, verbose= 0)\n",
    "\n",
    "    # Impresión del score\n",
    "    print(\"\\nScore: %.7f\" % (score) + \", coeficiente: \" + str(coeficientes[i]) + \"\\n\")    \n",
    "\n",
    "    # Guardado del score\n",
    "    if float('-inf') < score < float('inf'):        \n",
    "        scores[i] = score\n",
    "    else:\n",
    "        scores[i] = -1\n",
    "\n",
    "# Gráfica de evolución del parámetro loss\n",
    "plt.plot(scores, label='scores')\n",
    "plt.legend(loc='upper left')\n",
    "print(\"\\n------------\")\n",
    "print(\"Gráfica\")\n",
    "print(\"------------\")\n",
    "plt.show()"
   ]
  }
 ],
 "metadata": {
  "kernelspec": {
   "display_name": "Python 3",
   "language": "python",
   "name": "python3"
  },
  "language_info": {
   "codemirror_mode": {
    "name": "ipython",
    "version": 3
   },
   "file_extension": ".py",
   "mimetype": "text/x-python",
   "name": "python",
   "nbconvert_exporter": "python",
   "pygments_lexer": "ipython3",
   "version": "3.6.3"
  }
 },
 "nbformat": 4,
 "nbformat_minor": 2
}
