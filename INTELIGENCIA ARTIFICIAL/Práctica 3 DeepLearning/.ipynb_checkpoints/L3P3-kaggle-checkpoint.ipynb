{
 "cells": [
  {
   "cell_type": "markdown",
   "metadata": {},
   "source": [
    "# Laboratorio 3. Práctica 2 - DNN para clasificar imágenes\n",
    "## Preparación de entorno\n",
    "### Gonzalo de las Heras\n",
    "### Jorge de la Fuente\n",
    "#### Importar librerías de código"
   ]
  },
  {
   "cell_type": "code",
   "execution_count": 71,
   "metadata": {},
   "outputs": [],
   "source": [
    "from keras.datasets import cifar10\n",
    "from keras.models import Sequential\n",
    "from keras.layers import Dense\n",
    "from keras.layers import Dropout\n",
    "from keras.layers import Flatten\n",
    "from keras.callbacks import EarlyStopping\n",
    "from keras.constraints import maxnorm\n",
    "from keras.optimizers import Adam\n",
    "from keras.layers.convolutional import Conv2D\n",
    "from keras.layers.convolutional import MaxPooling2D\n",
    "from keras.utils import np_utils\n",
    "from keras import backend as K\n",
    "from matplotlib import pyplot as plt\n",
    "from keras.models import load_model\n",
    "\n",
    "import math\n",
    "import numpy\n",
    "import matplotlib as mp\n",
    "import pandas as pd"
   ]
  },
  {
   "cell_type": "code",
   "execution_count": 74,
   "metadata": {},
   "outputs": [],
   "source": [
    "def ImprimirProbabilidadSalida(Datos):\n",
    "    clases = numpy.array([\"Avión\", \"Coche\", \"Pájaro\", \"Gato\", \"Ciervo\",\"Perro\",\"Rana\",\"Caballo\", \"Barco\", \"Camión\"])\n",
    "   \n",
    "    for i in range(0, len(clases)):\n",
    "        temp = Datos[i] * 100\n",
    "        print(clases[i] + \": \" + str(round(temp,1)) + \"%\")"
   ]
  },
  {
   "cell_type": "code",
   "execution_count": 37,
   "metadata": {},
   "outputs": [],
   "source": [
    "def CargarDatosClasificacion(Dir):\n",
    "    datos = None\n",
    "    matriz = None\n",
    "    with open(Dir, 'r') as fichero:\n",
    "        datos = fichero.read().replace('\\n', '').replace('[', '').replace(']', '').replace(',,', ',')\n",
    "    matriz = numpy.fromstring(datos, dtype=float, sep=',')    \n",
    "    matriz = matriz.reshape(1, 32, 32, 3)\n",
    "    matriz = matriz / 255\n",
    "    return matriz"
   ]
  },
  {
   "cell_type": "code",
   "execution_count": 72,
   "metadata": {},
   "outputs": [],
   "source": [
    "def PredecirDatosExternos(NumFicheros):\n",
    "    for i in range (1, NumFicheros):\n",
    "        matriz = CargarDatosClasificacion('images/image' + str(i) + '.txt')\n",
    "        prediccion = model.predict(matriz)\n",
    "        plt.figure(figsize=(1,1))\n",
    "        plt.imshow(matriz[0])\n",
    "        plt.show()\n",
    "        ImprimirProbabilidadSalida(prediccion.astype(float)[0])"
   ]
  },
  {
   "cell_type": "code",
   "execution_count": 39,
   "metadata": {},
   "outputs": [],
   "source": [
    "def CrearModelo():\n",
    "    \n",
    "    model = Sequential()\n",
    "    \n",
    "    model.add(Conv2D(32, kernel_size=(3, 3), activation='relu', input_shape=(32, 32, 3)))\n",
    "    \n",
    "    model.add(Conv2D(64, kernel_size=(3, 3), activation='relu'))\n",
    "    model.add(MaxPooling2D(pool_size=(2, 2)))  \n",
    "    model.add(Dropout(0.2))\n",
    "    \n",
    "    model.add(Conv2D(128, kernel_size=(3, 3), activation='relu'))\n",
    "    model.add(MaxPooling2D(pool_size=(2, 2)))\n",
    "    model.add(Dropout(0.2)) \n",
    "    \n",
    "    model.add(Conv2D(128, kernel_size=(3, 3), activation='relu'))\n",
    "    model.add(MaxPooling2D(pool_size=(2, 2)))\n",
    "    model.add(Dropout(0.2))\n",
    "    \n",
    "    model.add(Flatten())\n",
    "    model.add(Dense(1024, activation='relu'))\n",
    "    model.add(Dropout(0.25))\n",
    "    model.add(Dense(512, activation='relu'))\n",
    "    model.add(Dropout(0.25))\n",
    "    model.add(Dense(10, activation='softmax'))\n",
    "    \n",
    "    model.compile(loss='categorical_crossentropy', optimizer=Adam(lr=0.001), metrics=['accuracy'])\n",
    "    \n",
    "    return model"
   ]
  },
  {
   "cell_type": "code",
   "execution_count": 40,
   "metadata": {},
   "outputs": [],
   "source": [
    "def EntrenarModelo(Model):\n",
    "    \n",
    "    print(model.summary())\n",
    "\n",
    "    # Cuando sea el valor de loss muy parecidos en 2 iteraciones consecutivas, el entranmiento se para\n",
    "    earlyStopping = EarlyStopping(monitor='val_loss', patience=0, verbose=0, mode='auto')\n",
    "\n",
    "    # Entrenamiento del modelo\n",
    "    model.fit(x_train, y_train, validation_data=(x_test, y_test), epochs=epochs, batch_size=32, callbacks=[earlyStopping])\n",
    "\n",
    "    # Evaluación del modelo\n",
    "    scores = model.evaluate(x_test, y_test, verbose=0)\n",
    "    \n",
    "    print(\"Accuracy: %.2f%%\" % (scores[1]*100))\n",
    "    \n",
    "    # Guardado en disco del modelo\n",
    "    model.save('red_conv_cifar10.h5')"
   ]
  },
  {
   "cell_type": "markdown",
   "metadata": {},
   "source": [
    "#### Carga de datos"
   ]
  },
  {
   "cell_type": "code",
   "execution_count": 41,
   "metadata": {},
   "outputs": [
    {
     "name": "stdout",
     "output_type": "stream",
     "text": [
      "=====================================\n",
      "\n",
      "El shape del conjunto de x_train es:  (50000, 32, 32, 3)\n",
      "El shape del conjunto de y_train es:  (50000, 1)\n",
      "Ejemplo de datos de salida categorizados: [0. 0. 0. 0. 0. 0. 1. 0. 0. 0.] \n",
      "\n",
      "=====================================\n"
     ]
    }
   ],
   "source": [
    "# Carga de datos \n",
    "(x_train, y_train), (x_test, y_test) = cifar10.load_data()\n",
    "\n",
    "print(\"=====================================\\n\")\n",
    "print(\"El shape del conjunto de x_train es: \" , x_train.shape)\n",
    "print(\"El shape del conjunto de y_train es: \" , y_train.shape)\n",
    "\n",
    "# Normalización de los colores\n",
    "x_train = x_train.astype('float32')\n",
    "x_test = x_test.astype('float32')\n",
    "x_train = x_train / 255.0\n",
    "x_test = x_test / 255.0\n",
    "\n",
    "# Los datos de salida están en un número decial, hay que categorizar los datos\n",
    "y_train = np_utils.to_categorical(y_train)\n",
    "y_test = np_utils.to_categorical(y_test)\n",
    "\n",
    "print(\"Ejemplo de datos de salida categorizados:\" , y_train[0] , \"\\n\")\n",
    "\n",
    "# Calculamos el número de clases\n",
    "num_clases = y_test.shape[1]\n",
    "\n",
    "print(\"=====================================\")"
   ]
  },
  {
   "cell_type": "markdown",
   "metadata": {},
   "source": [
    "#### Parámetros"
   ]
  },
  {
   "cell_type": "code",
   "execution_count": 46,
   "metadata": {},
   "outputs": [],
   "source": [
    "epochs = 25\n",
    "cargar_modelo_desde_fichero = True\n",
    "model = None"
   ]
  },
  {
   "cell_type": "code",
   "execution_count": 47,
   "metadata": {
    "scrolled": false
   },
   "outputs": [],
   "source": [
    "if cargar_modelo_desde_fichero is False:\n",
    "    model = CrearModelo()\n",
    "    model = EntrenarModelo(model)\n",
    "else:\n",
    "    model = load_model('red_conv_cifar10.h5')"
   ]
  },
  {
   "cell_type": "markdown",
   "metadata": {
    "scrolled": false
   },
   "source": [
    "PredecirDatosExternos(8)"
   ]
  }
 ],
 "metadata": {
  "kernelspec": {
   "display_name": "Python 3",
   "language": "python",
   "name": "python3"
  },
  "language_info": {
   "codemirror_mode": {
    "name": "ipython",
    "version": 3
   },
   "file_extension": ".py",
   "mimetype": "text/x-python",
   "name": "python",
   "nbconvert_exporter": "python",
   "pygments_lexer": "ipython3",
   "version": "3.6.3"
  }
 },
 "nbformat": 4,
 "nbformat_minor": 2
}
