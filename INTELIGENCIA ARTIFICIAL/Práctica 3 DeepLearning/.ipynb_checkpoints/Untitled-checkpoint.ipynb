{
 "cells": [
  {
   "cell_type": "markdown",
   "metadata": {},
   "source": [
    "# Laboratorio 3. Práctica 1 - Implementación de modelos neuronales\n",
    "# supervisados\n",
    "## Preparación de entorno\n",
    "### Gonzalo de las Heras\n",
    "### Jorge de la Fuente\n",
    "#### Importar librerías de código"
   ]
  },
  {
   "cell_type": "code",
   "execution_count": 1,
   "metadata": {},
   "outputs": [
    {
     "name": "stdout",
     "output_type": "stream",
     "text": [
      "Once deleted, variables cannot be recovered. Proceed (y/[n])? y\n"
     ]
    },
    {
     "name": "stderr",
     "output_type": "stream",
     "text": [
      "Using TensorFlow backend.\n"
     ]
    }
   ],
   "source": [
    "# Aquí se importan las librerias que se van a utiliar\n",
    "\n",
    "%reset\n",
    "\n",
    "import numpy as np\n",
    "import pandas as pd\n",
    "from keras.models import Sequential\n",
    "from keras.layers import Dense\n",
    "from keras.utils import plot_model\n",
    "import keras.optimizers\n",
    "import matplotlib.pyplot as plt\n",
    "\n",
    "%matplotlib inline"
   ]
  },
  {
   "cell_type": "code",
   "execution_count": null,
   "metadata": {
    "collapsed": true
   },
   "outputs": [],
   "source": [
    "# Obtención del fichero de datos de entrenamiento y validación\n",
    "datos = pd.read_csv('../Datos/got.csv')\n",
    "\n",
    "# Recolección de información de entrada para la red neuronal (especificada en el enunciado)\n",
    "clase    = datos.loc[:,'PClass']\n",
    "sexo     = datos.loc[:,'Sex']\n",
    "edad     = datos.loc[:,'Age']\n",
    "tarifa   = datos.loc[:,'Fare']\n",
    "cubierta = datos.loc[:,'Embarked']\n",
    " \n",
    "# Unión de la información de entrada\n",
    "entrada = np.array([[clase],[sexo],[edad],[tarifa],[cubierta]])\n",
    "\n",
    "# Recolocación\n",
    "entrada = entrada.transpose().reshape(1946, 10)\n",
    "\n",
    "# Recolección de la salida esperada de la red neuronal\n",
    "salida_esperada = np.array(datos.loc[:,'alive'])\n",
    "\n",
    "# Conjunto entrenamiento\n",
    "entrada_entrenamiento = entrada[:1750,:]\n",
    "salida_entrenamiento = salida_esperada[:1750]\n",
    "\n",
    "# Conjunto validación\n",
    "entrada_validacion = entrada[1750:,:]\n",
    "salida_validacion = salida_esperada[1750:]"
   ]
  }
 ],
 "metadata": {
  "kernelspec": {
   "display_name": "Python 3",
   "language": "python",
   "name": "python3"
  },
  "language_info": {
   "codemirror_mode": {
    "name": "ipython",
    "version": 3
   },
   "file_extension": ".py",
   "mimetype": "text/x-python",
   "name": "python",
   "nbconvert_exporter": "python",
   "pygments_lexer": "ipython3",
   "version": "3.6.3"
  }
 },
 "nbformat": 4,
 "nbformat_minor": 2
}
