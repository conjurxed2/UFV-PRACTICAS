{
 "cells": [
  {
   "cell_type": "markdown",
   "metadata": {},
   "source": [
    "# Laboratorio 4. Práctica 1 - Algoritmo Genético con mutaciones\n",
    "## Preparación de entorno\n",
    "### Gonzalo de las Heras\n",
    "### Jorge de la Fuente"
   ]
  },
  {
   "cell_type": "markdown",
   "metadata": {},
   "source": [
    "#### Importar librerías de código"
   ]
  },
  {
   "cell_type": "code",
   "execution_count": 7,
   "metadata": {},
   "outputs": [],
   "source": [
    "import numpy as np\n",
    "import pandas as pd\n",
    "import math\n",
    "import matplotlib.pyplot as plt\n",
    "import sys\n",
    "\n",
    "from math import e\n",
    "from time import time"
   ]
  },
  {
   "cell_type": "markdown",
   "metadata": {},
   "source": [
    "#### Parámetros del algoritmo genérico"
   ]
  },
  {
   "cell_type": "code",
   "execution_count": 9,
   "metadata": {},
   "outputs": [],
   "source": [
    "Target = \"GONZALO\" \n",
    "NPOB = 4\n",
    "NGEN = 1000\n",
    "Q = 0.95\n",
    "NRES = 10\n",
    "NSAMPLE = 10\n",
    "\n",
    "if NPOB % 4 != 0:\n",
    "    sys.exit(\"Error: La población no es múltiplo de 4.\")"
   ]
  },
  {
   "cell_type": "code",
   "execution_count": 10,
   "metadata": {},
   "outputs": [],
   "source": [
    "# No tocar\n",
    "ITAR_TARGET = len(Target)\n",
    "T_Inicio = 0\n",
    "T_Final = 0\n",
    "T_TOTAL = 0\n",
    "Parada = 0\n",
    "Terminar_Evolucion = 0\n",
    "NumPadres = NPOB % 4\n",
    "\n",
    "Stats_num_coincidencias_max = np.zeros(1) \n",
    "Stats_num_coincidencias_max_porcentaje = np.zeros(1) \n",
    "Stats_num_coincidencias_medio = np.zeros(1)  \n",
    "Stats_num_coincidencias_medio_porcentaje = np.zeros(1) \n",
    "Stats_num_targets = np.zeros(1) \n",
    "Stats_num_targets_porcentaje = np.zeros(1) "
   ]
  },
  {
   "cell_type": "markdown",
   "metadata": {},
   "source": [
    "#### Variables globales"
   ]
  },
  {
   "cell_type": "code",
   "execution_count": 23,
   "metadata": {},
   "outputs": [],
   "source": [
    "Alfabeto = np.array([\"A\",\"B\",\"C\",\"D\",\"E\",\"F\",\"G\",\"H\",\"I\",\n",
    "                     \"J\",\"K\",\"L\",\"M\",\"N\",\"Ñ\",\"O\",\"P\",\"Q\",\n",
    "                     \"R\",\"S\",\"T\",\"U\",\"V\",\"W\",\"X\",\"Y\",\"Z\",\" \"])\n",
    "Poblacion = None\n",
    "Fitness = np.zeros(NPOB)\n",
    "Coincidencias = np.zeros(NPOB)\n",
    "Generacion_Actual = 1\n",
    "Num_Coincidencias_Max = 0"
   ]
  },
  {
   "cell_type": "markdown",
   "metadata": {},
   "source": [
    "#### Funciones auxiliares"
   ]
  },
  {
   "cell_type": "code",
   "execution_count": 14,
   "metadata": {},
   "outputs": [],
   "source": [
    "def GenerarPoblacion():    \n",
    "    # Números aleatorios\n",
    "    poblacion_numeros = np.random.randint(0, len(Alfabeto), size=len(Target) * NPOB)\n",
    "    \n",
    "    # Creación del array de la poblacion con caracter \"_\"\n",
    "    poblacion = np.array(['_' for _ in range(len(Target) * NPOB)])\n",
    "    \n",
    "    # Cambiamos los números por las letras del alfabeto\n",
    "    for i in range(0, len(Target) * NPOB):\n",
    "        letra = Alfabeto[poblacion_numeros[i]].encode('utf8', 'ignore').decode('utf8')\n",
    "        poblacion[i] = letra\n",
    "        \n",
    "    # Devuelve la array de la población con el shape correcto\n",
    "    return poblacion.reshape(NPOB, len(Target))"
   ]
  },
  {
   "cell_type": "code",
   "execution_count": null,
   "metadata": {},
   "outputs": [],
   "source": [
    "def CalcularFitnessFrase(Frase):\n",
    "    num_coincidencias = 0\n",
    "    \n",
    "    # Recorremos toda la frase buscando coincidencias con la frase TARGET\n",
    "    for i in range(0, ITAR_TARGET):\n",
    "        if (Target[i] == Frase[i]):\n",
    "            num_coincidencias += 1\n",
    "            \n",
    "    # Devuelve el fitness (sin normalizar) y el número de coincidencias\n",
    "    return e**(num_coincidencias - ITAR_TARGET) - e **(-1 * ITAR_TARGET), num_coincidencias"
   ]
  },
  {
   "cell_type": "code",
   "execution_count": null,
   "metadata": {},
   "outputs": [],
   "source": [
    "def CalcularFitnessNormalizadoPoblacion():\n",
    "    \n",
    "    # Cálculo del fitness    \n",
    "    for i in range(0, NPOB):\n",
    "        Fitness[i], Coincidencias[i] = CalcularFitnessFrase(Poblacion[i])\n",
    "        \n",
    "    # Cálculo del fitness normalizado    \n",
    "    Num_Coincidencias_Max = np.max(Coincidencias)    \n",
    "    \n",
    "    for i in range(0, NPOB):\n",
    "        Fitness[i] = Fitness[i] / (e**(Num_Coincidencias_Max - ITAR_TARGET) - e **(-1 * ITAR_TARGET))"
   ]
  },
  {
   "cell_type": "code",
   "execution_count": null,
   "metadata": {},
   "outputs": [],
   "source": [
    "def Replicar(Indice_Individuo):\n",
    "    # Seleccionamos un individuo al azar para ser borrado\n",
    "    indice_individuo_a_borrar = np.random.randint(0, NPOB)\n",
    "    \n",
    "    # Copiamos el cromosoma al nuevo individuo teniendo en cuenta el factor de calidad\n",
    "    for i in range(0, ITAR_TARGET):\n",
    "        if np.random.uniform(0, 1) > Q:\n",
    "            # Mutación\n",
    "            Poblacion[indice_individuo_a_borrar][i] = Alfabeto[np.random.randint(0, len(Alfabeto))]\n",
    "        else:\n",
    "            # Copia exacta\n",
    "            Poblacion[indice_individuo_a_borrar][i] = Poblacion[Indice_Individuo][i]"
   ]
  },
  {
   "cell_type": "code",
   "execution_count": null,
   "metadata": {},
   "outputs": [],
   "source": [
    "def ImprimirCromosoma(Cromosoma):\n",
    "    texto = \"\"\n",
    "    for i in range(0, len(Cromosoma)):\n",
    "        texto += Cromosoma[i]\n",
    "    return texto"
   ]
  },
  {
   "cell_type": "code",
   "execution_count": null,
   "metadata": {},
   "outputs": [],
   "source": [
    "def GetCromosomasPerfectos():\n",
    "    indices_cromosomas_perfectos = np.where(Coincidencias==ITAR_TARGET)[0]\n",
    "    print(\"-----------------------------------------\")\n",
    "    print(\"Cromosoma objetivo: (\" + Target + \")\")\n",
    "    print(\"-----------------------------------------\")\n",
    "    print(\"En la población hay (\", len(indices_cromosomas_perfectos), \") individuos perfectos.\")\n",
    "    print(\"-----------------------------------------\")\n",
    "    print(\"Son:\")\n",
    "    print(\"-----------------------------------------\")   \n",
    "    for i in range(0, len(indices_cromosomas_perfectos)):\n",
    "        print(\"#\", indices_cromosomas_perfectos[i], \"Cromosoma: \")\n",
    "        ImprimirCromosoma(Poblacion[indices_cromosomas_perfectos[i]])\n",
    "        print(\"-----------------------------------------\")   "
   ]
  },
  {
   "cell_type": "code",
   "execution_count": null,
   "metadata": {},
   "outputs": [],
   "source": [
    "def GetPadres():\n",
    "    fitness_array = np.array(Fitness, copy=True)  \n",
    "    padres = np.zeros(NumPadres)\n",
    "    \n",
    "    for i in range(0, len(padres)):\n",
    "        padres[i] = np.argmax(fitness_array)\n",
    "        fitness_array[padres[i]] = -1\n",
    "    return padres"
   ]
  },
  {
   "cell_type": "code",
   "execution_count": null,
   "metadata": {},
   "outputs": [],
   "source": [
    "def EvolucionarPoblacion():\n",
    "    \n",
    "    \n",
    "    \n",
    "    # Individuo al azar\n",
    "    primer_individuo = np.random.randint(0, NPOB)\n",
    "    \n",
    "    # Recorrido 1, primer_induviduo hasta el final de la población    \n",
    "    for i in range(primer_individuo, NPOB):\n",
    "        if Fitness[i] >= np.random.uniform(0, 1):\n",
    "            # Se replica\n",
    "            Replicar(i)\n",
    "            CalcularFitnessNormalizadoPoblacion()\n",
    "            \n",
    "    # Recorrido 2, el inicio de la población hasta primer_induviduo     \n",
    "    for i in range(0, primer_individuo):\n",
    "        if Fitness[i] >= np.random.uniform(0, 1):\n",
    "            # Se replica\n",
    "            Replicar(i)     \n",
    "            CalcularFitnessNormalizadoPoblacion()"
   ]
  },
  {
   "cell_type": "code",
   "execution_count": null,
   "metadata": {},
   "outputs": [],
   "source": [
    "def ImprimirReporte(Generacion_Actual):\n",
    "    \n",
    "    global Stats_num_coincidencias_max\n",
    "    global Stats_num_coincidencias_max_porcentaje\n",
    "    \n",
    "    global Stats_num_coincidencias_medio\n",
    "    global Stats_num_coincidencias_medio_porcentaje\n",
    "    \n",
    "    global Stats_num_targets\n",
    "    global Stats_num_targets_porcentaje\n",
    "    \n",
    "    num_coincidencias_max = int(round(np.max(Coincidencias), 0))\n",
    "    num_coincidencias_max_porcentaje = int(round((num_coincidencias_max * 100) / ITAR_TARGET, 0))\n",
    "    \n",
    "    num_coincidencias_medio = int(round(np.mean(Coincidencias), 0))\n",
    "    num_coincidencias_medio_porcentaje = int(round((num_coincidencias_medio * 100) / ITAR_TARGET, 0))   \n",
    "                                        \n",
    "    num_targets = len(np.where(Coincidencias==ITAR_TARGET)[0])\n",
    "    num_targets_porcentaje = int(round((num_targets / NPOB) * 100, 0))\n",
    "    \n",
    "    Stats_num_coincidencias_max = np.append(Stats_num_coincidencias_max, num_coincidencias_max)\n",
    "    Stats_num_coincidencias_max_porcentaje = np.append(Stats_num_coincidencias_max_porcentaje, num_coincidencias_max_porcentaje)\n",
    "    \n",
    "    Stats_num_coincidencias_medio = np.append(Stats_num_coincidencias_medio, num_coincidencias_medio)\n",
    "    Stats_num_coincidencias_medio_porcentaje = np.append(Stats_num_coincidencias_medio_porcentaje, num_coincidencias_medio_porcentaje)\n",
    "    \n",
    "    Stats_num_targets = np.append(Stats_num_targets, num_targets)\n",
    "    Stats_num_targets_porcentaje = np.append(Stats_num_targets_porcentaje, num_targets_porcentaje)   \n",
    "    \n",
    "    print(\"==================================================\")\n",
    "    print(\"==================================================\")\n",
    "    print(\"= Target: \", Target)\n",
    "    print(\"= Longitud Target: \", ITAR_TARGET)\n",
    "    print(\"= Longitud Poblacion: \", NPOB)\n",
    "    print(\"= Número Generaciones: \", NGEN)\n",
    "    print(\"= Factor de Calidad: \", Q)\n",
    "    print(\"==================================================\")\n",
    "    print(\"= Generacion Actual: \", Generacion_Actual)\n",
    "    print(\"= Mejor Individuo: \", ImprimirCromosoma(Poblacion[np.argmax(Coincidencias)]))\n",
    "    print(\"= Nº Coincidencias máximo: \", num_coincidencias_max, \" - \", num_coincidencias_max_porcentaje, \"%\")\n",
    "    print(\"= Nº Coincidencias medio: \", num_coincidencias_medio, \" - \", num_coincidencias_medio_porcentaje, \"%\")\n",
    "    print(\"= Nº Targets: \", num_targets, \" - \", num_targets_porcentaje, \"%\") \n",
    "    print(\"==================================================\")\n",
    "    print(\"==================================================\")\n",
    "    print(\"\\n\")"
   ]
  },
  {
   "cell_type": "code",
   "execution_count": null,
   "metadata": {},
   "outputs": [],
   "source": [
    "def ComprobarCriterioDeParada(Terminar_Evolucion_Num):\n",
    "    num_targets = len(np.where(Coincidencias==ITAR_TARGET)[0])\n",
    "    num_targets_porcentaje = int(round((num_targets / NPOB) * 100, 0))   \n",
    "    \n",
    "    if num_targets_porcentaje >= 20:\n",
    "        Terminar_Evolucion_Num += 1\n",
    "    elif Terminar_Evolucion_Num == 1:\n",
    "        Terminar_Evolucion_Num = 0\n",
    "    return Terminar_Evolucion_Num    "
   ]
  },
  {
   "cell_type": "code",
   "execution_count": null,
   "metadata": {},
   "outputs": [],
   "source": [
    "def ImprimirGraficas():\n",
    "    plt.plot(Stats_num_coincidencias_max, label='num_coincidencias_max')\n",
    "    plt.plot(Stats_num_coincidencias_medio, label='num_coincidencias_medio')\n",
    "    plt.legend(loc='upper left')\n",
    "    plt.show()\n",
    "    \n",
    "    plt.plot(Stats_num_coincidencias_max_porcentaje, label='num_coincidencias_max_porcentaje')\n",
    "    plt.plot(Stats_num_coincidencias_medio_porcentaje, label='num_coincidencias_medio_porcentaje')\n",
    "    plt.plot(Stats_num_targets_porcentaje, label='num_targets_porcentaje')\n",
    "    plt.legend(loc='upper left')\n",
    "    plt.show()"
   ]
  },
  {
   "cell_type": "markdown",
   "metadata": {},
   "source": [
    "#### Programa principal"
   ]
  },
  {
   "cell_type": "code",
   "execution_count": null,
   "metadata": {
    "scrolled": true
   },
   "outputs": [],
   "source": [
    "T_Inicio = time()\n",
    "\n",
    "print(\"Inicio del algorimo genético\\n\")\n",
    "\n",
    "Poblacion = GenerarPoblacion()\n",
    "CalcularFitnessNormalizadoPoblacion()\n",
    "\n",
    "while(Terminar_Evolucion != 2 and Generacion_Actual < NGEN):\n",
    "\n",
    "    if Generacion_Actual % NRES == 0:\n",
    "        ImprimirReporte(Generacion_Actual)\n",
    "    \n",
    "    EvolucionarPoblacion()\n",
    "            \n",
    "    Generacion_Actual += 1\n",
    "    \n",
    "    Terminar_Evolucion = ComprobarCriterioDeParada(Terminar_Evolucion)\n",
    "\n",
    "ImprimirReporte(Generacion_Actual) \n",
    "    \n",
    "T_Final = time()\n",
    "T_TOTAL = T_Final - T_Inicio"
   ]
  },
  {
   "cell_type": "code",
   "execution_count": null,
   "metadata": {},
   "outputs": [],
   "source": [
    "ImprimirGraficas()"
   ]
  },
  {
   "cell_type": "code",
   "execution_count": null,
   "metadata": {},
   "outputs": [],
   "source": [
    "print(\"Tiempo de ejecución del algoritmo: \", round(T_TOTAL, 1), \"s\")\n",
    "GetCromosomasPerfectos()"
   ]
  },
  {
   "cell_type": "code",
   "execution_count": null,
   "metadata": {},
   "outputs": [],
   "source": [
    "print(Stats_num_targets)"
   ]
  }
 ],
 "metadata": {
  "kernelspec": {
   "display_name": "Python 3",
   "language": "python",
   "name": "python3"
  },
  "language_info": {
   "codemirror_mode": {
    "name": "ipython",
    "version": 3
   },
   "file_extension": ".py",
   "mimetype": "text/x-python",
   "name": "python",
   "nbconvert_exporter": "python",
   "pygments_lexer": "ipython3",
   "version": "3.6.3"
  }
 },
 "nbformat": 4,
 "nbformat_minor": 2
}
